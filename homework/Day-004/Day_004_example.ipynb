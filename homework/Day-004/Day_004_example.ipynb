{
 "cells": [
  {
   "cell_type": "markdown",
   "metadata": {},
   "source": [
    "# Julia 數值系統介紹\n",
    "\n",
    "Julia 數值系統型別 (Type) 階層，其最上層的父型別是 `Any`，也是 Julia 所有型別的父型別。數值系統的最上層父型別為 `Number`。\n",
    "\n",
    "![](./Julia_Number.png)"
   ]
  },
  {
   "cell_type": "markdown",
   "metadata": {},
   "source": [
    "## 1. 整數 (Integer)\n",
    "\n",
    "整數是數值系統中最基本的型別，分為有正負號 (signed) 與無正負號 (unsigned) 整數型別，其最大和最小值也不同。\n",
    "\n",
    "|是否有正負號|型別|<div style=\"width:120px\">最大值</div>|<div style=\"width:120px\">最小值</div>|\n",
    "|---|---|---|---|\n",
    "|有|Int128, Int64, Int32, Int16, Int8|$2^{位元數-1}-1$|$-2^{位元數-1}$|\n",
    "|無|UInt128, UInt64, UInt32, UInt16, UInt8|$2^{位元數}-1$|$0$|\n",
    "\n",
    "\n",
    "### 1.1 範圍\n",
    "\n",
    "下面範例是呼叫 `typemax()` 與 `typemin()` 函式查看 Int64 型別的最大值和最小值。"
   ]
  },
  {
   "cell_type": "code",
   "execution_count": 4,
   "metadata": {},
   "outputs": [
    {
     "name": "stdout",
     "output_type": "stream",
     "text": [
      "Int64  : 最小值 -9223372036854775808, 最大值 9223372036854775807\n"
     ]
    }
   ],
   "source": [
    "println(\"$(rpad(Int64,7)): 最小值 $(typemin(Int64)), 最大值 $(typemax(Int64))\")"
   ]
  },
  {
   "cell_type": "markdown",
   "metadata": {},
   "source": [
    "`BigInt` 型別是任意精度 (Arbitrary Precision)，若要呼叫 `typemax()` 或 `typemin()` 則會產生錯誤。"
   ]
  },
  {
   "cell_type": "code",
   "execution_count": 5,
   "metadata": {},
   "outputs": [
    {
     "ename": "MethodError",
     "evalue": "MethodError: no method matching typemax(::Type{BigInt})\nClosest candidates are:\n  typemax(!Matched::Type{Bool}) at bool.jl:7\n  typemax(!Matched::Type{Int8}) at int.jl:652\n  typemax(!Matched::Type{UInt8}) at int.jl:654\n  ...",
     "output_type": "error",
     "traceback": [
      "MethodError: no method matching typemax(::Type{BigInt})\nClosest candidates are:\n  typemax(!Matched::Type{Bool}) at bool.jl:7\n  typemax(!Matched::Type{Int8}) at int.jl:652\n  typemax(!Matched::Type{UInt8}) at int.jl:654\n  ...",
      "",
      "Stacktrace:",
      " [1] top-level scope at In[5]:1"
     ]
    }
   ],
   "source": [
    "typemax(BigInt)"
   ]
  },
  {
   "cell_type": "code",
   "execution_count": 6,
   "metadata": {},
   "outputs": [
    {
     "ename": "MethodError",
     "evalue": "MethodError: no method matching typemin(::Type{BigInt})\nClosest candidates are:\n  typemin(!Matched::Type{Bool}) at bool.jl:6\n  typemin(!Matched::Type{Int8}) at int.jl:651\n  typemin(!Matched::Type{UInt8}) at int.jl:653\n  ...",
     "output_type": "error",
     "traceback": [
      "MethodError: no method matching typemin(::Type{BigInt})\nClosest candidates are:\n  typemin(!Matched::Type{Bool}) at bool.jl:6\n  typemin(!Matched::Type{Int8}) at int.jl:651\n  typemin(!Matched::Type{UInt8}) at int.jl:653\n  ...",
      "",
      "Stacktrace:",
      " [1] top-level scope at In[6]:1"
     ]
    }
   ],
   "source": [
    "typemin(BigInt)"
   ]
  },
  {
   "cell_type": "markdown",
   "metadata": {},
   "source": [
    "### 1.2 使用與宣告變數\n",
    "\n",
    "Julia 會自動判斷適用的整數值型別，十進位的值會自動指定為有正負號的整數，預設的位數是以作業系統位元數為準，例如 64 位元的作業系統就會自動採用 `Int64` 型別。(註: 在不影響位元數的情況下，也就是未超過型別的最大值，且未指定型別。)\n",
    "\n",
    "若超過 `Int64` 最大值時，Julia 會自動判斷並將型別定為 `Int128`。"
   ]
  },
  {
   "cell_type": "code",
   "execution_count": 7,
   "metadata": {},
   "outputs": [
    {
     "data": {
      "text/plain": [
       "64"
      ]
     },
     "execution_count": 7,
     "metadata": {},
     "output_type": "execute_result"
    }
   ],
   "source": [
    "# 查看內部變數 Sys.WORD_SIZE，顯示作業系統為 32-bit 或 64-bit。\n",
    "Sys.WORD_SIZE"
   ]
  },
  {
   "cell_type": "code",
   "execution_count": 8,
   "metadata": {},
   "outputs": [
    {
     "data": {
      "text/plain": [
       "Int64"
      ]
     },
     "execution_count": 8,
     "metadata": {},
     "output_type": "execute_result"
    }
   ],
   "source": [
    "x = 3\n",
    "typeof(x)"
   ]
  },
  {
   "cell_type": "markdown",
   "metadata": {},
   "source": [
    "使用 `length()` 加上 `bitstring()` 函式可以看到不同整數型別的位元數。"
   ]
  },
  {
   "cell_type": "code",
   "execution_count": 25,
   "metadata": {},
   "outputs": [
    {
     "data": {
      "text/plain": [
       "64"
      ]
     },
     "execution_count": 25,
     "metadata": {},
     "output_type": "execute_result"
    }
   ],
   "source": [
    "length(bitstring(x))"
   ]
  },
  {
   "cell_type": "code",
   "execution_count": 38,
   "metadata": {},
   "outputs": [
    {
     "name": "stdout",
     "output_type": "stream",
     "text": [
      "Int64 的位元組數是: 8\n"
     ]
    }
   ],
   "source": [
    "println(\"Int64 的位元組數是: \", sizeof(x))"
   ]
  },
  {
   "cell_type": "markdown",
   "metadata": {},
   "source": [
    "若是十六進位、八進位、二進位的整數值，則可以將 `0x`, `0o`, `0b` 放在數值之前，代表不同的進位制。下面的例子是十進位制的 20 在不同進位制的宣告。\n",
    "\n",
    "須留意十六進位、八進位、二進位之英文字母均需小寫。"
   ]
  },
  {
   "cell_type": "code",
   "execution_count": 39,
   "metadata": {},
   "outputs": [
    {
     "data": {
      "text/plain": [
       "20"
      ]
     },
     "execution_count": 39,
     "metadata": {},
     "output_type": "execute_result"
    }
   ],
   "source": [
    "# 十進位\n",
    "20"
   ]
  },
  {
   "cell_type": "code",
   "execution_count": 40,
   "metadata": {},
   "outputs": [
    {
     "data": {
      "text/plain": [
       "0x14"
      ]
     },
     "execution_count": 40,
     "metadata": {},
     "output_type": "execute_result"
    }
   ],
   "source": [
    "# 十六進位\n",
    "0x14"
   ]
  },
  {
   "cell_type": "code",
   "execution_count": 41,
   "metadata": {},
   "outputs": [
    {
     "data": {
      "text/plain": [
       "0x14"
      ]
     },
     "execution_count": 41,
     "metadata": {},
     "output_type": "execute_result"
    }
   ],
   "source": [
    "# 八進位\n",
    "0o24"
   ]
  },
  {
   "cell_type": "markdown",
   "metadata": {},
   "source": [
    "上面有提到，十進位的整數會自動判斷為有 signed 整數，但是十六/八/二進位則會自動判斷為 unsigned。"
   ]
  },
  {
   "cell_type": "code",
   "execution_count": 43,
   "metadata": {},
   "outputs": [
    {
     "data": {
      "text/plain": [
       "UInt8"
      ]
     },
     "execution_count": 43,
     "metadata": {},
     "output_type": "execute_result"
    }
   ],
   "source": [
    "typeof(0x14)"
   ]
  },
  {
   "cell_type": "markdown",
   "metadata": {},
   "source": [
    "### 1.3 指定型別與轉換\n",
    "\n",
    "型別的指定，只要在宣告時加上型別名稱即可。以下例來說，如果沒有指定的話，型別會是 `Int64`。"
   ]
  },
  {
   "cell_type": "code",
   "execution_count": 44,
   "metadata": {},
   "outputs": [
    {
     "data": {
      "text/plain": [
       "Int128"
      ]
     },
     "execution_count": 44,
     "metadata": {},
     "output_type": "execute_result"
    }
   ],
   "source": [
    "y = Int128(3)\n",
    "typeof(y)"
   ]
  },
  {
   "cell_type": "code",
   "execution_count": 45,
   "metadata": {},
   "outputs": [
    {
     "data": {
      "text/plain": [
       "128"
      ]
     },
     "execution_count": 45,
     "metadata": {},
     "output_type": "execute_result"
    }
   ],
   "source": [
    "length(bitstring(y))"
   ]
  },
  {
   "cell_type": "markdown",
   "metadata": {},
   "source": [
    "#### `signed()` 或 `unsigned()`\n",
    "\n",
    "有無正負號的轉換，可以透過 `signed()` 或 `unsigned()` 來進行。下面的例子就可以看到我們把 `Int64` 轉換為 `UInt64` 型別。"
   ]
  },
  {
   "cell_type": "code",
   "execution_count": 50,
   "metadata": {},
   "outputs": [
    {
     "data": {
      "text/plain": [
       "UInt64"
      ]
     },
     "execution_count": 50,
     "metadata": {},
     "output_type": "execute_result"
    }
   ],
   "source": [
    "typeof(unsigned(20))"
   ]
  },
  {
   "cell_type": "markdown",
   "metadata": {},
   "source": [
    "將 `UInt32` 轉為 `Int32`。"
   ]
  },
  {
   "cell_type": "code",
   "execution_count": 51,
   "metadata": {},
   "outputs": [
    {
     "data": {
      "text/plain": [
       "Int32"
      ]
     },
     "execution_count": 51,
     "metadata": {},
     "output_type": "execute_result"
    }
   ],
   "source": [
    "typeof(signed(UInt32(20)))"
   ]
  },
  {
   "cell_type": "markdown",
   "metadata": {},
   "source": [
    "要留意的是，`signed()` 轉換時，若造成轉換後溢位 (overflow)，系統並不會顯示錯誤。"
   ]
  },
  {
   "cell_type": "code",
   "execution_count": 76,
   "metadata": {},
   "outputs": [
    {
     "data": {
      "text/plain": [
       "-1"
      ]
     },
     "execution_count": 76,
     "metadata": {},
     "output_type": "execute_result"
    }
   ],
   "source": [
    "x = typemax(UInt8) # UInt8 最大值為 255\n",
    "signed(x) # 由於 Int8 的最大值為 127，所以轉換後會造成 overflow"
   ]
  },
  {
   "cell_type": "markdown",
   "metadata": {},
   "source": [
    "#### `BigInt`\n",
    "\n",
    "`BigInt` 可以用在當型別要超出精度時 (例如最大值加 1 或是最小值 - 1)，避免因此而造成溢位 (overflow)。"
   ]
  },
  {
   "cell_type": "code",
   "execution_count": 94,
   "metadata": {},
   "outputs": [
    {
     "data": {
      "text/plain": [
       "-9223372036854775808"
      ]
     },
     "execution_count": 94,
     "metadata": {},
     "output_type": "execute_result"
    }
   ],
   "source": [
    "# 溢位，結果為負數\n",
    "typemax(Int64) + 1"
   ]
  },
  {
   "cell_type": "markdown",
   "metadata": {},
   "source": [
    "`BigInt` 必須明確 (explicitly) 宣告，無法自動被 promote。轉換為 `BigInt` 後就不會造成溢位了。"
   ]
  },
  {
   "cell_type": "code",
   "execution_count": 100,
   "metadata": {},
   "outputs": [
    {
     "data": {
      "text/plain": [
       "9223372036854775808"
      ]
     },
     "execution_count": 100,
     "metadata": {},
     "output_type": "execute_result"
    }
   ],
   "source": [
    "BigInt(typemax(Int64)) + 1"
   ]
  },
  {
   "cell_type": "markdown",
   "metadata": {},
   "source": [
    "### 1.4 Division Error\n",
    "\n",
    "相除取整數 (integer divide; 運算子為 $\\div$) 時，若是將整數 $\\div$ 零，會產生 `DivideError`。\n",
    "\n",
    "有關於運算及運算子，會在未來的內容中進行詳細介紹。"
   ]
  },
  {
   "cell_type": "code",
   "execution_count": 101,
   "metadata": {},
   "outputs": [
    {
     "ename": "DivideError",
     "evalue": "DivideError: integer division error",
     "output_type": "error",
     "traceback": [
      "DivideError: integer division error",
      "",
      "Stacktrace:",
      " [1] div(::Int64, ::Int64) at .\\int.jl:230",
      " [2] top-level scope at In[101]:1"
     ]
    }
   ],
   "source": [
    "3 ÷ 0"
   ]
  },
  {
   "cell_type": "markdown",
   "metadata": {},
   "source": [
    "但是除法 (divide) 的分母可以為 0，其結果為無窮大。"
   ]
  },
  {
   "cell_type": "code",
   "execution_count": 104,
   "metadata": {},
   "outputs": [
    {
     "data": {
      "text/plain": [
       "Inf"
      ]
     },
     "execution_count": 104,
     "metadata": {},
     "output_type": "execute_result"
    }
   ],
   "source": [
    "3 / 0"
   ]
  },
  {
   "cell_type": "markdown",
   "metadata": {},
   "source": [
    "## 2. 布林值 (Bool)\n",
    "\n",
    "布林值是用 `true` 或 `false` 保留字來代表邏輯判斷的\"真\"或\"假\"。\n",
    "\n",
    "在型別系統上，`Bool` 是 `Integer` 的子型別。如果用 `bitstring()` 來查看的話，會發現 `true` / `false` 內部是以 `Int8` 型別表達。"
   ]
  },
  {
   "cell_type": "code",
   "execution_count": 112,
   "metadata": {},
   "outputs": [
    {
     "data": {
      "text/plain": [
       "(\"00000001\", \"00000000\")"
      ]
     },
     "execution_count": 112,
     "metadata": {},
     "output_type": "execute_result"
    }
   ],
   "source": [
    "bitstring(true), bitstring(false)"
   ]
  },
  {
   "cell_type": "markdown",
   "metadata": {},
   "source": [
    "### 轉換\n",
    "\n",
    "`Bool` 可以與整數型別進行互相轉換。"
   ]
  },
  {
   "cell_type": "code",
   "execution_count": 113,
   "metadata": {},
   "outputs": [
    {
     "data": {
      "text/plain": [
       "(1, 0)"
      ]
     },
     "execution_count": 113,
     "metadata": {},
     "output_type": "execute_result"
    }
   ],
   "source": [
    "# Bool 轉為整數，只要是整數型別都可以\n",
    "Int(true), Int8(false)"
   ]
  },
  {
   "cell_type": "code",
   "execution_count": 116,
   "metadata": {},
   "outputs": [
    {
     "data": {
      "text/plain": [
       "(true, false)"
      ]
     },
     "execution_count": 116,
     "metadata": {},
     "output_type": "execute_result"
    }
   ],
   "source": [
    "# 整數轉為 Bool\n",
    "Bool(Int64(1)), Bool(0)"
   ]
  },
  {
   "cell_type": "markdown",
   "metadata": {},
   "source": [
    "若嘗試將非 1 / 0 的整數值轉為 `Bool`，則會產生 `InexactError` 錯誤。"
   ]
  },
  {
   "cell_type": "code",
   "execution_count": 117,
   "metadata": {},
   "outputs": [
    {
     "ename": "InexactError",
     "evalue": "InexactError: Bool(10)",
     "output_type": "error",
     "traceback": [
      "InexactError: Bool(10)",
      "",
      "Stacktrace:",
      " [1] Bool(::Int64) at .\\float.jl:73",
      " [2] top-level scope at In[117]:1"
     ]
    }
   ],
   "source": [
    "Bool(10)"
   ]
  },
  {
   "cell_type": "markdown",
   "metadata": {},
   "source": [
    "跟有些程式語言不同的是，在 Julia 中不能用 1 / 0 整數值來取代 `true` / `false`，會造成 `TypeError` 錯誤。"
   ]
  },
  {
   "cell_type": "code",
   "execution_count": 118,
   "metadata": {},
   "outputs": [
    {
     "ename": "TypeError",
     "evalue": "TypeError: non-boolean (Int64) used in boolean context",
     "output_type": "error",
     "traceback": [
      "TypeError: non-boolean (Int64) used in boolean context",
      "",
      "Stacktrace:",
      " [1] top-level scope at .\\In[118]:1"
     ]
    }
   ],
   "source": [
    "while 1\n",
    "    println(\"true\")\n",
    "end"
   ]
  },
  {
   "cell_type": "markdown",
   "metadata": {},
   "source": [
    "## 3. 浮點數 (Floating Point)\n",
    "\n",
    "浮點數沒有 signed / unsigned 的區分，而是分為不同的精度。\n",
    "\n",
    "|型別|精度|\n",
    "|---|---|\n",
    "|`Float16`|半精度(Half Precision)|\n",
    "|`Float32`|單精度(Single Precision)|\n",
    "|`Float64`|雙精度(Double Precision)|"
   ]
  },
  {
   "cell_type": "markdown",
   "metadata": {},
   "source": [
    "### 3.1 範圍\n",
    "\n",
    "浮點數是實數的子型別，其邊界值為無窮大或負無窮大。\n",
    "\n",
    "|型別|最小值|最大值|\n",
    "|---|---|---|\n",
    "|`Float64`|-Inf|Inf|\n",
    "|`Float32`|-Inf 或 -Inf32|Inf 或 Inf32|\n",
    "|`Float16`|-Inf 或 -Inf16|Inf 或 Inf16|\n",
    "\n",
    "無窮值 (`Inf` 及 `-Inf`) 在 Julia 都是正常的浮點數。下面範例是呼叫 `typemax()` 與 `typemin()` 函式可以查看 Float64 型別的最大值和最小值。"
   ]
  },
  {
   "cell_type": "code",
   "execution_count": 119,
   "metadata": {},
   "outputs": [
    {
     "name": "stdout",
     "output_type": "stream",
     "text": [
      "Float64: 最小值 -Inf, 最大值 Inf\n"
     ]
    }
   ],
   "source": [
    "println(\"$(rpad(Float64,7)): 最小值 $(typemin(Float64)), 最大值 $(typemax(Float64))\")"
   ]
  },
  {
   "cell_type": "code",
   "execution_count": 128,
   "metadata": {},
   "outputs": [
    {
     "data": {
      "text/plain": [
       "Inf16"
      ]
     },
     "execution_count": 128,
     "metadata": {},
     "output_type": "execute_result"
    }
   ],
   "source": [
    "typemax(Float16)"
   ]
  },
  {
   "cell_type": "markdown",
   "metadata": {},
   "source": [
    "### 3.2 宣告\n",
    "\n",
    "下列的方式均可宣告數值為浮點數。"
   ]
  },
  {
   "cell_type": "code",
   "execution_count": 129,
   "metadata": {},
   "outputs": [
    {
     "data": {
      "text/plain": [
       "(1.0, 1.0, 0.5, 0.5, -1.2)"
      ]
     },
     "execution_count": 129,
     "metadata": {},
     "output_type": "execute_result"
    }
   ],
   "source": [
    "1.0, 1., 0.5, .5, -1.2"
   ]
  },
  {
   "cell_type": "markdown",
   "metadata": {},
   "source": [
    "用科學記號的表示方式也可以。"
   ]
  },
  {
   "cell_type": "code",
   "execution_count": 136,
   "metadata": {},
   "outputs": [
    {
     "data": {
      "text/plain": [
       "(1.0e10, 0.001)"
      ]
     },
     "execution_count": 136,
     "metadata": {},
     "output_type": "execute_result"
    }
   ],
   "source": [
    "1.e10, 1.0e-3"
   ]
  },
  {
   "cell_type": "markdown",
   "metadata": {},
   "source": [
    "同樣的，預設的位數是以作業系統位元數為準，例如 64 位元的作業系統就會自動採用 `Float64` 型別。"
   ]
  },
  {
   "cell_type": "code",
   "execution_count": 137,
   "metadata": {},
   "outputs": [
    {
     "data": {
      "text/plain": [
       "Float64"
      ]
     },
     "execution_count": 137,
     "metadata": {},
     "output_type": "execute_result"
    }
   ],
   "source": [
    "typeof(1.)"
   ]
  },
  {
   "cell_type": "markdown",
   "metadata": {},
   "source": [
    "若加上 f0 字串，則是宣告為 `Float32`。"
   ]
  },
  {
   "cell_type": "code",
   "execution_count": 153,
   "metadata": {},
   "outputs": [
    {
     "data": {
      "text/plain": [
       "1.0f0"
      ]
     },
     "execution_count": 153,
     "metadata": {},
     "output_type": "execute_result"
    }
   ],
   "source": [
    "1f0"
   ]
  },
  {
   "cell_type": "code",
   "execution_count": 154,
   "metadata": {},
   "outputs": [
    {
     "data": {
      "text/plain": [
       "Float32"
      ]
     },
     "execution_count": 154,
     "metadata": {},
     "output_type": "execute_result"
    }
   ],
   "source": [
    "# ans 是 Julia 將最後一個值指定給 ans 變數\n",
    "typeof(ans)"
   ]
  },
  {
   "cell_type": "markdown",
   "metadata": {},
   "source": [
    "除了上述 `Inf` 是浮點數外，`NaN` (not a number) 也是屬於特殊浮點數，有 `NaN`, `NaN64`, `NaN32`, `NaN16` 。"
   ]
  },
  {
   "cell_type": "code",
   "execution_count": 157,
   "metadata": {},
   "outputs": [
    {
     "data": {
      "text/plain": [
       "Float64"
      ]
     },
     "execution_count": 157,
     "metadata": {},
     "output_type": "execute_result"
    }
   ],
   "source": [
    "typeof(NaN)"
   ]
  },
  {
   "cell_type": "markdown",
   "metadata": {},
   "source": [
    "浮點數零比較特別，正零與負零均為零，請看下面範例。但是實際上正零與負零的位元內容不相同。"
   ]
  },
  {
   "cell_type": "code",
   "execution_count": 158,
   "metadata": {},
   "outputs": [
    {
     "data": {
      "text/plain": [
       "true"
      ]
     },
     "execution_count": 158,
     "metadata": {},
     "output_type": "execute_result"
    }
   ],
   "source": [
    "0.0 == -0.0"
   ]
  },
  {
   "cell_type": "code",
   "execution_count": 159,
   "metadata": {},
   "outputs": [
    {
     "data": {
      "text/plain": [
       "\"0000000000000000000000000000000000000000000000000000000000000000\""
      ]
     },
     "execution_count": 159,
     "metadata": {},
     "output_type": "execute_result"
    }
   ],
   "source": [
    "bitstring(0.0)"
   ]
  },
  {
   "cell_type": "code",
   "execution_count": 160,
   "metadata": {},
   "outputs": [
    {
     "data": {
      "text/plain": [
       "\"1000000000000000000000000000000000000000000000000000000000000000\""
      ]
     },
     "execution_count": 160,
     "metadata": {},
     "output_type": "execute_result"
    }
   ],
   "source": [
    "bitstring(-0.0)"
   ]
  },
  {
   "cell_type": "markdown",
   "metadata": {},
   "source": [
    "如果要避免混淆，可以透過 `zero()` 函式來宣告零浮點數。\n",
    "\n",
    "`zero()` 函式的用途很廣泛，未來會在相關應用時提供範例。"
   ]
  },
  {
   "cell_type": "code",
   "execution_count": 161,
   "metadata": {},
   "outputs": [
    {
     "data": {
      "text/plain": [
       "0.0"
      ]
     },
     "execution_count": 161,
     "metadata": {},
     "output_type": "execute_result"
    }
   ],
   "source": [
    "zero(Float64)"
   ]
  },
  {
   "cell_type": "code",
   "execution_count": 162,
   "metadata": {},
   "outputs": [
    {
     "data": {
      "text/plain": [
       "\"0000000000000000000000000000000000000000000000000000000000000000\""
      ]
     },
     "execution_count": 162,
     "metadata": {},
     "output_type": "execute_result"
    }
   ],
   "source": [
    "bitstring(ans)"
   ]
  },
  {
   "cell_type": "markdown",
   "metadata": {},
   "source": [
    "### 3.3 指定型別\n",
    "\n",
    "型別的指定，只要在宣告時加上型別名稱即可。"
   ]
  },
  {
   "cell_type": "code",
   "execution_count": 163,
   "metadata": {},
   "outputs": [
    {
     "data": {
      "text/plain": [
       "1.0f0"
      ]
     },
     "execution_count": 163,
     "metadata": {},
     "output_type": "execute_result"
    }
   ],
   "source": [
    "Float32(1.0)"
   ]
  },
  {
   "cell_type": "code",
   "execution_count": 164,
   "metadata": {},
   "outputs": [
    {
     "data": {
      "text/plain": [
       "Float32"
      ]
     },
     "execution_count": 164,
     "metadata": {},
     "output_type": "execute_result"
    }
   ],
   "source": [
    "typeof(ans)"
   ]
  },
  {
   "cell_type": "markdown",
   "metadata": {},
   "source": [
    "### 3.4 $\\epsilon$ (epsilon)\n",
    "\n",
    "Julia 提供了 `eps()` 函式來計算 epsilon。"
   ]
  },
  {
   "cell_type": "code",
   "execution_count": 165,
   "metadata": {},
   "outputs": [
    {
     "data": {
      "text/plain": [
       "2.220446049250313e-16"
      ]
     },
     "execution_count": 165,
     "metadata": {},
     "output_type": "execute_result"
    }
   ],
   "source": [
    "eps()"
   ]
  },
  {
   "cell_type": "code",
   "execution_count": 166,
   "metadata": {},
   "outputs": [
    {
     "data": {
      "text/plain": [
       "2.220446049250313e-16"
      ]
     },
     "execution_count": 166,
     "metadata": {},
     "output_type": "execute_result"
    }
   ],
   "source": [
    "# 預設即為 eps(Float64)\n",
    "eps(Float64)"
   ]
  },
  {
   "cell_type": "markdown",
   "metadata": {},
   "source": [
    "也可以計算某特定數值的 epsilon。"
   ]
  },
  {
   "cell_type": "code",
   "execution_count": 167,
   "metadata": {},
   "outputs": [
    {
     "data": {
      "text/plain": [
       "1.4210854715202004e-14"
      ]
     },
     "execution_count": 167,
     "metadata": {},
     "output_type": "execute_result"
    }
   ],
   "source": [
    "eps(100.0)"
   ]
  },
  {
   "cell_type": "markdown",
   "metadata": {},
   "source": [
    "100.0 的下一個可表現的浮點值如下例。"
   ]
  },
  {
   "cell_type": "code",
   "execution_count": 168,
   "metadata": {},
   "outputs": [
    {
     "data": {
      "text/plain": [
       "100.00000000000001"
      ]
     },
     "execution_count": 168,
     "metadata": {},
     "output_type": "execute_result"
    }
   ],
   "source": [
    "100.0 + eps(100.0)"
   ]
  },
  {
   "cell_type": "markdown",
   "metadata": {},
   "source": [
    "同樣的，我們也可以用 `nextfloat()` 或 `prevfloat()` 來取得下一個或上一個可表現的浮點數值。"
   ]
  },
  {
   "cell_type": "code",
   "execution_count": 171,
   "metadata": {},
   "outputs": [
    {
     "data": {
      "text/plain": [
       "100.00000000000001"
      ]
     },
     "execution_count": 171,
     "metadata": {},
     "output_type": "execute_result"
    }
   ],
   "source": [
    "nextfloat(100.0)"
   ]
  },
  {
   "cell_type": "markdown",
   "metadata": {},
   "source": [
    "### 3.5  Rounding\n",
    "\n",
    "在 Rounding 的方法部分，Julia 是採用 IEEE 754 規範，也就是 `RoundNearest`，取最近的偶數(四捨五取最近偶數)，而非我們一般講的四捨五入。\n",
    "\n",
    "要採用不同的 rounding 方法，可在呼叫 `round()` 函式時加入不同的常數參數，列表如下:\n",
    "\n",
    "|常數|描述|\n",
    "|---|---|\n",
    "|RoundNearest (default)|四捨五取最近偶數(預設)|\n",
    "|RoundNearestTiesAway|四捨五取遠離0|\n",
    "|RoundNearestTiesUp|四捨五入|\n",
    "|RoundToZero|無條件捨去|\n",
    "|RoundFromZero (BigFloat only)|四捨五取遠離0|\n",
    "|RoundUp|無條件進位|\n",
    "|RoundDown|無條件退位|"
   ]
  },
  {
   "cell_type": "code",
   "execution_count": 172,
   "metadata": {},
   "outputs": [
    {
     "data": {
      "text/plain": [
       "1.0"
      ]
     },
     "execution_count": 172,
     "metadata": {},
     "output_type": "execute_result"
    }
   ],
   "source": [
    "round(1.2)"
   ]
  },
  {
   "cell_type": "code",
   "execution_count": 181,
   "metadata": {},
   "outputs": [
    {
     "data": {
      "text/plain": [
       "0.0"
      ]
     },
     "execution_count": 181,
     "metadata": {},
     "output_type": "execute_result"
    }
   ],
   "source": [
    "# 最近的偶數為 0\n",
    "round(0.5)"
   ]
  },
  {
   "cell_type": "code",
   "execution_count": 182,
   "metadata": {},
   "outputs": [
    {
     "data": {
      "text/plain": [
       "(2.0, 2.0)"
      ]
     },
     "execution_count": 182,
     "metadata": {},
     "output_type": "execute_result"
    }
   ],
   "source": [
    "# 最近的偶數為 2\n",
    "round(1.5), round(2.5)"
   ]
  },
  {
   "cell_type": "code",
   "execution_count": 183,
   "metadata": {},
   "outputs": [
    {
     "data": {
      "text/plain": [
       "(2.0, 2.0)"
      ]
     },
     "execution_count": 183,
     "metadata": {},
     "output_type": "execute_result"
    }
   ],
   "source": [
    "# 若要四捨五入, 加上 RoundNearestTiesUp 常數參數\n",
    "round(2.4, RoundNearestTiesUp), round(1.6, RoundNearestTiesUp)"
   ]
  },
  {
   "cell_type": "code",
   "execution_count": 184,
   "metadata": {},
   "outputs": [
    {
     "data": {
      "text/plain": [
       "(-2.0, 1.0)"
      ]
     },
     "execution_count": 184,
     "metadata": {},
     "output_type": "execute_result"
    }
   ],
   "source": [
    "round(-1.5, RoundDown), round(1.5, RoundDown)"
   ]
  },
  {
   "cell_type": "markdown",
   "metadata": {},
   "source": [
    "## 4. 有理數 (Rational)\n",
    "\n",
    "### 4.1 宣告\n",
    "\n",
    "有理數是用 \"分子//分母\" 的格式宣告，有規則如下：\n",
    "- 分子、分母均需為整數\n",
    "- 分子、分母的整數型別不同時，會自動進行必要的轉換\n",
    "- 分子、分母可為正或負數，但是有理數會被約分為分母不為負數的形式\n",
    "- 分子及分母不可為浮點數\n",
    "- 分母或分子可為零，但是不可分子和分母同時為零"
   ]
  },
  {
   "cell_type": "code",
   "execution_count": 185,
   "metadata": {},
   "outputs": [
    {
     "data": {
      "text/plain": [
       "1//2"
      ]
     },
     "execution_count": 185,
     "metadata": {},
     "output_type": "execute_result"
    }
   ],
   "source": [
    "# 分子、分母均需為整數\n",
    "1//2"
   ]
  },
  {
   "cell_type": "code",
   "execution_count": 192,
   "metadata": {},
   "outputs": [
    {
     "data": {
      "text/plain": [
       "0x00000003//0x00000005"
      ]
     },
     "execution_count": 192,
     "metadata": {},
     "output_type": "execute_result"
    }
   ],
   "source": [
    "# 分子、分母的整數型別不同時，會自動進行必要的轉換\n",
    "UInt32(3)//Int8(5)"
   ]
  },
  {
   "cell_type": "code",
   "execution_count": 193,
   "metadata": {},
   "outputs": [
    {
     "data": {
      "text/plain": [
       "Rational{UInt32}"
      ]
     },
     "execution_count": 193,
     "metadata": {},
     "output_type": "execute_result"
    }
   ],
   "source": [
    "typeof(ans)"
   ]
  },
  {
   "cell_type": "code",
   "execution_count": 194,
   "metadata": {},
   "outputs": [
    {
     "data": {
      "text/plain": [
       "-2//1"
      ]
     },
     "execution_count": 194,
     "metadata": {},
     "output_type": "execute_result"
    }
   ],
   "source": [
    "# 分子、分母可為正或負數，但是有理數會被約分為分母不為負數的形式\n",
    "2//-1"
   ]
  },
  {
   "cell_type": "code",
   "execution_count": 195,
   "metadata": {},
   "outputs": [
    {
     "data": {
      "text/plain": [
       "1//2"
      ]
     },
     "execution_count": 195,
     "metadata": {},
     "output_type": "execute_result"
    }
   ],
   "source": [
    "# 約分\n",
    "3 // 6"
   ]
  },
  {
   "cell_type": "code",
   "execution_count": 196,
   "metadata": {},
   "outputs": [
    {
     "ename": "MethodError",
     "evalue": "MethodError: no method matching //(::Float64, ::Int64)\nClosest candidates are:\n  //(!Matched::Integer, ::Integer) at rational.jl:50\n  //(!Matched::Rational, ::Integer) at rational.jl:53\n  //(!Matched::Complex, ::Real) at rational.jl:66\n  ...",
     "output_type": "error",
     "traceback": [
      "MethodError: no method matching //(::Float64, ::Int64)\nClosest candidates are:\n  //(!Matched::Integer, ::Integer) at rational.jl:50\n  //(!Matched::Rational, ::Integer) at rational.jl:53\n  //(!Matched::Complex, ::Real) at rational.jl:66\n  ...",
      "",
      "Stacktrace:",
      " [1] top-level scope at In[196]:1"
     ]
    }
   ],
   "source": [
    "# 分子及分母不可為浮點數\n",
    "1.1//2"
   ]
  },
  {
   "cell_type": "code",
   "execution_count": 200,
   "metadata": {},
   "outputs": [
    {
     "data": {
      "text/plain": [
       "0//1"
      ]
     },
     "execution_count": 200,
     "metadata": {},
     "output_type": "execute_result"
    }
   ],
   "source": [
    "# 分母或分子可為零\n",
    "0//5"
   ]
  },
  {
   "cell_type": "code",
   "execution_count": 201,
   "metadata": {},
   "outputs": [
    {
     "ename": "ArgumentError",
     "evalue": "ArgumentError: invalid rational: zero(Int64)//zero(Int64)",
     "output_type": "error",
     "traceback": [
      "ArgumentError: invalid rational: zero(Int64)//zero(Int64)",
      "",
      "Stacktrace:",
      " [1] __throw_rational_argerror_zero(::Type{T} where T) at .\\rational.jl:24",
      " [2] Rational at .\\rational.jl:14 [inlined]",
      " [3] Rational at .\\rational.jl:27 [inlined]",
      " [4] //(::Int64, ::Int64) at .\\rational.jl:50",
      " [5] top-level scope at In[201]:1"
     ]
    }
   ],
   "source": [
    "# 分母或分子可為零，但是不可分子和分母同時為零\n",
    "0//0"
   ]
  },
  {
   "cell_type": "markdown",
   "metadata": {},
   "source": [
    "### 4.2 轉換\n",
    "\n",
    "有理數與浮點數之間可以進行轉換。"
   ]
  },
  {
   "cell_type": "code",
   "execution_count": 203,
   "metadata": {},
   "outputs": [
    {
     "data": {
      "text/plain": [
       "1.5"
      ]
     },
     "execution_count": 203,
     "metadata": {},
     "output_type": "execute_result"
    }
   ],
   "source": [
    "# 有理數轉為浮點數\n",
    "Float64(3//2)"
   ]
  },
  {
   "cell_type": "code",
   "execution_count": 204,
   "metadata": {},
   "outputs": [
    {
     "data": {
      "text/plain": [
       "-1//4"
      ]
     },
     "execution_count": 204,
     "metadata": {},
     "output_type": "execute_result"
    }
   ],
   "source": [
    "# 浮點數轉為有理數\n",
    "Rational(-0.25)"
   ]
  },
  {
   "cell_type": "markdown",
   "metadata": {},
   "source": [
    "### 4.3 `numerator()` 與 `denominator()` \n",
    "\n",
    "呼叫 `numerator()` 與 `denominator()` 函式分別可以取得有理數的分子或分母值。"
   ]
  },
  {
   "cell_type": "code",
   "execution_count": 205,
   "metadata": {},
   "outputs": [
    {
     "data": {
      "text/plain": [
       "2"
      ]
     },
     "execution_count": 205,
     "metadata": {},
     "output_type": "execute_result"
    }
   ],
   "source": [
    "r = 2//3\n",
    "\n",
    "# 取得有理數的分子\n",
    "numerator(r)"
   ]
  },
  {
   "cell_type": "code",
   "execution_count": 206,
   "metadata": {},
   "outputs": [
    {
     "data": {
      "text/plain": [
       "3"
      ]
     },
     "execution_count": 206,
     "metadata": {},
     "output_type": "execute_result"
    }
   ],
   "source": [
    "# 取得有理數的分母\n",
    "denominator(r)"
   ]
  },
  {
   "cell_type": "markdown",
   "metadata": {},
   "source": [
    "## 5. 複數 (Complex)\n",
    "\n",
    "### 5.1 宣告\n",
    "\n",
    "複數是由實部和虛部組成，格式為 \"實部+虛部im\"。實部和虛部可以是任何實數 (Real) 型別，包含整數、浮點數、有理數、無理數。"
   ]
  },
  {
   "cell_type": "code",
   "execution_count": 209,
   "metadata": {},
   "outputs": [
    {
     "data": {
      "text/plain": [
       "1 + 2im"
      ]
     },
     "execution_count": 209,
     "metadata": {},
     "output_type": "execute_result"
    }
   ],
   "source": [
    "1 + 2im"
   ]
  },
  {
   "cell_type": "markdown",
   "metadata": {},
   "source": [
    "若未提供實部或虛部值，則預設為 0。"
   ]
  },
  {
   "cell_type": "code",
   "execution_count": 210,
   "metadata": {},
   "outputs": [
    {
     "data": {
      "text/plain": [
       "1 + 0im"
      ]
     },
     "execution_count": 210,
     "metadata": {},
     "output_type": "execute_result"
    }
   ],
   "source": [
    "Complex(1)"
   ]
  },
  {
   "cell_type": "code",
   "execution_count": 211,
   "metadata": {},
   "outputs": [
    {
     "data": {
      "text/plain": [
       "0 + 2im"
      ]
     },
     "execution_count": 211,
     "metadata": {},
     "output_type": "execute_result"
    }
   ],
   "source": [
    "Complex(2im)"
   ]
  },
  {
   "cell_type": "markdown",
   "metadata": {},
   "source": [
    "若是使用變數來組成複數的實部和虛部，則在虛部的部分需要加上 `*`。"
   ]
  },
  {
   "cell_type": "code",
   "execution_count": 224,
   "metadata": {},
   "outputs": [
    {
     "data": {
      "text/plain": [
       "1 + 2im"
      ]
     },
     "execution_count": 224,
     "metadata": {},
     "output_type": "execute_result"
    }
   ],
   "source": [
    "a = 1; b = 2\n",
    "\n",
    "a + b * im"
   ]
  },
  {
   "cell_type": "markdown",
   "metadata": {},
   "source": [
    "但由於使用 `*` 的方式易與乘法混淆，為避免也可以使用 `complex()` 函式，或是指定型別來組成。"
   ]
  },
  {
   "cell_type": "code",
   "execution_count": 225,
   "metadata": {},
   "outputs": [
    {
     "data": {
      "text/plain": [
       "1 + 2im"
      ]
     },
     "execution_count": 225,
     "metadata": {},
     "output_type": "execute_result"
    }
   ],
   "source": [
    "complex(a, b)"
   ]
  },
  {
   "cell_type": "code",
   "execution_count": 226,
   "metadata": {},
   "outputs": [
    {
     "data": {
      "text/plain": [
       "Complex{Int64}"
      ]
     },
     "execution_count": 226,
     "metadata": {},
     "output_type": "execute_result"
    }
   ],
   "source": [
    "# 型別由 Julia 自動確定\n",
    "typeof(ans)"
   ]
  },
  {
   "cell_type": "code",
   "execution_count": 227,
   "metadata": {},
   "outputs": [
    {
     "data": {
      "text/plain": [
       "1 + 2im"
      ]
     },
     "execution_count": 227,
     "metadata": {},
     "output_type": "execute_result"
    }
   ],
   "source": [
    "Complex(a, b)"
   ]
  },
  {
   "cell_type": "markdown",
   "metadata": {},
   "source": [
    "實部及虛部為浮點數時，而且要指定型別時，可以使用下列方式宣告。\n",
    "\n",
    "|複數型別|別名|\n",
    "|---|---|\n",
    "|Complex{Float64}|ComplexF64|\n",
    "|Complex{Float32}|ComplexF32|\n",
    "|Complex{Float16}|ComplexF16|"
   ]
  },
  {
   "cell_type": "code",
   "execution_count": 233,
   "metadata": {},
   "outputs": [
    {
     "data": {
      "text/plain": [
       "1.0 + 2.0im"
      ]
     },
     "execution_count": 233,
     "metadata": {},
     "output_type": "execute_result"
    }
   ],
   "source": [
    "Complex{Float64}(1, 2)"
   ]
  },
  {
   "cell_type": "code",
   "execution_count": 234,
   "metadata": {},
   "outputs": [
    {
     "data": {
      "text/plain": [
       "1.0f0 + 2.0f0im"
      ]
     },
     "execution_count": 234,
     "metadata": {},
     "output_type": "execute_result"
    }
   ],
   "source": [
    "# 使用別名\n",
    "ComplexF32(1, 2)"
   ]
  },
  {
   "cell_type": "code",
   "execution_count": 235,
   "metadata": {},
   "outputs": [
    {
     "data": {
      "text/plain": [
       "Complex{Int64}"
      ]
     },
     "execution_count": 235,
     "metadata": {},
     "output_type": "execute_result"
    }
   ],
   "source": [
    "# 整數也可以\n",
    "typeof(Complex{Int64}(1, 2))"
   ]
  },
  {
   "cell_type": "markdown",
   "metadata": {},
   "source": [
    "### 5.2 複數常用函式\n",
    "\n",
    "|函式|說明|\n",
    "|---|---|\n",
    "|`real()`|取得實部|\n",
    "|`imag()`|取得虛部|\n",
    "|`reim()`|同時取得實部與虚部|\n",
    "|`conj()`|共軛|\n",
    "|`abs()`|絕對值，與0的距離|\n",
    "|`abs2()`|絕對值平方|\n",
    "|`angle()`|相角|"
   ]
  },
  {
   "cell_type": "code",
   "execution_count": 236,
   "metadata": {},
   "outputs": [
    {
     "data": {
      "text/plain": [
       "1.0 + 2.0im"
      ]
     },
     "execution_count": 236,
     "metadata": {},
     "output_type": "execute_result"
    }
   ],
   "source": [
    "x = Complex{Float64}(1, 2)"
   ]
  },
  {
   "cell_type": "code",
   "execution_count": 237,
   "metadata": {},
   "outputs": [
    {
     "data": {
      "text/plain": [
       "1.0"
      ]
     },
     "execution_count": 237,
     "metadata": {},
     "output_type": "execute_result"
    }
   ],
   "source": [
    "real(x)"
   ]
  },
  {
   "cell_type": "code",
   "execution_count": 238,
   "metadata": {},
   "outputs": [
    {
     "data": {
      "text/plain": [
       "2.0"
      ]
     },
     "execution_count": 238,
     "metadata": {},
     "output_type": "execute_result"
    }
   ],
   "source": [
    "imag(x)"
   ]
  },
  {
   "cell_type": "code",
   "execution_count": 239,
   "metadata": {},
   "outputs": [
    {
     "data": {
      "text/plain": [
       "(1.0, 2.0)"
      ]
     },
     "execution_count": 239,
     "metadata": {},
     "output_type": "execute_result"
    }
   ],
   "source": [
    "reim(x)"
   ]
  },
  {
   "cell_type": "code",
   "execution_count": 240,
   "metadata": {},
   "outputs": [
    {
     "data": {
      "text/plain": [
       "1.0 - 2.0im"
      ]
     },
     "execution_count": 240,
     "metadata": {},
     "output_type": "execute_result"
    }
   ],
   "source": [
    "conj(x)"
   ]
  },
  {
   "cell_type": "code",
   "execution_count": 246,
   "metadata": {},
   "outputs": [
    {
     "data": {
      "text/plain": [
       "2.23606797749979"
      ]
     },
     "execution_count": 246,
     "metadata": {},
     "output_type": "execute_result"
    }
   ],
   "source": [
    "abs(x)"
   ]
  },
  {
   "cell_type": "code",
   "execution_count": 247,
   "metadata": {},
   "outputs": [
    {
     "data": {
      "text/plain": [
       "5.0"
      ]
     },
     "execution_count": 247,
     "metadata": {},
     "output_type": "execute_result"
    }
   ],
   "source": [
    "abs2(x)"
   ]
  },
  {
   "cell_type": "code",
   "execution_count": 248,
   "metadata": {},
   "outputs": [
    {
     "data": {
      "text/plain": [
       "1.1071487177940904"
      ]
     },
     "execution_count": 248,
     "metadata": {},
     "output_type": "execute_result"
    }
   ],
   "source": [
    "angle(x)"
   ]
  },
  {
   "cell_type": "markdown",
   "metadata": {},
   "source": [
    "## 6. 無理數 (Irrational)\n",
    "\n",
    "無限不循環小數，例如 $\\pi$ 即為無理數。以下用 Julia 內建常數 $\\pi$ 與 ℯ 來做示範。"
   ]
  },
  {
   "cell_type": "code",
   "execution_count": 249,
   "metadata": {},
   "outputs": [
    {
     "data": {
      "text/plain": [
       "π = 3.1415926535897..."
      ]
     },
     "execution_count": 249,
     "metadata": {},
     "output_type": "execute_result"
    }
   ],
   "source": [
    "# π 為內建的數學常數，將在未來的內容介紹。\n",
    "pi"
   ]
  },
  {
   "cell_type": "code",
   "execution_count": 250,
   "metadata": {},
   "outputs": [
    {
     "data": {
      "text/plain": [
       "Irrational{:π}"
      ]
     },
     "execution_count": 250,
     "metadata": {},
     "output_type": "execute_result"
    }
   ],
   "source": [
    "typeof(pi)"
   ]
  },
  {
   "cell_type": "code",
   "execution_count": 254,
   "metadata": {},
   "outputs": [
    {
     "data": {
      "text/plain": [
       "Irrational{:ℯ}"
      ]
     },
     "execution_count": 254,
     "metadata": {},
     "output_type": "execute_result"
    }
   ],
   "source": [
    "# 歐拉數 (Euler's number)，為內建的數學常數，將在未來的內容介紹。\n",
    "typeof(ℯ)"
   ]
  },
  {
   "cell_type": "markdown",
   "metadata": {},
   "source": [
    "## 7. 隨機數\n",
    "\n",
    "|函式|描述|\n",
    "|--|--|\n",
    "|rand()|產生元素為隨機介於 \\[0, 1) 區間的均勻分布數字|\n",
    "|randn()|產生元素為隨機常態分布的數字|\n",
    "|randexp()|產生元素為隨機指數分布的數字|"
   ]
  },
  {
   "cell_type": "markdown",
   "metadata": {},
   "source": [
    "隨機產生 1000 個數字，簡單地用 Plots 套件觀察其分布。有關於圖表的部分，會在後續內容中進行詳細介紹。\n",
    "\n",
    "隨機數字的型別預設是 `Float64`。"
   ]
  },
  {
   "cell_type": "code",
   "execution_count": 255,
   "metadata": {},
   "outputs": [
    {
     "name": "stderr",
     "output_type": "stream",
     "text": [
      "\u001b[32m\u001b[1m   Updating\u001b[22m\u001b[39m registry at `C:\\Users\\qwerz\\.julia\\registries\\General`"
     ]
    },
    {
     "name": "stdout",
     "output_type": "stream",
     "text": [
      "\u001b[?25l"
     ]
    },
    {
     "name": "stderr",
     "output_type": "stream",
     "text": [
      "\n",
      "\u001b[32m\u001b[1m   Updating\u001b[22m\u001b[39m git-repo `https://github.com/JuliaRegistries/General.git`\n"
     ]
    },
    {
     "name": "stdout",
     "output_type": "stream",
     "text": [
      "\u001b[2K\u001b[36m\u001b[1mFetching:\u001b[22m\u001b[39m [========================================>]  99.9 % %\u001b[36m\u001b[1mFetching:\u001b[22m\u001b[39m [====>                                    ]  8.2 %\u001b[36m\u001b[1mFetching:\u001b[22m\u001b[39m [====>                                    ]  9.2 %.9 %======>                                  ]  12.8 %                               ]  20.4 %                              ]  23.5 %\u001b[36m\u001b[1mFetching:\u001b[22m\u001b[39m [===========>                             ]  25.8 %27.3 %\u001b[36m\u001b[1mFetching:\u001b[22m\u001b[39m [============>                            ]  29.4 %\u001b[36m\u001b[1mFetching:\u001b[22m\u001b[39m [===============>                         ]  36.5 %46.0 % %]  55.3 % [=======================>                 ]  57.3 %2 %\u001b[36m\u001b[1mFetching:\u001b[22m\u001b[39m [=========================>               ]  61.7 %]  63.1 %\u001b[36m\u001b[1mFetching:\u001b[22m\u001b[39m [===========================>             ]  65.7 % % [============================>            ]  69.0 %\u001b[36m\u001b[1mFetching:\u001b[22m\u001b[39m [=============================>           ]  70.3 %\u001b[36m\u001b[1mFetching:\u001b[22m\u001b[39m [=============================>           ]  71.9 %\u001b[36m\u001b[1mFetching:\u001b[22m\u001b[39m [==============================>          ]  73.1 %          ]  74.7 % %.8 % [================================>        ]  79.7 %\u001b[36m\u001b[1mFetching:\u001b[22m\u001b[39m [=================================>       ]  80.8 %.4 %\u001b[36m\u001b[1mFetching:\u001b[22m\u001b[39m [==================================>      ]  83.8 %4 %\u001b[?25h"
     ]
    },
    {
     "name": "stderr",
     "output_type": "stream",
     "text": [
      "\u001b[32m\u001b[1m  Resolving\u001b[22m\u001b[39m package versions...\n",
      "\u001b[32m\u001b[1m  Installed\u001b[22m\u001b[39m OpenSSL_jll ─────── v1.1.1+2\n",
      "\u001b[32m\u001b[1m  Installed\u001b[22m\u001b[39m Bzip2_jll ───────── v1.0.6+2\n",
      "\u001b[32m\u001b[1m  Installed\u001b[22m\u001b[39m RecipesBase ─────── v1.0.0\n",
      "\u001b[32m\u001b[1m  Installed\u001b[22m\u001b[39m Measures ────────── v0.3.1\n",
      "\u001b[32m\u001b[1m  Installed\u001b[22m\u001b[39m FFMPEG ──────────── v0.3.0\n",
      "\u001b[32m\u001b[1m  Installed\u001b[22m\u001b[39m ColorTypes ──────── v0.10.0\n",
      "\u001b[32m\u001b[1m  Installed\u001b[22m\u001b[39m Plots ───────────── v1.0.2\n",
      "\u001b[32m\u001b[1m  Installed\u001b[22m\u001b[39m PlotUtils ───────── v0.6.5\n",
      "\u001b[32m\u001b[1m  Installed\u001b[22m\u001b[39m x264_jll ────────── v2019.5.25+1\n",
      "\u001b[32m\u001b[1m  Installed\u001b[22m\u001b[39m FriBidi_jll ─────── v1.0.5+2\n",
      "\u001b[32m\u001b[1m  Installed\u001b[22m\u001b[39m FFMPEG_jll ──────── v4.1.0+2\n",
      "\u001b[32m\u001b[1m  Installed\u001b[22m\u001b[39m Ogg_jll ─────────── v1.3.3+0\n",
      "\u001b[32m\u001b[1m  Installed\u001b[22m\u001b[39m PlotThemes ──────── v1.0.2\n",
      "\u001b[32m\u001b[1m  Installed\u001b[22m\u001b[39m x265_jll ────────── v3.0.0+0\n",
      "\u001b[32m\u001b[1m  Installed\u001b[22m\u001b[39m libass_jll ──────── v0.14.0+1\n",
      "\u001b[32m\u001b[1m  Installed\u001b[22m\u001b[39m LAME_jll ────────── v3.100.0+0\n",
      "\u001b[32m\u001b[1m  Installed\u001b[22m\u001b[39m Zlib_jll ────────── v1.2.11+9\n",
      "\u001b[32m\u001b[1m  Installed\u001b[22m\u001b[39m FreeType2_jll ───── v2.10.1+2\n",
      "\u001b[32m\u001b[1m  Installed\u001b[22m\u001b[39m libvorbis_jll ───── v1.3.6+2\n",
      "\u001b[32m\u001b[1m  Installed\u001b[22m\u001b[39m libfdk_aac_jll ──── v0.1.6+1\n",
      "\u001b[32m\u001b[1m  Installed\u001b[22m\u001b[39m StatsBase ───────── v0.32.2\n",
      "\u001b[32m\u001b[1m  Installed\u001b[22m\u001b[39m Opus_jll ────────── v1.3.1+0\n",
      "\u001b[32m\u001b[1m  Installed\u001b[22m\u001b[39m LibVPX_jll ──────── v1.8.1+1\n",
      "\u001b[32m\u001b[1m  Installed\u001b[22m\u001b[39m NaNMath ─────────── v0.3.3\n",
      "\u001b[32m\u001b[1m  Installed\u001b[22m\u001b[39m GeometryTypes ───── v0.8.2\n",
      "\u001b[32m\u001b[1m  Installed\u001b[22m\u001b[39m Requires ────────── v1.0.1\n",
      "\u001b[32m\u001b[1m  Installed\u001b[22m\u001b[39m Contour ─────────── v0.5.2\n",
      "\u001b[32m\u001b[1m  Installed\u001b[22m\u001b[39m Colors ──────────── v0.12.0\n",
      "\u001b[32m\u001b[1m  Installed\u001b[22m\u001b[39m Showoff ─────────── v0.3.1\n",
      "\u001b[32m\u001b[1m  Installed\u001b[22m\u001b[39m FixedPointNumbers ─ v0.8.0\n",
      "\u001b[32m\u001b[1m  Installed\u001b[22m\u001b[39m StaticArrays ────── v0.12.1\n",
      "\u001b[32m\u001b[1m  Installed\u001b[22m\u001b[39m GR ──────────────── v0.48.0\n",
      "\u001b[32m\u001b[1m   Updating\u001b[22m\u001b[39m `C:\\Users\\qwerz\\.julia\\environments\\v1.4\\Project.toml`\n",
      " \u001b[90m [91a5bcdd]\u001b[39m\u001b[92m + Plots v1.0.2\u001b[39m\n",
      "\u001b[32m\u001b[1m   Updating\u001b[22m\u001b[39m `C:\\Users\\qwerz\\.julia\\environments\\v1.4\\Manifest.toml`\n",
      " \u001b[90m [6e34b625]\u001b[39m\u001b[92m + Bzip2_jll v1.0.6+2\u001b[39m\n",
      " \u001b[90m [3da002f7]\u001b[39m\u001b[92m + ColorTypes v0.10.0\u001b[39m\n",
      " \u001b[90m [5ae59095]\u001b[39m\u001b[92m + Colors v0.12.0\u001b[39m\n",
      " \u001b[90m [d38c429a]\u001b[39m\u001b[92m + Contour v0.5.2\u001b[39m\n",
      " \u001b[90m [c87230d0]\u001b[39m\u001b[92m + FFMPEG v0.3.0\u001b[39m\n",
      " \u001b[90m [b22a6f82]\u001b[39m\u001b[92m + FFMPEG_jll v4.1.0+2\u001b[39m\n",
      " \u001b[90m [53c48c17]\u001b[39m\u001b[92m + FixedPointNumbers v0.8.0\u001b[39m\n",
      " \u001b[90m [d7e528f0]\u001b[39m\u001b[92m + FreeType2_jll v2.10.1+2\u001b[39m\n",
      " \u001b[90m [559328eb]\u001b[39m\u001b[92m + FriBidi_jll v1.0.5+2\u001b[39m\n",
      " \u001b[90m [28b8d3ca]\u001b[39m\u001b[92m + GR v0.48.0\u001b[39m\n",
      " \u001b[90m [4d00f742]\u001b[39m\u001b[92m + GeometryTypes v0.8.2\u001b[39m\n",
      " \u001b[90m [c1c5ebd0]\u001b[39m\u001b[92m + LAME_jll v3.100.0+0\u001b[39m\n",
      " \u001b[90m [dd192d2f]\u001b[39m\u001b[92m + LibVPX_jll v1.8.1+1\u001b[39m\n",
      " \u001b[90m [442fdcdd]\u001b[39m\u001b[92m + Measures v0.3.1\u001b[39m\n",
      " \u001b[90m [77ba4419]\u001b[39m\u001b[92m + NaNMath v0.3.3\u001b[39m\n",
      " \u001b[90m [e7412a2a]\u001b[39m\u001b[92m + Ogg_jll v1.3.3+0\u001b[39m\n",
      " \u001b[90m [458c3c95]\u001b[39m\u001b[92m + OpenSSL_jll v1.1.1+2\u001b[39m\n",
      " \u001b[90m [91d4177d]\u001b[39m\u001b[92m + Opus_jll v1.3.1+0\u001b[39m\n",
      " \u001b[90m [ccf2f8ad]\u001b[39m\u001b[92m + PlotThemes v1.0.2\u001b[39m\n",
      " \u001b[90m [995b91a9]\u001b[39m\u001b[92m + PlotUtils v0.6.5\u001b[39m\n",
      " \u001b[90m [91a5bcdd]\u001b[39m\u001b[92m + Plots v1.0.2\u001b[39m\n",
      " \u001b[90m [3cdcf5f2]\u001b[39m\u001b[92m + RecipesBase v1.0.0\u001b[39m\n",
      " \u001b[90m [ae029012]\u001b[39m\u001b[92m + Requires v1.0.1\u001b[39m\n",
      " \u001b[90m [992d4aef]\u001b[39m\u001b[92m + Showoff v0.3.1\u001b[39m\n",
      " \u001b[90m [90137ffa]\u001b[39m\u001b[92m + StaticArrays v0.12.1\u001b[39m\n",
      " \u001b[90m [2913bbd2]\u001b[39m\u001b[92m + StatsBase v0.32.2\u001b[39m\n",
      " \u001b[90m [83775a58]\u001b[39m\u001b[92m + Zlib_jll v1.2.11+9\u001b[39m\n",
      " \u001b[90m [0ac62f75]\u001b[39m\u001b[92m + libass_jll v0.14.0+1\u001b[39m\n",
      " \u001b[90m [f638f0a6]\u001b[39m\u001b[92m + libfdk_aac_jll v0.1.6+1\u001b[39m\n",
      " \u001b[90m [f27f6e37]\u001b[39m\u001b[92m + libvorbis_jll v1.3.6+2\u001b[39m\n",
      " \u001b[90m [1270edf5]\u001b[39m\u001b[92m + x264_jll v2019.5.25+1\u001b[39m\n",
      " \u001b[90m [dfaa095f]\u001b[39m\u001b[92m + x265_jll v3.0.0+0\u001b[39m\n",
      "\u001b[32m\u001b[1m   Building\u001b[22m\u001b[39m GR ───→ `C:\\Users\\qwerz\\.julia\\packages\\GR\\yMV3y\\deps\\build.log`\n",
      "\u001b[32m\u001b[1m   Building\u001b[22m\u001b[39m Plots → `C:\\Users\\qwerz\\.julia\\packages\\Plots\\bpkE7\\deps\\build.log`\n"
     ]
    }
   ],
   "source": [
    "# 若未曾安裝 Plots 套件, 請先安裝\n",
    "using Pkg\n",
    "Pkg.add(\"Plots\")"
   ]
  },
  {
   "cell_type": "code",
   "execution_count": 256,
   "metadata": {},
   "outputs": [
    {
     "name": "stderr",
     "output_type": "stream",
     "text": [
      "┌ Info: Precompiling Plots [91a5bcdd-55d7-5caf-9e0b-520d859cae80]\n",
      "└ @ Base loading.jl:1260\n"
     ]
    },
    {
     "data": {
      "image/svg+xml": [
       "<?xml version=\"1.0\" encoding=\"utf-8\"?>\n",
       "<svg xmlns=\"http://www.w3.org/2000/svg\" xmlns:xlink=\"http://www.w3.org/1999/xlink\" width=\"600\" height=\"400\" viewBox=\"0 0 2400 1600\">\n",
       "<defs>\n",
       "  <clipPath id=\"clip9800\">\n",
       "    <rect x=\"0\" y=\"0\" width=\"2400\" height=\"1600\"/>\n",
       "  </clipPath>\n",
       "</defs>\n",
       "<path clip-path=\"url(#clip9800)\" d=\"\n",
       "M0 1600 L2400 1600 L2400 0 L0 0  Z\n",
       "  \" fill=\"#ffffff\" fill-rule=\"evenodd\" fill-opacity=\"1\"/>\n",
       "<defs>\n",
       "  <clipPath id=\"clip9801\">\n",
       "    <rect x=\"480\" y=\"0\" width=\"1681\" height=\"1600\"/>\n",
       "  </clipPath>\n",
       "</defs>\n",
       "<path clip-path=\"url(#clip9800)\" d=\"\n",
       "M167.279 1487.47 L2352.76 1487.47 L2352.76 47.2441 L167.279 47.2441  Z\n",
       "  \" fill=\"#ffffff\" fill-rule=\"evenodd\" fill-opacity=\"1\"/>\n",
       "<defs>\n",
       "  <clipPath id=\"clip9802\">\n",
       "    <rect x=\"167\" y=\"47\" width=\"2186\" height=\"1441\"/>\n",
       "  </clipPath>\n",
       "</defs>\n",
       "<polyline clip-path=\"url(#clip9802)\" style=\"stroke:#000000; stroke-width:2; stroke-opacity:0.1; fill:none\" points=\"\n",
       "  287.484,1487.47 287.484,47.2441 \n",
       "  \"/>\n",
       "<polyline clip-path=\"url(#clip9802)\" style=\"stroke:#000000; stroke-width:2; stroke-opacity:0.1; fill:none\" points=\"\n",
       "  773.751,1487.47 773.751,47.2441 \n",
       "  \"/>\n",
       "<polyline clip-path=\"url(#clip9802)\" style=\"stroke:#000000; stroke-width:2; stroke-opacity:0.1; fill:none\" points=\"\n",
       "  1260.02,1487.47 1260.02,47.2441 \n",
       "  \"/>\n",
       "<polyline clip-path=\"url(#clip9802)\" style=\"stroke:#000000; stroke-width:2; stroke-opacity:0.1; fill:none\" points=\"\n",
       "  1746.28,1487.47 1746.28,47.2441 \n",
       "  \"/>\n",
       "<polyline clip-path=\"url(#clip9802)\" style=\"stroke:#000000; stroke-width:2; stroke-opacity:0.1; fill:none\" points=\"\n",
       "  2232.55,1487.47 2232.55,47.2441 \n",
       "  \"/>\n",
       "<polyline clip-path=\"url(#clip9802)\" style=\"stroke:#000000; stroke-width:2; stroke-opacity:0.1; fill:none\" points=\"\n",
       "  167.279,1446.71 2352.76,1446.71 \n",
       "  \"/>\n",
       "<polyline clip-path=\"url(#clip9802)\" style=\"stroke:#000000; stroke-width:2; stroke-opacity:0.1; fill:none\" points=\"\n",
       "  167.279,1143.43 2352.76,1143.43 \n",
       "  \"/>\n",
       "<polyline clip-path=\"url(#clip9802)\" style=\"stroke:#000000; stroke-width:2; stroke-opacity:0.1; fill:none\" points=\"\n",
       "  167.279,840.147 2352.76,840.147 \n",
       "  \"/>\n",
       "<polyline clip-path=\"url(#clip9802)\" style=\"stroke:#000000; stroke-width:2; stroke-opacity:0.1; fill:none\" points=\"\n",
       "  167.279,536.864 2352.76,536.864 \n",
       "  \"/>\n",
       "<polyline clip-path=\"url(#clip9802)\" style=\"stroke:#000000; stroke-width:2; stroke-opacity:0.1; fill:none\" points=\"\n",
       "  167.279,233.581 2352.76,233.581 \n",
       "  \"/>\n",
       "<polyline clip-path=\"url(#clip9800)\" style=\"stroke:#000000; stroke-width:4; stroke-opacity:1; fill:none\" points=\"\n",
       "  167.279,1487.47 2352.76,1487.47 \n",
       "  \"/>\n",
       "<polyline clip-path=\"url(#clip9800)\" style=\"stroke:#000000; stroke-width:4; stroke-opacity:1; fill:none\" points=\"\n",
       "  167.279,1487.47 167.279,47.2441 \n",
       "  \"/>\n",
       "<polyline clip-path=\"url(#clip9800)\" style=\"stroke:#000000; stroke-width:4; stroke-opacity:1; fill:none\" points=\"\n",
       "  287.484,1487.47 287.484,1470.19 \n",
       "  \"/>\n",
       "<polyline clip-path=\"url(#clip9800)\" style=\"stroke:#000000; stroke-width:4; stroke-opacity:1; fill:none\" points=\"\n",
       "  773.751,1487.47 773.751,1470.19 \n",
       "  \"/>\n",
       "<polyline clip-path=\"url(#clip9800)\" style=\"stroke:#000000; stroke-width:4; stroke-opacity:1; fill:none\" points=\"\n",
       "  1260.02,1487.47 1260.02,1470.19 \n",
       "  \"/>\n",
       "<polyline clip-path=\"url(#clip9800)\" style=\"stroke:#000000; stroke-width:4; stroke-opacity:1; fill:none\" points=\"\n",
       "  1746.28,1487.47 1746.28,1470.19 \n",
       "  \"/>\n",
       "<polyline clip-path=\"url(#clip9800)\" style=\"stroke:#000000; stroke-width:4; stroke-opacity:1; fill:none\" points=\"\n",
       "  2232.55,1487.47 2232.55,1470.19 \n",
       "  \"/>\n",
       "<polyline clip-path=\"url(#clip9800)\" style=\"stroke:#000000; stroke-width:4; stroke-opacity:1; fill:none\" points=\"\n",
       "  167.279,1446.71 193.505,1446.71 \n",
       "  \"/>\n",
       "<polyline clip-path=\"url(#clip9800)\" style=\"stroke:#000000; stroke-width:4; stroke-opacity:1; fill:none\" points=\"\n",
       "  167.279,1143.43 193.505,1143.43 \n",
       "  \"/>\n",
       "<polyline clip-path=\"url(#clip9800)\" style=\"stroke:#000000; stroke-width:4; stroke-opacity:1; fill:none\" points=\"\n",
       "  167.279,840.147 193.505,840.147 \n",
       "  \"/>\n",
       "<polyline clip-path=\"url(#clip9800)\" style=\"stroke:#000000; stroke-width:4; stroke-opacity:1; fill:none\" points=\"\n",
       "  167.279,536.864 193.505,536.864 \n",
       "  \"/>\n",
       "<polyline clip-path=\"url(#clip9800)\" style=\"stroke:#000000; stroke-width:4; stroke-opacity:1; fill:none\" points=\"\n",
       "  167.279,233.581 193.505,233.581 \n",
       "  \"/>\n",
       "<g clip-path=\"url(#clip9800)\">\n",
       "<text style=\"fill:#000000; fill-opacity:1; font-family:Arial,Helvetica Neue,Helvetica,sans-serif; font-size:48px; text-anchor:middle;\" transform=\"rotate(0, 287.484, 1541.47)\" x=\"287.484\" y=\"1541.47\">0.00</text>\n",
       "</g>\n",
       "<g clip-path=\"url(#clip9800)\">\n",
       "<text style=\"fill:#000000; fill-opacity:1; font-family:Arial,Helvetica Neue,Helvetica,sans-serif; font-size:48px; text-anchor:middle;\" transform=\"rotate(0, 773.751, 1541.47)\" x=\"773.751\" y=\"1541.47\">0.25</text>\n",
       "</g>\n",
       "<g clip-path=\"url(#clip9800)\">\n",
       "<text style=\"fill:#000000; fill-opacity:1; font-family:Arial,Helvetica Neue,Helvetica,sans-serif; font-size:48px; text-anchor:middle;\" transform=\"rotate(0, 1260.02, 1541.47)\" x=\"1260.02\" y=\"1541.47\">0.50</text>\n",
       "</g>\n",
       "<g clip-path=\"url(#clip9800)\">\n",
       "<text style=\"fill:#000000; fill-opacity:1; font-family:Arial,Helvetica Neue,Helvetica,sans-serif; font-size:48px; text-anchor:middle;\" transform=\"rotate(0, 1746.28, 1541.47)\" x=\"1746.28\" y=\"1541.47\">0.75</text>\n",
       "</g>\n",
       "<g clip-path=\"url(#clip9800)\">\n",
       "<text style=\"fill:#000000; fill-opacity:1; font-family:Arial,Helvetica Neue,Helvetica,sans-serif; font-size:48px; text-anchor:middle;\" transform=\"rotate(0, 2232.55, 1541.47)\" x=\"2232.55\" y=\"1541.47\">1.00</text>\n",
       "</g>\n",
       "<g clip-path=\"url(#clip9800)\">\n",
       "<text style=\"fill:#000000; fill-opacity:1; font-family:Arial,Helvetica Neue,Helvetica,sans-serif; font-size:48px; text-anchor:end;\" transform=\"rotate(0, 143.279, 1464.21)\" x=\"143.279\" y=\"1464.21\">0</text>\n",
       "</g>\n",
       "<g clip-path=\"url(#clip9800)\">\n",
       "<text style=\"fill:#000000; fill-opacity:1; font-family:Arial,Helvetica Neue,Helvetica,sans-serif; font-size:48px; text-anchor:end;\" transform=\"rotate(0, 143.279, 1160.93)\" x=\"143.279\" y=\"1160.93\">25</text>\n",
       "</g>\n",
       "<g clip-path=\"url(#clip9800)\">\n",
       "<text style=\"fill:#000000; fill-opacity:1; font-family:Arial,Helvetica Neue,Helvetica,sans-serif; font-size:48px; text-anchor:end;\" transform=\"rotate(0, 143.279, 857.647)\" x=\"143.279\" y=\"857.647\">50</text>\n",
       "</g>\n",
       "<g clip-path=\"url(#clip9800)\">\n",
       "<text style=\"fill:#000000; fill-opacity:1; font-family:Arial,Helvetica Neue,Helvetica,sans-serif; font-size:48px; text-anchor:end;\" transform=\"rotate(0, 143.279, 554.364)\" x=\"143.279\" y=\"554.364\">75</text>\n",
       "</g>\n",
       "<g clip-path=\"url(#clip9800)\">\n",
       "<text style=\"fill:#000000; fill-opacity:1; font-family:Arial,Helvetica Neue,Helvetica,sans-serif; font-size:48px; text-anchor:end;\" transform=\"rotate(0, 143.279, 251.081)\" x=\"143.279\" y=\"251.081\">100</text>\n",
       "</g>\n",
       "<path clip-path=\"url(#clip9802)\" d=\"\n",
       "M287.484 379.157 L287.484 1446.71 L481.991 1446.71 L481.991 379.157 L287.484 379.157 L287.484 379.157  Z\n",
       "  \" fill=\"#009af9\" fill-rule=\"evenodd\" fill-opacity=\"1\"/>\n",
       "<polyline clip-path=\"url(#clip9802)\" style=\"stroke:#000000; stroke-width:4; stroke-opacity:1; fill:none\" points=\"\n",
       "  287.484,379.157 287.484,1446.71 481.991,1446.71 481.991,379.157 287.484,379.157 \n",
       "  \"/>\n",
       "<path clip-path=\"url(#clip9802)\" d=\"\n",
       "M481.991 185.056 L481.991 1446.71 L676.498 1446.71 L676.498 185.056 L481.991 185.056 L481.991 185.056  Z\n",
       "  \" fill=\"#009af9\" fill-rule=\"evenodd\" fill-opacity=\"1\"/>\n",
       "<polyline clip-path=\"url(#clip9802)\" style=\"stroke:#000000; stroke-width:4; stroke-opacity:1; fill:none\" points=\"\n",
       "  481.991,185.056 481.991,1446.71 676.498,1446.71 676.498,185.056 481.991,185.056 \n",
       "  \"/>\n",
       "<path clip-path=\"url(#clip9802)\" d=\"\n",
       "M676.498 257.844 L676.498 1446.71 L871.004 1446.71 L871.004 257.844 L676.498 257.844 L676.498 257.844  Z\n",
       "  \" fill=\"#009af9\" fill-rule=\"evenodd\" fill-opacity=\"1\"/>\n",
       "<polyline clip-path=\"url(#clip9802)\" style=\"stroke:#000000; stroke-width:4; stroke-opacity:1; fill:none\" points=\"\n",
       "  676.498,257.844 676.498,1446.71 871.004,1446.71 871.004,257.844 676.498,257.844 \n",
       "  \"/>\n",
       "<path clip-path=\"url(#clip9802)\" d=\"\n",
       "M871.004 100.137 L871.004 1446.71 L1065.51 1446.71 L1065.51 100.137 L871.004 100.137 L871.004 100.137  Z\n",
       "  \" fill=\"#009af9\" fill-rule=\"evenodd\" fill-opacity=\"1\"/>\n",
       "<polyline clip-path=\"url(#clip9802)\" style=\"stroke:#000000; stroke-width:4; stroke-opacity:1; fill:none\" points=\"\n",
       "  871.004,100.137 871.004,1446.71 1065.51,1446.71 1065.51,100.137 871.004,100.137 \n",
       "  \"/>\n",
       "<path clip-path=\"url(#clip9802)\" d=\"\n",
       "M1065.51 124.399 L1065.51 1446.71 L1260.02 1446.71 L1260.02 124.399 L1065.51 124.399 L1065.51 124.399  Z\n",
       "  \" fill=\"#009af9\" fill-rule=\"evenodd\" fill-opacity=\"1\"/>\n",
       "<polyline clip-path=\"url(#clip9802)\" style=\"stroke:#000000; stroke-width:4; stroke-opacity:1; fill:none\" points=\"\n",
       "  1065.51,124.399 1065.51,1446.71 1260.02,1446.71 1260.02,124.399 1065.51,124.399 \n",
       "  \"/>\n",
       "<path clip-path=\"url(#clip9802)\" d=\"\n",
       "M1260.02 88.0053 L1260.02 1446.71 L1454.52 1446.71 L1454.52 88.0053 L1260.02 88.0053 L1260.02 88.0053  Z\n",
       "  \" fill=\"#009af9\" fill-rule=\"evenodd\" fill-opacity=\"1\"/>\n",
       "<polyline clip-path=\"url(#clip9802)\" style=\"stroke:#000000; stroke-width:4; stroke-opacity:1; fill:none\" points=\"\n",
       "  1260.02,88.0053 1260.02,1446.71 1454.52,1446.71 1454.52,88.0053 1260.02,88.0053 \n",
       "  \"/>\n",
       "<path clip-path=\"url(#clip9802)\" d=\"\n",
       "M1454.52 197.187 L1454.52 1446.71 L1649.03 1446.71 L1649.03 197.187 L1454.52 197.187 L1454.52 197.187  Z\n",
       "  \" fill=\"#009af9\" fill-rule=\"evenodd\" fill-opacity=\"1\"/>\n",
       "<polyline clip-path=\"url(#clip9802)\" style=\"stroke:#000000; stroke-width:4; stroke-opacity:1; fill:none\" points=\"\n",
       "  1454.52,197.187 1454.52,1446.71 1649.03,1446.71 1649.03,197.187 1454.52,197.187 \n",
       "  \"/>\n",
       "<path clip-path=\"url(#clip9802)\" d=\"\n",
       "M1649.03 427.682 L1649.03 1446.71 L1843.54 1446.71 L1843.54 427.682 L1649.03 427.682 L1649.03 427.682  Z\n",
       "  \" fill=\"#009af9\" fill-rule=\"evenodd\" fill-opacity=\"1\"/>\n",
       "<polyline clip-path=\"url(#clip9802)\" style=\"stroke:#000000; stroke-width:4; stroke-opacity:1; fill:none\" points=\"\n",
       "  1649.03,427.682 1649.03,1446.71 1843.54,1446.71 1843.54,427.682 1649.03,427.682 \n",
       "  \"/>\n",
       "<path clip-path=\"url(#clip9802)\" d=\"\n",
       "M1843.54 269.975 L1843.54 1446.71 L2038.04 1446.71 L2038.04 269.975 L1843.54 269.975 L1843.54 269.975  Z\n",
       "  \" fill=\"#009af9\" fill-rule=\"evenodd\" fill-opacity=\"1\"/>\n",
       "<polyline clip-path=\"url(#clip9802)\" style=\"stroke:#000000; stroke-width:4; stroke-opacity:1; fill:none\" points=\"\n",
       "  1843.54,269.975 1843.54,1446.71 2038.04,1446.71 2038.04,269.975 1843.54,269.975 \n",
       "  \"/>\n",
       "<path clip-path=\"url(#clip9802)\" d=\"\n",
       "M2038.04 306.369 L2038.04 1446.71 L2232.55 1446.71 L2232.55 306.369 L2038.04 306.369 L2038.04 306.369  Z\n",
       "  \" fill=\"#009af9\" fill-rule=\"evenodd\" fill-opacity=\"1\"/>\n",
       "<polyline clip-path=\"url(#clip9802)\" style=\"stroke:#000000; stroke-width:4; stroke-opacity:1; fill:none\" points=\"\n",
       "  2038.04,306.369 2038.04,1446.71 2232.55,1446.71 2232.55,306.369 2038.04,306.369 \n",
       "  \"/>\n",
       "<path clip-path=\"url(#clip9800)\" d=\"\n",
       "M1989.93 251.724 L2280.76 251.724 L2280.76 130.764 L1989.93 130.764  Z\n",
       "  \" fill=\"#ffffff\" fill-rule=\"evenodd\" fill-opacity=\"1\"/>\n",
       "<polyline clip-path=\"url(#clip9800)\" style=\"stroke:#000000; stroke-width:4; stroke-opacity:1; fill:none\" points=\"\n",
       "  1989.93,251.724 2280.76,251.724 2280.76,130.764 1989.93,130.764 1989.93,251.724 \n",
       "  \"/>\n",
       "<path clip-path=\"url(#clip9800)\" d=\"\n",
       "M2013.93 215.436 L2157.93 215.436 L2157.93 167.052 L2013.93 167.052 L2013.93 215.436  Z\n",
       "  \" fill=\"#009af9\" fill-rule=\"evenodd\" fill-opacity=\"1\"/>\n",
       "<polyline clip-path=\"url(#clip9800)\" style=\"stroke:#000000; stroke-width:4; stroke-opacity:1; fill:none\" points=\"\n",
       "  2013.93,215.436 2157.93,215.436 2157.93,167.052 2013.93,167.052 2013.93,215.436 \n",
       "  \"/>\n",
       "<g clip-path=\"url(#clip9800)\">\n",
       "<text style=\"fill:#000000; fill-opacity:1; font-family:Arial,Helvetica Neue,Helvetica,sans-serif; font-size:48px; text-anchor:start;\" transform=\"rotate(0, 2181.93, 208.744)\" x=\"2181.93\" y=\"208.744\">y1</text>\n",
       "</g>\n",
       "</svg>\n"
      ]
     },
     "execution_count": 256,
     "metadata": {},
     "output_type": "execute_result"
    }
   ],
   "source": [
    "using Plots\n",
    "\n",
    "histogram(rand(1000))"
   ]
  },
  {
   "cell_type": "markdown",
   "metadata": {},
   "source": [
    "下面範例是加入 range 定義，產生 10 個 1 到 100 之間的隨機數字。"
   ]
  },
  {
   "cell_type": "code",
   "execution_count": 257,
   "metadata": {},
   "outputs": [
    {
     "data": {
      "text/plain": [
       "10-element Array{Int64,1}:\n",
       "  31\n",
       "  35\n",
       "  35\n",
       "  40\n",
       "  89\n",
       " 100\n",
       "  53\n",
       "  92\n",
       "  45\n",
       "  83"
      ]
     },
     "execution_count": 257,
     "metadata": {},
     "output_type": "execute_result"
    }
   ],
   "source": [
    "rand(1:100, 10)"
   ]
  },
  {
   "cell_type": "markdown",
   "metadata": {},
   "source": [
    "產生隨機常態分布數字。"
   ]
  },
  {
   "cell_type": "code",
   "execution_count": 258,
   "metadata": {},
   "outputs": [
    {
     "data": {
      "image/svg+xml": [
       "<?xml version=\"1.0\" encoding=\"utf-8\"?>\n",
       "<svg xmlns=\"http://www.w3.org/2000/svg\" xmlns:xlink=\"http://www.w3.org/1999/xlink\" width=\"600\" height=\"400\" viewBox=\"0 0 2400 1600\">\n",
       "<defs>\n",
       "  <clipPath id=\"clip0200\">\n",
       "    <rect x=\"0\" y=\"0\" width=\"2400\" height=\"1600\"/>\n",
       "  </clipPath>\n",
       "</defs>\n",
       "<path clip-path=\"url(#clip0200)\" d=\"\n",
       "M0 1600 L2400 1600 L2400 0 L0 0  Z\n",
       "  \" fill=\"#ffffff\" fill-rule=\"evenodd\" fill-opacity=\"1\"/>\n",
       "<defs>\n",
       "  <clipPath id=\"clip0201\">\n",
       "    <rect x=\"480\" y=\"0\" width=\"1681\" height=\"1600\"/>\n",
       "  </clipPath>\n",
       "</defs>\n",
       "<path clip-path=\"url(#clip0200)\" d=\"\n",
       "M167.279 1487.47 L2352.76 1487.47 L2352.76 47.2441 L167.279 47.2441  Z\n",
       "  \" fill=\"#ffffff\" fill-rule=\"evenodd\" fill-opacity=\"1\"/>\n",
       "<defs>\n",
       "  <clipPath id=\"clip0202\">\n",
       "    <rect x=\"167\" y=\"47\" width=\"2186\" height=\"1441\"/>\n",
       "  </clipPath>\n",
       "</defs>\n",
       "<polyline clip-path=\"url(#clip0202)\" style=\"stroke:#000000; stroke-width:2; stroke-opacity:0.1; fill:none\" points=\"\n",
       "  676.498,1487.47 676.498,47.2441 \n",
       "  \"/>\n",
       "<polyline clip-path=\"url(#clip0202)\" style=\"stroke:#000000; stroke-width:2; stroke-opacity:0.1; fill:none\" points=\"\n",
       "  1195.18,1487.47 1195.18,47.2441 \n",
       "  \"/>\n",
       "<polyline clip-path=\"url(#clip0202)\" style=\"stroke:#000000; stroke-width:2; stroke-opacity:0.1; fill:none\" points=\"\n",
       "  1713.87,1487.47 1713.87,47.2441 \n",
       "  \"/>\n",
       "<polyline clip-path=\"url(#clip0202)\" style=\"stroke:#000000; stroke-width:2; stroke-opacity:0.1; fill:none\" points=\"\n",
       "  2232.55,1487.47 2232.55,47.2441 \n",
       "  \"/>\n",
       "<polyline clip-path=\"url(#clip0202)\" style=\"stroke:#000000; stroke-width:2; stroke-opacity:0.1; fill:none\" points=\"\n",
       "  167.279,1446.71 2352.76,1446.71 \n",
       "  \"/>\n",
       "<polyline clip-path=\"url(#clip0202)\" style=\"stroke:#000000; stroke-width:2; stroke-opacity:0.1; fill:none\" points=\"\n",
       "  167.279,1110.4 2352.76,1110.4 \n",
       "  \"/>\n",
       "<polyline clip-path=\"url(#clip0202)\" style=\"stroke:#000000; stroke-width:2; stroke-opacity:0.1; fill:none\" points=\"\n",
       "  167.279,774.086 2352.76,774.086 \n",
       "  \"/>\n",
       "<polyline clip-path=\"url(#clip0202)\" style=\"stroke:#000000; stroke-width:2; stroke-opacity:0.1; fill:none\" points=\"\n",
       "  167.279,437.772 2352.76,437.772 \n",
       "  \"/>\n",
       "<polyline clip-path=\"url(#clip0202)\" style=\"stroke:#000000; stroke-width:2; stroke-opacity:0.1; fill:none\" points=\"\n",
       "  167.279,101.458 2352.76,101.458 \n",
       "  \"/>\n",
       "<polyline clip-path=\"url(#clip0200)\" style=\"stroke:#000000; stroke-width:4; stroke-opacity:1; fill:none\" points=\"\n",
       "  167.279,1487.47 2352.76,1487.47 \n",
       "  \"/>\n",
       "<polyline clip-path=\"url(#clip0200)\" style=\"stroke:#000000; stroke-width:4; stroke-opacity:1; fill:none\" points=\"\n",
       "  167.279,1487.47 167.279,47.2441 \n",
       "  \"/>\n",
       "<polyline clip-path=\"url(#clip0200)\" style=\"stroke:#000000; stroke-width:4; stroke-opacity:1; fill:none\" points=\"\n",
       "  676.498,1487.47 676.498,1470.19 \n",
       "  \"/>\n",
       "<polyline clip-path=\"url(#clip0200)\" style=\"stroke:#000000; stroke-width:4; stroke-opacity:1; fill:none\" points=\"\n",
       "  1195.18,1487.47 1195.18,1470.19 \n",
       "  \"/>\n",
       "<polyline clip-path=\"url(#clip0200)\" style=\"stroke:#000000; stroke-width:4; stroke-opacity:1; fill:none\" points=\"\n",
       "  1713.87,1487.47 1713.87,1470.19 \n",
       "  \"/>\n",
       "<polyline clip-path=\"url(#clip0200)\" style=\"stroke:#000000; stroke-width:4; stroke-opacity:1; fill:none\" points=\"\n",
       "  2232.55,1487.47 2232.55,1470.19 \n",
       "  \"/>\n",
       "<polyline clip-path=\"url(#clip0200)\" style=\"stroke:#000000; stroke-width:4; stroke-opacity:1; fill:none\" points=\"\n",
       "  167.279,1446.71 193.505,1446.71 \n",
       "  \"/>\n",
       "<polyline clip-path=\"url(#clip0200)\" style=\"stroke:#000000; stroke-width:4; stroke-opacity:1; fill:none\" points=\"\n",
       "  167.279,1110.4 193.505,1110.4 \n",
       "  \"/>\n",
       "<polyline clip-path=\"url(#clip0200)\" style=\"stroke:#000000; stroke-width:4; stroke-opacity:1; fill:none\" points=\"\n",
       "  167.279,774.086 193.505,774.086 \n",
       "  \"/>\n",
       "<polyline clip-path=\"url(#clip0200)\" style=\"stroke:#000000; stroke-width:4; stroke-opacity:1; fill:none\" points=\"\n",
       "  167.279,437.772 193.505,437.772 \n",
       "  \"/>\n",
       "<polyline clip-path=\"url(#clip0200)\" style=\"stroke:#000000; stroke-width:4; stroke-opacity:1; fill:none\" points=\"\n",
       "  167.279,101.458 193.505,101.458 \n",
       "  \"/>\n",
       "<g clip-path=\"url(#clip0200)\">\n",
       "<text style=\"fill:#000000; fill-opacity:1; font-family:Arial,Helvetica Neue,Helvetica,sans-serif; font-size:48px; text-anchor:middle;\" transform=\"rotate(0, 676.498, 1541.47)\" x=\"676.498\" y=\"1541.47\">-2</text>\n",
       "</g>\n",
       "<g clip-path=\"url(#clip0200)\">\n",
       "<text style=\"fill:#000000; fill-opacity:1; font-family:Arial,Helvetica Neue,Helvetica,sans-serif; font-size:48px; text-anchor:middle;\" transform=\"rotate(0, 1195.18, 1541.47)\" x=\"1195.18\" y=\"1541.47\">0</text>\n",
       "</g>\n",
       "<g clip-path=\"url(#clip0200)\">\n",
       "<text style=\"fill:#000000; fill-opacity:1; font-family:Arial,Helvetica Neue,Helvetica,sans-serif; font-size:48px; text-anchor:middle;\" transform=\"rotate(0, 1713.87, 1541.47)\" x=\"1713.87\" y=\"1541.47\">2</text>\n",
       "</g>\n",
       "<g clip-path=\"url(#clip0200)\">\n",
       "<text style=\"fill:#000000; fill-opacity:1; font-family:Arial,Helvetica Neue,Helvetica,sans-serif; font-size:48px; text-anchor:middle;\" transform=\"rotate(0, 2232.55, 1541.47)\" x=\"2232.55\" y=\"1541.47\">4</text>\n",
       "</g>\n",
       "<g clip-path=\"url(#clip0200)\">\n",
       "<text style=\"fill:#000000; fill-opacity:1; font-family:Arial,Helvetica Neue,Helvetica,sans-serif; font-size:48px; text-anchor:end;\" transform=\"rotate(0, 143.279, 1464.21)\" x=\"143.279\" y=\"1464.21\">0</text>\n",
       "</g>\n",
       "<g clip-path=\"url(#clip0200)\">\n",
       "<text style=\"fill:#000000; fill-opacity:1; font-family:Arial,Helvetica Neue,Helvetica,sans-serif; font-size:48px; text-anchor:end;\" transform=\"rotate(0, 143.279, 1127.9)\" x=\"143.279\" y=\"1127.9\">50</text>\n",
       "</g>\n",
       "<g clip-path=\"url(#clip0200)\">\n",
       "<text style=\"fill:#000000; fill-opacity:1; font-family:Arial,Helvetica Neue,Helvetica,sans-serif; font-size:48px; text-anchor:end;\" transform=\"rotate(0, 143.279, 791.586)\" x=\"143.279\" y=\"791.586\">100</text>\n",
       "</g>\n",
       "<g clip-path=\"url(#clip0200)\">\n",
       "<text style=\"fill:#000000; fill-opacity:1; font-family:Arial,Helvetica Neue,Helvetica,sans-serif; font-size:48px; text-anchor:end;\" transform=\"rotate(0, 143.279, 455.272)\" x=\"143.279\" y=\"455.272\">150</text>\n",
       "</g>\n",
       "<g clip-path=\"url(#clip0200)\">\n",
       "<text style=\"fill:#000000; fill-opacity:1; font-family:Arial,Helvetica Neue,Helvetica,sans-serif; font-size:48px; text-anchor:end;\" transform=\"rotate(0, 143.279, 118.958)\" x=\"143.279\" y=\"118.958\">200</text>\n",
       "</g>\n",
       "<path clip-path=\"url(#clip0202)\" d=\"\n",
       "M287.484 1433.26 L287.484 1446.71 L417.155 1446.71 L417.155 1433.26 L287.484 1433.26 L287.484 1433.26  Z\n",
       "  \" fill=\"#009af9\" fill-rule=\"evenodd\" fill-opacity=\"1\"/>\n",
       "<polyline clip-path=\"url(#clip0202)\" style=\"stroke:#000000; stroke-width:4; stroke-opacity:1; fill:none\" points=\"\n",
       "  287.484,1433.26 287.484,1446.71 417.155,1446.71 417.155,1433.26 287.484,1433.26 \n",
       "  \"/>\n",
       "<path clip-path=\"url(#clip0202)\" d=\"\n",
       "M417.155 1413.08 L417.155 1446.71 L546.826 1446.71 L546.826 1413.08 L417.155 1413.08 L417.155 1413.08  Z\n",
       "  \" fill=\"#009af9\" fill-rule=\"evenodd\" fill-opacity=\"1\"/>\n",
       "<polyline clip-path=\"url(#clip0202)\" style=\"stroke:#000000; stroke-width:4; stroke-opacity:1; fill:none\" points=\"\n",
       "  417.155,1413.08 417.155,1446.71 546.826,1446.71 546.826,1413.08 417.155,1413.08 \n",
       "  \"/>\n",
       "<path clip-path=\"url(#clip0202)\" d=\"\n",
       "M546.826 1325.64 L546.826 1446.71 L676.498 1446.71 L676.498 1325.64 L546.826 1325.64 L546.826 1325.64  Z\n",
       "  \" fill=\"#009af9\" fill-rule=\"evenodd\" fill-opacity=\"1\"/>\n",
       "<polyline clip-path=\"url(#clip0202)\" style=\"stroke:#000000; stroke-width:4; stroke-opacity:1; fill:none\" points=\"\n",
       "  546.826,1325.64 546.826,1446.71 676.498,1446.71 676.498,1325.64 546.826,1325.64 \n",
       "  \"/>\n",
       "<path clip-path=\"url(#clip0202)\" d=\"\n",
       "M676.498 1137.3 L676.498 1446.71 L806.169 1446.71 L806.169 1137.3 L676.498 1137.3 L676.498 1137.3  Z\n",
       "  \" fill=\"#009af9\" fill-rule=\"evenodd\" fill-opacity=\"1\"/>\n",
       "<polyline clip-path=\"url(#clip0202)\" style=\"stroke:#000000; stroke-width:4; stroke-opacity:1; fill:none\" points=\"\n",
       "  676.498,1137.3 676.498,1446.71 806.169,1446.71 806.169,1137.3 676.498,1137.3 \n",
       "  \"/>\n",
       "<path clip-path=\"url(#clip0202)\" d=\"\n",
       "M806.169 774.086 L806.169 1446.71 L935.84 1446.71 L935.84 774.086 L806.169 774.086 L806.169 774.086  Z\n",
       "  \" fill=\"#009af9\" fill-rule=\"evenodd\" fill-opacity=\"1\"/>\n",
       "<polyline clip-path=\"url(#clip0202)\" style=\"stroke:#000000; stroke-width:4; stroke-opacity:1; fill:none\" points=\"\n",
       "  806.169,774.086 806.169,1446.71 935.84,1446.71 935.84,774.086 806.169,774.086 \n",
       "  \"/>\n",
       "<path clip-path=\"url(#clip0202)\" d=\"\n",
       "M935.84 491.582 L935.84 1446.71 L1065.51 1446.71 L1065.51 491.582 L935.84 491.582 L935.84 491.582  Z\n",
       "  \" fill=\"#009af9\" fill-rule=\"evenodd\" fill-opacity=\"1\"/>\n",
       "<polyline clip-path=\"url(#clip0202)\" style=\"stroke:#000000; stroke-width:4; stroke-opacity:1; fill:none\" points=\"\n",
       "  935.84,491.582 935.84,1446.71 1065.51,1446.71 1065.51,491.582 935.84,491.582 \n",
       "  \"/>\n",
       "<path clip-path=\"url(#clip0202)\" d=\"\n",
       "M1065.51 283.067 L1065.51 1446.71 L1195.18 1446.71 L1195.18 283.067 L1065.51 283.067 L1065.51 283.067  Z\n",
       "  \" fill=\"#009af9\" fill-rule=\"evenodd\" fill-opacity=\"1\"/>\n",
       "<polyline clip-path=\"url(#clip0202)\" style=\"stroke:#000000; stroke-width:4; stroke-opacity:1; fill:none\" points=\"\n",
       "  1065.51,283.067 1065.51,1446.71 1195.18,1446.71 1195.18,283.067 1065.51,283.067 \n",
       "  \"/>\n",
       "<path clip-path=\"url(#clip0202)\" d=\"\n",
       "M1195.18 88.0053 L1195.18 1446.71 L1324.85 1446.71 L1324.85 88.0053 L1195.18 88.0053 L1195.18 88.0053  Z\n",
       "  \" fill=\"#009af9\" fill-rule=\"evenodd\" fill-opacity=\"1\"/>\n",
       "<polyline clip-path=\"url(#clip0202)\" style=\"stroke:#000000; stroke-width:4; stroke-opacity:1; fill:none\" points=\"\n",
       "  1195.18,88.0053 1195.18,1446.71 1324.85,1446.71 1324.85,88.0053 1195.18,88.0053 \n",
       "  \"/>\n",
       "<path clip-path=\"url(#clip0202)\" d=\"\n",
       "M1324.85 370.509 L1324.85 1446.71 L1454.52 1446.71 L1454.52 370.509 L1324.85 370.509 L1324.85 370.509  Z\n",
       "  \" fill=\"#009af9\" fill-rule=\"evenodd\" fill-opacity=\"1\"/>\n",
       "<polyline clip-path=\"url(#clip0202)\" style=\"stroke:#000000; stroke-width:4; stroke-opacity:1; fill:none\" points=\"\n",
       "  1324.85,370.509 1324.85,1446.71 1454.52,1446.71 1454.52,370.509 1324.85,370.509 \n",
       "  \"/>\n",
       "<path clip-path=\"url(#clip0202)\" d=\"\n",
       "M1454.52 895.159 L1454.52 1446.71 L1584.2 1446.71 L1584.2 895.159 L1454.52 895.159 L1454.52 895.159  Z\n",
       "  \" fill=\"#009af9\" fill-rule=\"evenodd\" fill-opacity=\"1\"/>\n",
       "<polyline clip-path=\"url(#clip0202)\" style=\"stroke:#000000; stroke-width:4; stroke-opacity:1; fill:none\" points=\"\n",
       "  1454.52,895.159 1454.52,1446.71 1584.2,1446.71 1584.2,895.159 1454.52,895.159 \n",
       "  \"/>\n",
       "<path clip-path=\"url(#clip0202)\" d=\"\n",
       "M1584.2 1117.13 L1584.2 1446.71 L1713.87 1446.71 L1713.87 1117.13 L1584.2 1117.13 L1584.2 1117.13  Z\n",
       "  \" fill=\"#009af9\" fill-rule=\"evenodd\" fill-opacity=\"1\"/>\n",
       "<polyline clip-path=\"url(#clip0202)\" style=\"stroke:#000000; stroke-width:4; stroke-opacity:1; fill:none\" points=\"\n",
       "  1584.2,1117.13 1584.2,1446.71 1713.87,1446.71 1713.87,1117.13 1584.2,1117.13 \n",
       "  \"/>\n",
       "<path clip-path=\"url(#clip0202)\" d=\"\n",
       "M1713.87 1366 L1713.87 1446.71 L1843.54 1446.71 L1843.54 1366 L1713.87 1366 L1713.87 1366  Z\n",
       "  \" fill=\"#009af9\" fill-rule=\"evenodd\" fill-opacity=\"1\"/>\n",
       "<polyline clip-path=\"url(#clip0202)\" style=\"stroke:#000000; stroke-width:4; stroke-opacity:1; fill:none\" points=\"\n",
       "  1713.87,1366 1713.87,1446.71 1843.54,1446.71 1843.54,1366 1713.87,1366 \n",
       "  \"/>\n",
       "<path clip-path=\"url(#clip0202)\" d=\"\n",
       "M1843.54 1392.9 L1843.54 1446.71 L1973.21 1446.71 L1973.21 1392.9 L1843.54 1392.9 L1843.54 1392.9  Z\n",
       "  \" fill=\"#009af9\" fill-rule=\"evenodd\" fill-opacity=\"1\"/>\n",
       "<polyline clip-path=\"url(#clip0202)\" style=\"stroke:#000000; stroke-width:4; stroke-opacity:1; fill:none\" points=\"\n",
       "  1843.54,1392.9 1843.54,1446.71 1973.21,1446.71 1973.21,1392.9 1843.54,1392.9 \n",
       "  \"/>\n",
       "<path clip-path=\"url(#clip0202)\" d=\"\n",
       "M1973.21 1446.71 L1973.21 1446.71 L2102.88 1446.71 L2102.88 1446.71 L1973.21 1446.71 L1973.21 1446.71  Z\n",
       "  \" fill=\"#009af9\" fill-rule=\"evenodd\" fill-opacity=\"1\"/>\n",
       "<polyline clip-path=\"url(#clip0202)\" style=\"stroke:#000000; stroke-width:4; stroke-opacity:1; fill:none\" points=\"\n",
       "  1973.21,1446.71 1973.21,1446.71 2102.88,1446.71 1973.21,1446.71 \n",
       "  \"/>\n",
       "<path clip-path=\"url(#clip0202)\" d=\"\n",
       "M2102.88 1439.99 L2102.88 1446.71 L2232.55 1446.71 L2232.55 1439.99 L2102.88 1439.99 L2102.88 1439.99  Z\n",
       "  \" fill=\"#009af9\" fill-rule=\"evenodd\" fill-opacity=\"1\"/>\n",
       "<polyline clip-path=\"url(#clip0202)\" style=\"stroke:#000000; stroke-width:4; stroke-opacity:1; fill:none\" points=\"\n",
       "  2102.88,1439.99 2102.88,1446.71 2232.55,1446.71 2232.55,1439.99 2102.88,1439.99 \n",
       "  \"/>\n",
       "<path clip-path=\"url(#clip0200)\" d=\"\n",
       "M1989.93 251.724 L2280.76 251.724 L2280.76 130.764 L1989.93 130.764  Z\n",
       "  \" fill=\"#ffffff\" fill-rule=\"evenodd\" fill-opacity=\"1\"/>\n",
       "<polyline clip-path=\"url(#clip0200)\" style=\"stroke:#000000; stroke-width:4; stroke-opacity:1; fill:none\" points=\"\n",
       "  1989.93,251.724 2280.76,251.724 2280.76,130.764 1989.93,130.764 1989.93,251.724 \n",
       "  \"/>\n",
       "<path clip-path=\"url(#clip0200)\" d=\"\n",
       "M2013.93 215.436 L2157.93 215.436 L2157.93 167.052 L2013.93 167.052 L2013.93 215.436  Z\n",
       "  \" fill=\"#009af9\" fill-rule=\"evenodd\" fill-opacity=\"1\"/>\n",
       "<polyline clip-path=\"url(#clip0200)\" style=\"stroke:#000000; stroke-width:4; stroke-opacity:1; fill:none\" points=\"\n",
       "  2013.93,215.436 2157.93,215.436 2157.93,167.052 2013.93,167.052 2013.93,215.436 \n",
       "  \"/>\n",
       "<g clip-path=\"url(#clip0200)\">\n",
       "<text style=\"fill:#000000; fill-opacity:1; font-family:Arial,Helvetica Neue,Helvetica,sans-serif; font-size:48px; text-anchor:start;\" transform=\"rotate(0, 2181.93, 208.744)\" x=\"2181.93\" y=\"208.744\">y1</text>\n",
       "</g>\n",
       "</svg>\n"
      ]
     },
     "execution_count": 258,
     "metadata": {},
     "output_type": "execute_result"
    }
   ],
   "source": [
    "histogram(randn(1000))"
   ]
  },
  {
   "cell_type": "markdown",
   "metadata": {},
   "source": [
    "產生隨機指數分布數字。`randexp()` 預設的數值型別也是 `Float64`。"
   ]
  },
  {
   "cell_type": "code",
   "execution_count": 259,
   "metadata": {},
   "outputs": [
    {
     "data": {
      "image/svg+xml": [
       "<?xml version=\"1.0\" encoding=\"utf-8\"?>\n",
       "<svg xmlns=\"http://www.w3.org/2000/svg\" xmlns:xlink=\"http://www.w3.org/1999/xlink\" width=\"600\" height=\"400\" viewBox=\"0 0 2400 1600\">\n",
       "<defs>\n",
       "  <clipPath id=\"clip0600\">\n",
       "    <rect x=\"0\" y=\"0\" width=\"2400\" height=\"1600\"/>\n",
       "  </clipPath>\n",
       "</defs>\n",
       "<path clip-path=\"url(#clip0600)\" d=\"\n",
       "M0 1600 L2400 1600 L2400 0 L0 0  Z\n",
       "  \" fill=\"#ffffff\" fill-rule=\"evenodd\" fill-opacity=\"1\"/>\n",
       "<defs>\n",
       "  <clipPath id=\"clip0601\">\n",
       "    <rect x=\"480\" y=\"0\" width=\"1681\" height=\"1600\"/>\n",
       "  </clipPath>\n",
       "</defs>\n",
       "<path clip-path=\"url(#clip0600)\" d=\"\n",
       "M167.279 1487.47 L2352.76 1487.47 L2352.76 47.2441 L167.279 47.2441  Z\n",
       "  \" fill=\"#ffffff\" fill-rule=\"evenodd\" fill-opacity=\"1\"/>\n",
       "<defs>\n",
       "  <clipPath id=\"clip0602\">\n",
       "    <rect x=\"167\" y=\"47\" width=\"2186\" height=\"1441\"/>\n",
       "  </clipPath>\n",
       "</defs>\n",
       "<polyline clip-path=\"url(#clip0602)\" style=\"stroke:#000000; stroke-width:2; stroke-opacity:0.1; fill:none\" points=\"\n",
       "  287.484,1487.47 287.484,47.2441 \n",
       "  \"/>\n",
       "<polyline clip-path=\"url(#clip0602)\" style=\"stroke:#000000; stroke-width:2; stroke-opacity:0.1; fill:none\" points=\"\n",
       "  773.751,1487.47 773.751,47.2441 \n",
       "  \"/>\n",
       "<polyline clip-path=\"url(#clip0602)\" style=\"stroke:#000000; stroke-width:2; stroke-opacity:0.1; fill:none\" points=\"\n",
       "  1260.02,1487.47 1260.02,47.2441 \n",
       "  \"/>\n",
       "<polyline clip-path=\"url(#clip0602)\" style=\"stroke:#000000; stroke-width:2; stroke-opacity:0.1; fill:none\" points=\"\n",
       "  1746.28,1487.47 1746.28,47.2441 \n",
       "  \"/>\n",
       "<polyline clip-path=\"url(#clip0602)\" style=\"stroke:#000000; stroke-width:2; stroke-opacity:0.1; fill:none\" points=\"\n",
       "  2232.55,1487.47 2232.55,47.2441 \n",
       "  \"/>\n",
       "<polyline clip-path=\"url(#clip0602)\" style=\"stroke:#000000; stroke-width:2; stroke-opacity:0.1; fill:none\" points=\"\n",
       "  167.279,1446.71 2352.76,1446.71 \n",
       "  \"/>\n",
       "<polyline clip-path=\"url(#clip0602)\" style=\"stroke:#000000; stroke-width:2; stroke-opacity:0.1; fill:none\" points=\"\n",
       "  167.279,1097.43 2352.76,1097.43 \n",
       "  \"/>\n",
       "<polyline clip-path=\"url(#clip0602)\" style=\"stroke:#000000; stroke-width:2; stroke-opacity:0.1; fill:none\" points=\"\n",
       "  167.279,748.149 2352.76,748.149 \n",
       "  \"/>\n",
       "<polyline clip-path=\"url(#clip0602)\" style=\"stroke:#000000; stroke-width:2; stroke-opacity:0.1; fill:none\" points=\"\n",
       "  167.279,398.867 2352.76,398.867 \n",
       "  \"/>\n",
       "<polyline clip-path=\"url(#clip0602)\" style=\"stroke:#000000; stroke-width:2; stroke-opacity:0.1; fill:none\" points=\"\n",
       "  167.279,49.5843 2352.76,49.5843 \n",
       "  \"/>\n",
       "<polyline clip-path=\"url(#clip0600)\" style=\"stroke:#000000; stroke-width:4; stroke-opacity:1; fill:none\" points=\"\n",
       "  167.279,1487.47 2352.76,1487.47 \n",
       "  \"/>\n",
       "<polyline clip-path=\"url(#clip0600)\" style=\"stroke:#000000; stroke-width:4; stroke-opacity:1; fill:none\" points=\"\n",
       "  167.279,1487.47 167.279,47.2441 \n",
       "  \"/>\n",
       "<polyline clip-path=\"url(#clip0600)\" style=\"stroke:#000000; stroke-width:4; stroke-opacity:1; fill:none\" points=\"\n",
       "  287.484,1487.47 287.484,1470.19 \n",
       "  \"/>\n",
       "<polyline clip-path=\"url(#clip0600)\" style=\"stroke:#000000; stroke-width:4; stroke-opacity:1; fill:none\" points=\"\n",
       "  773.751,1487.47 773.751,1470.19 \n",
       "  \"/>\n",
       "<polyline clip-path=\"url(#clip0600)\" style=\"stroke:#000000; stroke-width:4; stroke-opacity:1; fill:none\" points=\"\n",
       "  1260.02,1487.47 1260.02,1470.19 \n",
       "  \"/>\n",
       "<polyline clip-path=\"url(#clip0600)\" style=\"stroke:#000000; stroke-width:4; stroke-opacity:1; fill:none\" points=\"\n",
       "  1746.28,1487.47 1746.28,1470.19 \n",
       "  \"/>\n",
       "<polyline clip-path=\"url(#clip0600)\" style=\"stroke:#000000; stroke-width:4; stroke-opacity:1; fill:none\" points=\"\n",
       "  2232.55,1487.47 2232.55,1470.19 \n",
       "  \"/>\n",
       "<polyline clip-path=\"url(#clip0600)\" style=\"stroke:#000000; stroke-width:4; stroke-opacity:1; fill:none\" points=\"\n",
       "  167.279,1446.71 193.505,1446.71 \n",
       "  \"/>\n",
       "<polyline clip-path=\"url(#clip0600)\" style=\"stroke:#000000; stroke-width:4; stroke-opacity:1; fill:none\" points=\"\n",
       "  167.279,1097.43 193.505,1097.43 \n",
       "  \"/>\n",
       "<polyline clip-path=\"url(#clip0600)\" style=\"stroke:#000000; stroke-width:4; stroke-opacity:1; fill:none\" points=\"\n",
       "  167.279,748.149 193.505,748.149 \n",
       "  \"/>\n",
       "<polyline clip-path=\"url(#clip0600)\" style=\"stroke:#000000; stroke-width:4; stroke-opacity:1; fill:none\" points=\"\n",
       "  167.279,398.867 193.505,398.867 \n",
       "  \"/>\n",
       "<polyline clip-path=\"url(#clip0600)\" style=\"stroke:#000000; stroke-width:4; stroke-opacity:1; fill:none\" points=\"\n",
       "  167.279,49.5843 193.505,49.5843 \n",
       "  \"/>\n",
       "<g clip-path=\"url(#clip0600)\">\n",
       "<text style=\"fill:#000000; fill-opacity:1; font-family:Arial,Helvetica Neue,Helvetica,sans-serif; font-size:48px; text-anchor:middle;\" transform=\"rotate(0, 287.484, 1541.47)\" x=\"287.484\" y=\"1541.47\">0</text>\n",
       "</g>\n",
       "<g clip-path=\"url(#clip0600)\">\n",
       "<text style=\"fill:#000000; fill-opacity:1; font-family:Arial,Helvetica Neue,Helvetica,sans-serif; font-size:48px; text-anchor:middle;\" transform=\"rotate(0, 773.751, 1541.47)\" x=\"773.751\" y=\"1541.47\">2</text>\n",
       "</g>\n",
       "<g clip-path=\"url(#clip0600)\">\n",
       "<text style=\"fill:#000000; fill-opacity:1; font-family:Arial,Helvetica Neue,Helvetica,sans-serif; font-size:48px; text-anchor:middle;\" transform=\"rotate(0, 1260.02, 1541.47)\" x=\"1260.02\" y=\"1541.47\">4</text>\n",
       "</g>\n",
       "<g clip-path=\"url(#clip0600)\">\n",
       "<text style=\"fill:#000000; fill-opacity:1; font-family:Arial,Helvetica Neue,Helvetica,sans-serif; font-size:48px; text-anchor:middle;\" transform=\"rotate(0, 1746.28, 1541.47)\" x=\"1746.28\" y=\"1541.47\">6</text>\n",
       "</g>\n",
       "<g clip-path=\"url(#clip0600)\">\n",
       "<text style=\"fill:#000000; fill-opacity:1; font-family:Arial,Helvetica Neue,Helvetica,sans-serif; font-size:48px; text-anchor:middle;\" transform=\"rotate(0, 2232.55, 1541.47)\" x=\"2232.55\" y=\"1541.47\">8</text>\n",
       "</g>\n",
       "<g clip-path=\"url(#clip0600)\">\n",
       "<text style=\"fill:#000000; fill-opacity:1; font-family:Arial,Helvetica Neue,Helvetica,sans-serif; font-size:48px; text-anchor:end;\" transform=\"rotate(0, 143.279, 1464.21)\" x=\"143.279\" y=\"1464.21\">0</text>\n",
       "</g>\n",
       "<g clip-path=\"url(#clip0600)\">\n",
       "<text style=\"fill:#000000; fill-opacity:1; font-family:Arial,Helvetica Neue,Helvetica,sans-serif; font-size:48px; text-anchor:end;\" transform=\"rotate(0, 143.279, 1114.93)\" x=\"143.279\" y=\"1114.93\">100</text>\n",
       "</g>\n",
       "<g clip-path=\"url(#clip0600)\">\n",
       "<text style=\"fill:#000000; fill-opacity:1; font-family:Arial,Helvetica Neue,Helvetica,sans-serif; font-size:48px; text-anchor:end;\" transform=\"rotate(0, 143.279, 765.649)\" x=\"143.279\" y=\"765.649\">200</text>\n",
       "</g>\n",
       "<g clip-path=\"url(#clip0600)\">\n",
       "<text style=\"fill:#000000; fill-opacity:1; font-family:Arial,Helvetica Neue,Helvetica,sans-serif; font-size:48px; text-anchor:end;\" transform=\"rotate(0, 143.279, 416.367)\" x=\"143.279\" y=\"416.367\">300</text>\n",
       "</g>\n",
       "<g clip-path=\"url(#clip0600)\">\n",
       "<text style=\"fill:#000000; fill-opacity:1; font-family:Arial,Helvetica Neue,Helvetica,sans-serif; font-size:48px; text-anchor:end;\" transform=\"rotate(0, 143.279, 67.0843)\" x=\"143.279\" y=\"67.0843\">400</text>\n",
       "</g>\n",
       "<path clip-path=\"url(#clip0602)\" d=\"\n",
       "M287.484 88.0053 L287.484 1446.71 L409.051 1446.71 L409.051 88.0053 L287.484 88.0053 L287.484 88.0053  Z\n",
       "  \" fill=\"#009af9\" fill-rule=\"evenodd\" fill-opacity=\"1\"/>\n",
       "<polyline clip-path=\"url(#clip0602)\" style=\"stroke:#000000; stroke-width:4; stroke-opacity:1; fill:none\" points=\"\n",
       "  287.484,88.0053 287.484,1446.71 409.051,1446.71 409.051,88.0053 287.484,88.0053 \n",
       "  \"/>\n",
       "<path clip-path=\"url(#clip0602)\" d=\"\n",
       "M409.051 674.8 L409.051 1446.71 L530.618 1446.71 L530.618 674.8 L409.051 674.8 L409.051 674.8  Z\n",
       "  \" fill=\"#009af9\" fill-rule=\"evenodd\" fill-opacity=\"1\"/>\n",
       "<polyline clip-path=\"url(#clip0602)\" style=\"stroke:#000000; stroke-width:4; stroke-opacity:1; fill:none\" points=\"\n",
       "  409.051,674.8 409.051,1446.71 530.618,1446.71 530.618,674.8 409.051,674.8 \n",
       "  \"/>\n",
       "<path clip-path=\"url(#clip0602)\" d=\"\n",
       "M530.618 961.211 L530.618 1446.71 L652.184 1446.71 L652.184 961.211 L530.618 961.211 L530.618 961.211  Z\n",
       "  \" fill=\"#009af9\" fill-rule=\"evenodd\" fill-opacity=\"1\"/>\n",
       "<polyline clip-path=\"url(#clip0602)\" style=\"stroke:#000000; stroke-width:4; stroke-opacity:1; fill:none\" points=\"\n",
       "  530.618,961.211 530.618,1446.71 652.184,1446.71 652.184,961.211 530.618,961.211 \n",
       "  \"/>\n",
       "<path clip-path=\"url(#clip0602)\" d=\"\n",
       "M652.184 1086.95 L652.184 1446.71 L773.751 1446.71 L773.751 1086.95 L652.184 1086.95 L652.184 1086.95  Z\n",
       "  \" fill=\"#009af9\" fill-rule=\"evenodd\" fill-opacity=\"1\"/>\n",
       "<polyline clip-path=\"url(#clip0602)\" style=\"stroke:#000000; stroke-width:4; stroke-opacity:1; fill:none\" points=\"\n",
       "  652.184,1086.95 652.184,1446.71 773.751,1446.71 773.751,1086.95 652.184,1086.95 \n",
       "  \"/>\n",
       "<path clip-path=\"url(#clip0602)\" d=\"\n",
       "M773.751 1258.1 L773.751 1446.71 L895.318 1446.71 L895.318 1258.1 L773.751 1258.1 L773.751 1258.1  Z\n",
       "  \" fill=\"#009af9\" fill-rule=\"evenodd\" fill-opacity=\"1\"/>\n",
       "<polyline clip-path=\"url(#clip0602)\" style=\"stroke:#000000; stroke-width:4; stroke-opacity:1; fill:none\" points=\"\n",
       "  773.751,1258.1 773.751,1446.71 895.318,1446.71 895.318,1258.1 773.751,1258.1 \n",
       "  \"/>\n",
       "<path clip-path=\"url(#clip0602)\" d=\"\n",
       "M895.318 1310.49 L895.318 1446.71 L1016.88 1446.71 L1016.88 1310.49 L895.318 1310.49 L895.318 1310.49  Z\n",
       "  \" fill=\"#009af9\" fill-rule=\"evenodd\" fill-opacity=\"1\"/>\n",
       "<polyline clip-path=\"url(#clip0602)\" style=\"stroke:#000000; stroke-width:4; stroke-opacity:1; fill:none\" points=\"\n",
       "  895.318,1310.49 895.318,1446.71 1016.88,1446.71 1016.88,1310.49 895.318,1310.49 \n",
       "  \"/>\n",
       "<path clip-path=\"url(#clip0602)\" d=\"\n",
       "M1016.88 1369.87 L1016.88 1446.71 L1138.45 1446.71 L1138.45 1369.87 L1016.88 1369.87 L1016.88 1369.87  Z\n",
       "  \" fill=\"#009af9\" fill-rule=\"evenodd\" fill-opacity=\"1\"/>\n",
       "<polyline clip-path=\"url(#clip0602)\" style=\"stroke:#000000; stroke-width:4; stroke-opacity:1; fill:none\" points=\"\n",
       "  1016.88,1369.87 1016.88,1446.71 1138.45,1446.71 1138.45,1369.87 1016.88,1369.87 \n",
       "  \"/>\n",
       "<path clip-path=\"url(#clip0602)\" d=\"\n",
       "M1138.45 1408.29 L1138.45 1446.71 L1260.02 1446.71 L1260.02 1408.29 L1138.45 1408.29 L1138.45 1408.29  Z\n",
       "  \" fill=\"#009af9\" fill-rule=\"evenodd\" fill-opacity=\"1\"/>\n",
       "<polyline clip-path=\"url(#clip0602)\" style=\"stroke:#000000; stroke-width:4; stroke-opacity:1; fill:none\" points=\"\n",
       "  1138.45,1408.29 1138.45,1446.71 1260.02,1446.71 1260.02,1408.29 1138.45,1408.29 \n",
       "  \"/>\n",
       "<path clip-path=\"url(#clip0602)\" d=\"\n",
       "M1260.02 1425.76 L1260.02 1446.71 L1381.58 1446.71 L1381.58 1425.76 L1260.02 1425.76 L1260.02 1425.76  Z\n",
       "  \" fill=\"#009af9\" fill-rule=\"evenodd\" fill-opacity=\"1\"/>\n",
       "<polyline clip-path=\"url(#clip0602)\" style=\"stroke:#000000; stroke-width:4; stroke-opacity:1; fill:none\" points=\"\n",
       "  1260.02,1425.76 1260.02,1446.71 1381.58,1446.71 1381.58,1425.76 1260.02,1425.76 \n",
       "  \"/>\n",
       "<path clip-path=\"url(#clip0602)\" d=\"\n",
       "M1381.58 1418.77 L1381.58 1446.71 L1503.15 1446.71 L1503.15 1418.77 L1381.58 1418.77 L1381.58 1418.77  Z\n",
       "  \" fill=\"#009af9\" fill-rule=\"evenodd\" fill-opacity=\"1\"/>\n",
       "<polyline clip-path=\"url(#clip0602)\" style=\"stroke:#000000; stroke-width:4; stroke-opacity:1; fill:none\" points=\"\n",
       "  1381.58,1418.77 1381.58,1446.71 1503.15,1446.71 1503.15,1418.77 1381.58,1418.77 \n",
       "  \"/>\n",
       "<path clip-path=\"url(#clip0602)\" d=\"\n",
       "M1503.15 1436.24 L1503.15 1446.71 L1624.72 1446.71 L1624.72 1436.24 L1503.15 1436.24 L1503.15 1436.24  Z\n",
       "  \" fill=\"#009af9\" fill-rule=\"evenodd\" fill-opacity=\"1\"/>\n",
       "<polyline clip-path=\"url(#clip0602)\" style=\"stroke:#000000; stroke-width:4; stroke-opacity:1; fill:none\" points=\"\n",
       "  1503.15,1436.24 1503.15,1446.71 1624.72,1446.71 1624.72,1436.24 1503.15,1436.24 \n",
       "  \"/>\n",
       "<path clip-path=\"url(#clip0602)\" d=\"\n",
       "M1624.72 1443.22 L1624.72 1446.71 L1746.28 1446.71 L1746.28 1443.22 L1624.72 1443.22 L1624.72 1443.22  Z\n",
       "  \" fill=\"#009af9\" fill-rule=\"evenodd\" fill-opacity=\"1\"/>\n",
       "<polyline clip-path=\"url(#clip0602)\" style=\"stroke:#000000; stroke-width:4; stroke-opacity:1; fill:none\" points=\"\n",
       "  1624.72,1443.22 1624.72,1446.71 1746.28,1446.71 1746.28,1443.22 1624.72,1443.22 \n",
       "  \"/>\n",
       "<path clip-path=\"url(#clip0602)\" d=\"\n",
       "M1746.28 1439.73 L1746.28 1446.71 L1867.85 1446.71 L1867.85 1439.73 L1746.28 1439.73 L1746.28 1439.73  Z\n",
       "  \" fill=\"#009af9\" fill-rule=\"evenodd\" fill-opacity=\"1\"/>\n",
       "<polyline clip-path=\"url(#clip0602)\" style=\"stroke:#000000; stroke-width:4; stroke-opacity:1; fill:none\" points=\"\n",
       "  1746.28,1439.73 1746.28,1446.71 1867.85,1446.71 1867.85,1439.73 1746.28,1439.73 \n",
       "  \"/>\n",
       "<path clip-path=\"url(#clip0602)\" d=\"\n",
       "M1867.85 1446.71 L1867.85 1446.71 L1989.42 1446.71 L1989.42 1446.71 L1867.85 1446.71 L1867.85 1446.71  Z\n",
       "  \" fill=\"#009af9\" fill-rule=\"evenodd\" fill-opacity=\"1\"/>\n",
       "<polyline clip-path=\"url(#clip0602)\" style=\"stroke:#000000; stroke-width:4; stroke-opacity:1; fill:none\" points=\"\n",
       "  1867.85,1446.71 1867.85,1446.71 1989.42,1446.71 1867.85,1446.71 \n",
       "  \"/>\n",
       "<path clip-path=\"url(#clip0602)\" d=\"\n",
       "M1989.42 1443.22 L1989.42 1446.71 L2110.98 1446.71 L2110.98 1443.22 L1989.42 1443.22 L1989.42 1443.22  Z\n",
       "  \" fill=\"#009af9\" fill-rule=\"evenodd\" fill-opacity=\"1\"/>\n",
       "<polyline clip-path=\"url(#clip0602)\" style=\"stroke:#000000; stroke-width:4; stroke-opacity:1; fill:none\" points=\"\n",
       "  1989.42,1443.22 1989.42,1446.71 2110.98,1446.71 2110.98,1443.22 1989.42,1443.22 \n",
       "  \"/>\n",
       "<path clip-path=\"url(#clip0602)\" d=\"\n",
       "M2110.98 1443.22 L2110.98 1446.71 L2232.55 1446.71 L2232.55 1443.22 L2110.98 1443.22 L2110.98 1443.22  Z\n",
       "  \" fill=\"#009af9\" fill-rule=\"evenodd\" fill-opacity=\"1\"/>\n",
       "<polyline clip-path=\"url(#clip0602)\" style=\"stroke:#000000; stroke-width:4; stroke-opacity:1; fill:none\" points=\"\n",
       "  2110.98,1443.22 2110.98,1446.71 2232.55,1446.71 2232.55,1443.22 2110.98,1443.22 \n",
       "  \"/>\n",
       "<path clip-path=\"url(#clip0600)\" d=\"\n",
       "M1989.93 251.724 L2280.76 251.724 L2280.76 130.764 L1989.93 130.764  Z\n",
       "  \" fill=\"#ffffff\" fill-rule=\"evenodd\" fill-opacity=\"1\"/>\n",
       "<polyline clip-path=\"url(#clip0600)\" style=\"stroke:#000000; stroke-width:4; stroke-opacity:1; fill:none\" points=\"\n",
       "  1989.93,251.724 2280.76,251.724 2280.76,130.764 1989.93,130.764 1989.93,251.724 \n",
       "  \"/>\n",
       "<path clip-path=\"url(#clip0600)\" d=\"\n",
       "M2013.93 215.436 L2157.93 215.436 L2157.93 167.052 L2013.93 167.052 L2013.93 215.436  Z\n",
       "  \" fill=\"#009af9\" fill-rule=\"evenodd\" fill-opacity=\"1\"/>\n",
       "<polyline clip-path=\"url(#clip0600)\" style=\"stroke:#000000; stroke-width:4; stroke-opacity:1; fill:none\" points=\"\n",
       "  2013.93,215.436 2157.93,215.436 2157.93,167.052 2013.93,167.052 2013.93,215.436 \n",
       "  \"/>\n",
       "<g clip-path=\"url(#clip0600)\">\n",
       "<text style=\"fill:#000000; fill-opacity:1; font-family:Arial,Helvetica Neue,Helvetica,sans-serif; font-size:48px; text-anchor:start;\" transform=\"rotate(0, 2181.93, 208.744)\" x=\"2181.93\" y=\"208.744\">y1</text>\n",
       "</g>\n",
       "</svg>\n"
      ]
     },
     "execution_count": 259,
     "metadata": {},
     "output_type": "execute_result"
    }
   ],
   "source": [
    "using Random\n",
    "\n",
    "histogram(randexp(1000))"
   ]
  },
  {
   "cell_type": "code",
   "execution_count": null,
   "metadata": {},
   "outputs": [],
   "source": []
  }
 ],
 "metadata": {
  "@webio": {
   "lastCommId": null,
   "lastKernelId": null
  },
  "kernelspec": {
   "display_name": "Julia 1.4.0",
   "language": "julia",
   "name": "julia-1.4"
  },
  "language_info": {
   "file_extension": ".jl",
   "mimetype": "application/julia",
   "name": "julia",
   "version": "1.4.0"
  }
 },
 "nbformat": 4,
 "nbformat_minor": 4
}
