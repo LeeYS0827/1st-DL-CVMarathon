{
 "cells": [
  {
   "cell_type": "markdown",
   "metadata": {},
   "source": [
    "# Julia 深度學習：卷積神經網路模型簡介"
   ]
  },
  {
   "cell_type": "markdown",
   "metadata": {},
   "source": [
    "本範例有可選用套件 CuArrays，請在執行以下範例前先安裝。\n",
    "\n",
    "```\n",
    "] add CuArrays\n",
    "```"
   ]
  },
  {
   "cell_type": "code",
   "execution_count": 1,
   "metadata": {},
   "outputs": [],
   "source": [
    "using Flux\n",
    "using Flux.Data: DataLoader\n",
    "using Flux: @epochs, onecold, onehotbatch, throttle, logitcrossentropy\n",
    "using MLDatasets\n",
    "using Statistics"
   ]
  },
  {
   "cell_type": "markdown",
   "metadata": {},
   "source": [
    "## 載入資料"
   ]
  },
  {
   "cell_type": "code",
   "execution_count": 2,
   "metadata": {},
   "outputs": [],
   "source": [
    "train_X, train_y = MNIST.traindata(Float32);\n",
    "test_X, test_y = MNIST.testdata(Float32);"
   ]
  },
  {
   "cell_type": "code",
   "execution_count": 3,
   "metadata": {},
   "outputs": [],
   "source": [
    "train_X = reshape(train_X, 28, 28, 1, :);\n",
    "test_X = reshape(test_X, 28, 28, 1, :);\n",
    "train_y = onehotbatch(train_y, 0:9);\n",
    "test_y = onehotbatch(test_y, 0:9);"
   ]
  },
  {
   "cell_type": "code",
   "execution_count": 4,
   "metadata": {},
   "outputs": [],
   "source": [
    "batchsize = 1024;\n",
    "train = DataLoader(train_X, train_y, batchsize=batchsize, shuffle=true);\n",
    "test = DataLoader(test_X, test_y, batchsize=batchsize);"
   ]
  },
  {
   "cell_type": "markdown",
   "metadata": {},
   "source": [
    "## CNN 模型"
   ]
  },
  {
   "cell_type": "code",
   "execution_count": 5,
   "metadata": {},
   "outputs": [
    {
     "data": {
      "text/plain": [
       "Chain(Conv((3, 3), 1=>16, relu), MaxPool((2, 2), pad = (0, 0, 0, 0), stride = (2, 2)), Conv((3, 3), 16=>32, relu), MaxPool((2, 2), pad = (0, 0, 0, 0), stride = (2, 2)), Conv((3, 3), 32=>32, relu), MaxPool((2, 2), pad = (0, 0, 0, 0), stride = (2, 2)), flatten, Dense(288, 10), softmax)"
      ]
     },
     "execution_count": 5,
     "metadata": {},
     "output_type": "execute_result"
    }
   ],
   "source": [
    "model = Chain(\n",
    "    Conv((3, 3), 1=>16, pad=(1,1), relu),\n",
    "    MaxPool((2,2)),\n",
    "    Conv((3, 3), 16=>32, pad=(1,1), relu),\n",
    "    MaxPool((2,2)),\n",
    "    Conv((3, 3), 32=>32, pad=(1,1), relu),\n",
    "    MaxPool((2,2)),\n",
    "    flatten,\n",
    "    Dense(288, 10),\n",
    "    softmax)"
   ]
  },
  {
   "cell_type": "markdown",
   "metadata": {},
   "source": [
    "## 使用 CUDA"
   ]
  },
  {
   "cell_type": "code",
   "execution_count": null,
   "metadata": {},
   "outputs": [],
   "source": [
    "using CuArrays\n",
    "model = model |> gpu\n",
    "train_X = train_X |> gpu\n",
    "train_y = train_y |> gpu\n",
    "test_X = test_X |> gpu\n",
    "test_y = test_y |> gpu"
   ]
  },
  {
   "cell_type": "code",
   "execution_count": null,
   "metadata": {},
   "outputs": [],
   "source": [
    "CuArrays.allowscalar(false)"
   ]
  },
  {
   "cell_type": "markdown",
   "metadata": {},
   "source": [
    "## 損失函數"
   ]
  },
  {
   "cell_type": "code",
   "execution_count": 6,
   "metadata": {},
   "outputs": [
    {
     "data": {
      "text/plain": [
       "loss (generic function with 1 method)"
      ]
     },
     "execution_count": 6,
     "metadata": {},
     "output_type": "execute_result"
    }
   ],
   "source": [
    "loss(x, y) = logitcrossentropy(model(x), y)"
   ]
  },
  {
   "cell_type": "markdown",
   "metadata": {},
   "source": [
    "## Callback 函式"
   ]
  },
  {
   "cell_type": "code",
   "execution_count": 7,
   "metadata": {},
   "outputs": [
    {
     "data": {
      "text/plain": [
       "test_loss (generic function with 1 method)"
      ]
     },
     "execution_count": 7,
     "metadata": {},
     "output_type": "execute_result"
    }
   ],
   "source": [
    "function test_loss()\n",
    "    l = 0f0\n",
    "    for (x, y) in test\n",
    "        l += loss(x, y)\n",
    "    end\n",
    "    l/length(test)\n",
    "end"
   ]
  },
  {
   "cell_type": "code",
   "execution_count": 8,
   "metadata": {},
   "outputs": [
    {
     "data": {
      "text/plain": [
       "evalcb (generic function with 1 method)"
      ]
     },
     "execution_count": 8,
     "metadata": {},
     "output_type": "execute_result"
    }
   ],
   "source": [
    "evalcb() = @show(test_loss())"
   ]
  },
  {
   "cell_type": "markdown",
   "metadata": {},
   "source": [
    "## 模型訓練"
   ]
  },
  {
   "cell_type": "code",
   "execution_count": 9,
   "metadata": {},
   "outputs": [
    {
     "name": "stderr",
     "output_type": "stream",
     "text": [
      "┌ Info: Epoch 1\n",
      "└ @ Main C:\\Users\\qwerz\\.julia\\packages\\Flux\\Fj3bt\\src\\optimise\\train.jl:121\n"
     ]
    },
    {
     "name": "stdout",
     "output_type": "stream",
     "text": [
      "test_loss() = 2.295753f0\n",
      "test_loss() = 1.9420303f0\n",
      "test_loss() = 1.7135065f0\n",
      "test_loss() = 1.6613283f0\n",
      "test_loss() = 1.6287315f0\n",
      "test_loss() = 1.6232039f0\n",
      "test_loss() = 1.6071837f0\n"
     ]
    },
    {
     "name": "stderr",
     "output_type": "stream",
     "text": [
      "┌ Info: Epoch 2\n",
      "└ @ Main C:\\Users\\qwerz\\.julia\\packages\\Flux\\Fj3bt\\src\\optimise\\train.jl:121\n"
     ]
    },
    {
     "name": "stdout",
     "output_type": "stream",
     "text": [
      "test_loss() = 1.8957886f0\n",
      "test_loss() = 1.7022787f0\n",
      "test_loss() = 1.6681086f0\n",
      "test_loss() = 1.6249506f0\n",
      "test_loss() = 1.6031818f0\n",
      "test_loss() = 1.5935194f0\n",
      "test_loss() = 1.5852354f0\n"
     ]
    },
    {
     "name": "stderr",
     "output_type": "stream",
     "text": [
      "┌ Info: Epoch 3\n",
      "└ @ Main C:\\Users\\qwerz\\.julia\\packages\\Flux\\Fj3bt\\src\\optimise\\train.jl:121\n"
     ]
    },
    {
     "name": "stdout",
     "output_type": "stream",
     "text": [
      "test_loss() = 1.6557213f0\n",
      "test_loss() = 1.6007626f0\n",
      "test_loss() = 1.5852063f0\n",
      "test_loss() = 1.5779884f0\n",
      "test_loss() = 1.5754546f0\n",
      "test_loss() = 1.5720065f0\n",
      "test_loss() = 1.5706813f0\n"
     ]
    },
    {
     "name": "stderr",
     "output_type": "stream",
     "text": [
      "┌ Info: Epoch 4\n",
      "└ @ Main C:\\Users\\qwerz\\.julia\\packages\\Flux\\Fj3bt\\src\\optimise\\train.jl:121\n"
     ]
    },
    {
     "name": "stdout",
     "output_type": "stream",
     "text": [
      "test_loss() = 1.5965443f0\n",
      "test_loss() = 1.5827436f0\n",
      "test_loss() = 1.5701668f0\n",
      "test_loss() = 1.5675156f0\n",
      "test_loss() = 1.5673304f0\n",
      "test_loss() = 1.5668051f0\n",
      "test_loss() = 1.565996f0\n"
     ]
    },
    {
     "name": "stderr",
     "output_type": "stream",
     "text": [
      "┌ Info: Epoch 5\n",
      "└ @ Main C:\\Users\\qwerz\\.julia\\packages\\Flux\\Fj3bt\\src\\optimise\\train.jl:121\n"
     ]
    },
    {
     "name": "stdout",
     "output_type": "stream",
     "text": [
      "test_loss() = 1.5708936f0\n",
      "test_loss() = 1.5667822f0\n",
      "test_loss() = 1.5649023f0\n",
      "test_loss() = 1.565459f0\n",
      "test_loss() = 1.5640906f0\n",
      "test_loss() = 1.5653436f0\n",
      "test_loss() = 1.5628531f0\n"
     ]
    },
    {
     "name": "stderr",
     "output_type": "stream",
     "text": [
      "┌ Info: Epoch 6\n",
      "└ @ Main C:\\Users\\qwerz\\.julia\\packages\\Flux\\Fj3bt\\src\\optimise\\train.jl:121\n"
     ]
    },
    {
     "ename": "InterruptException",
     "evalue": "InterruptException:",
     "output_type": "error",
     "traceback": [
      "InterruptException:",
      "",
      "Stacktrace:",
      " [1] try_yieldto(::typeof(Base.ensure_rescheduled), ::Base.RefValue{Task}) at .\\task.jl:654",
      " [2] wait() at .\\task.jl:710",
      " [3] wait(::Base.GenericCondition{Base.Threads.SpinLock}) at .\\condition.jl:106",
      " [4] _wait(::Task) at .\\task.jl:238",
      " [5] wait(::Task) at .\\task.jl:265",
      " [6] macro expansion at .\\threadingconstructs.jl:69 [inlined]",
      " [7] ∇conv_data_im2col!(::Array{Float32,5}, ::Array{Float32,5}, ::Array{Float32,5}, ::DenseConvDims{3,(3, 3, 1),32,32,(1, 1, 1),(1, 1, 1, 1, 0, 0),(1, 1, 1),false}; col::Array{Float32,3}, alpha::Float32, beta::Float32) at C:\\Users\\qwerz\\.julia\\packages\\NNlib\\FAI3o\\src\\impl\\conv_im2col.jl:149",
      " [8] ∇conv_data_im2col! at C:\\Users\\qwerz\\.julia\\packages\\NNlib\\FAI3o\\src\\impl\\conv_im2col.jl:128 [inlined]",
      " [9] #∇conv_data!#42 at C:\\Users\\qwerz\\.julia\\packages\\NNlib\\FAI3o\\src\\conv.jl:53 [inlined]",
      " [10] ∇conv_data!(::Array{Float32,5}, ::Array{Float32,5}, ::Array{Float32,5}, ::DenseConvDims{3,(3, 3, 1),32,32,(1, 1, 1),(1, 1, 1, 1, 0, 0),(1, 1, 1),false}) at C:\\Users\\qwerz\\.julia\\packages\\NNlib\\FAI3o\\src\\conv.jl:53",
      " [11] ∇conv_data!(::Array{Float32,4}, ::Array{Float32,4}, ::Array{Float32,4}, ::DenseConvDims{2,(3, 3),32,32,(1, 1),(1, 1, 1, 1),(1, 1),false}; kwargs::Base.Iterators.Pairs{Union{},Union{},Tuple{},NamedTuple{(),Tuple{}}}) at C:\\Users\\qwerz\\.julia\\packages\\NNlib\\FAI3o\\src\\conv.jl:70",
      " [12] ∇conv_data! at C:\\Users\\qwerz\\.julia\\packages\\NNlib\\FAI3o\\src\\conv.jl:70 [inlined]",
      " [13] #∇conv_data#91 at C:\\Users\\qwerz\\.julia\\packages\\NNlib\\FAI3o\\src\\conv.jl:128 [inlined]",
      " [14] ∇conv_data at C:\\Users\\qwerz\\.julia\\packages\\NNlib\\FAI3o\\src\\conv.jl:126 [inlined]",
      " [15] #1832 at C:\\Users\\qwerz\\.julia\\packages\\Zygote\\YeCEW\\src\\lib\\nnlib.jl:30 [inlined]",
      " [16] #4543#back at C:\\Users\\qwerz\\.julia\\packages\\ZygoteRules\\6nssF\\src\\adjoint.jl:49 [inlined]",
      " [17] Conv at C:\\Users\\qwerz\\.julia\\packages\\Flux\\Fj3bt\\src\\layers\\conv.jl:61 [inlined]",
      " [18] applychain at C:\\Users\\qwerz\\.julia\\packages\\Flux\\Fj3bt\\src\\layers\\basic.jl:36 [inlined]",
      " [19] (::typeof(∂(applychain)))(::Array{Float32,2}) at C:\\Users\\qwerz\\.julia\\packages\\Zygote\\YeCEW\\src\\compiler\\interface2.jl:0",
      " [20] applychain at C:\\Users\\qwerz\\.julia\\packages\\Flux\\Fj3bt\\src\\layers\\basic.jl:36 [inlined] (repeats 2 times)",
      " [21] (::typeof(∂(applychain)))(::Array{Float32,2}) at C:\\Users\\qwerz\\.julia\\packages\\Zygote\\YeCEW\\src\\compiler\\interface2.jl:0",
      " [22] applychain at C:\\Users\\qwerz\\.julia\\packages\\Flux\\Fj3bt\\src\\layers\\basic.jl:36 [inlined] (repeats 2 times)",
      " [23] (::typeof(∂(applychain)))(::Array{Float32,2}) at C:\\Users\\qwerz\\.julia\\packages\\Zygote\\YeCEW\\src\\compiler\\interface2.jl:0",
      " [24] Chain at C:\\Users\\qwerz\\.julia\\packages\\Flux\\Fj3bt\\src\\layers\\basic.jl:38 [inlined]",
      " [25] (::typeof(∂(λ)))(::Array{Float32,2}) at C:\\Users\\qwerz\\.julia\\packages\\Zygote\\YeCEW\\src\\compiler\\interface2.jl:0",
      " [26] loss at .\\In[6]:1 [inlined]",
      " [27] (::typeof(∂(loss)))(::Float32) at C:\\Users\\qwerz\\.julia\\packages\\Zygote\\YeCEW\\src\\compiler\\interface2.jl:0",
      " [28] #174 at C:\\Users\\qwerz\\.julia\\packages\\Zygote\\YeCEW\\src\\lib\\lib.jl:182 [inlined]",
      " [29] #347#back at C:\\Users\\qwerz\\.julia\\packages\\ZygoteRules\\6nssF\\src\\adjoint.jl:49 [inlined]",
      " [30] #17 at C:\\Users\\qwerz\\.julia\\packages\\Flux\\Fj3bt\\src\\optimise\\train.jl:89 [inlined]",
      " [31] (::Zygote.var\"#49#50\"{Zygote.Params,Zygote.Context,typeof(∂(λ))})(::Float32) at C:\\Users\\qwerz\\.julia\\packages\\Zygote\\YeCEW\\src\\compiler\\interface.jl:179",
      " [32] gradient(::Function, ::Zygote.Params) at C:\\Users\\qwerz\\.julia\\packages\\Zygote\\YeCEW\\src\\compiler\\interface.jl:55",
      " [33] macro expansion at C:\\Users\\qwerz\\.julia\\packages\\Flux\\Fj3bt\\src\\optimise\\train.jl:88 [inlined]",
      " [34] macro expansion at C:\\Users\\qwerz\\.julia\\packages\\Juno\\f8hj2\\src\\progress.jl:134 [inlined]",
      " [35] train!(::typeof(loss), ::Zygote.Params, ::DataLoader, ::ADAM; cb::Flux.var\"#throttled#20\"{Flux.var\"#throttled#16#21\"{Bool,Bool,typeof(evalcb),Int64}}) at C:\\Users\\qwerz\\.julia\\packages\\Flux\\Fj3bt\\src\\optimise\\train.jl:81",
      " [36] top-level scope at C:\\Users\\qwerz\\.julia\\packages\\Flux\\Fj3bt\\src\\optimise\\train.jl:122",
      " [37] top-level scope at C:\\Users\\qwerz\\.julia\\packages\\Juno\\f8hj2\\src\\progress.jl:134",
      " [38] top-level scope at In[9]:2"
     ]
    }
   ],
   "source": [
    "epochs = 20\n",
    "@epochs epochs Flux.train!(loss, params(model), train, ADAM(0.005), cb=throttle(evalcb, 10))"
   ]
  },
  {
   "cell_type": "markdown",
   "metadata": {},
   "source": [
    "## 模型評估"
   ]
  },
  {
   "cell_type": "code",
   "execution_count": 10,
   "metadata": {},
   "outputs": [
    {
     "data": {
      "text/plain": [
       "accuracy (generic function with 1 method)"
      ]
     },
     "execution_count": 10,
     "metadata": {},
     "output_type": "execute_result"
    }
   ],
   "source": [
    "accuracy(x, y) = mean(onecold(model(x)) .== onecold(y))"
   ]
  },
  {
   "cell_type": "code",
   "execution_count": 11,
   "metadata": {},
   "outputs": [
    {
     "data": {
      "text/plain": [
       "0.8961"
      ]
     },
     "execution_count": 11,
     "metadata": {},
     "output_type": "execute_result"
    }
   ],
   "source": [
    "accuracy(test_X, test_y)"
   ]
  }
 ],
 "metadata": {
  "kernelspec": {
   "display_name": "Julia 1.4.0",
   "language": "julia",
   "name": "julia-1.4"
  },
  "language_info": {
   "file_extension": ".jl",
   "mimetype": "application/julia",
   "name": "julia",
   "version": "1.4.0"
  }
 },
 "nbformat": 4,
 "nbformat_minor": 4
}
