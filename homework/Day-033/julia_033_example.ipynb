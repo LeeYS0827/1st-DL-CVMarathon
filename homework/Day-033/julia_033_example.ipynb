{
 "cells": [
  {
   "cell_type": "markdown",
   "metadata": {},
   "source": [
    "# Julia 深度學習：卷積神經網路模型簡介"
   ]
  },
  {
   "cell_type": "code",
   "execution_count": 1,
   "metadata": {},
   "outputs": [],
   "source": [
    "using Flux\n",
    "using Flux.Data: DataLoader\n",
    "using Flux.Optimise: Optimiser, WeightDecay\n",
    "using Flux: onehotbatch, onecold, logitcrossentropy\n",
    "using Statistics, Random\n",
    "import ProgressMeter\n",
    "import MLDatasets\n",
    "using CUDAapi"
   ]
  },
  {
   "cell_type": "code",
   "execution_count": 2,
   "metadata": {},
   "outputs": [],
   "source": [
    "η = 5e-4             # learning rate\n",
    "λ = 0                # L2 regularizer param, implemented as weight decay\n",
    "epochs = 20          # number of epochs\n",
    "batchsize = 256      # batch size"
   ]
  },
  {
   "cell_type": "markdown",
   "metadata": {},
   "source": [
    "## 使用 CUDA"
   ]
  },
  {
   "cell_type": "code",
   "execution_count": 3,
   "metadata": {},
   "outputs": [
    {
     "name": "stdout",
     "output_type": "stream",
     "text": [
      "Training on GPU\n"
     ]
    }
   ],
   "source": [
    "use_cuda = CUDAapi.has_cuda_gpu()\n",
    "if use_cuda\n",
    "    device = gpu\n",
    "    println(\"Training on GPU\")\n",
    "else\n",
    "    device = cpu\n",
    "    println(\"Training on CPU\")\n",
    "end"
   ]
  },
  {
   "cell_type": "markdown",
   "metadata": {},
   "source": [
    "## 載入資料"
   ]
  },
  {
   "cell_type": "code",
   "execution_count": 4,
   "metadata": {},
   "outputs": [],
   "source": [
    "function get_data(batchsize=256)\n",
    "    xtrain, ytrain = MLDatasets.MNIST.traindata(Float32)\n",
    "    xtest , ytest  = MLDatasets.MNIST.testdata(Float32)\n",
    "\n",
    "    xtrain = reshape(xtrain, 28, 28, 1, :)\n",
    "    xtest  = reshape(xtest, 28, 28, 1, :)\n",
    "\n",
    "    ytrain = onehotbatch(ytrain, 0:9)\n",
    "    ytest  = onehotbatch(ytest, 0:9)\n",
    "\n",
    "    train_loader = DataLoader(xtrain, ytrain, batchsize=batchsize, shuffle=true)\n",
    "    test_loader  = DataLoader(xtest, ytest,  batchsize=batchsize)\n",
    "    \n",
    "    return train_loader, test_loader\n",
    "end\n",
    "\n",
    "train_loader, test_loader = get_data(batchsize);"
   ]
  },
  {
   "cell_type": "markdown",
   "metadata": {},
   "source": [
    "## CNN 模型"
   ]
  },
  {
   "cell_type": "code",
   "execution_count": 5,
   "metadata": {},
   "outputs": [
    {
     "name": "stdout",
     "output_type": "stream",
     "text": [
      "CNNs model: 16938 trainable params\n"
     ]
    }
   ],
   "source": [
    "# write your model here\n",
    "num_params(model) = sum(length, Flux.params(model))\n",
    "\n",
    "function buildModel(imgsize=(28,28,1))\n",
    "    return Chain(\n",
    "    x -> reshape(x, imgsize..., :),\n",
    "    Conv((3, 3), 1=>16, pad=(1,1), relu),\n",
    "    MaxPool((2,2)),\n",
    "    Conv((3, 3), 16=>32, pad=(1,1), relu),\n",
    "    MaxPool((2,2)),\n",
    "    Conv((3, 3), 32=>32, pad=(1,1), relu),\n",
    "    MaxPool((2,2)),\n",
    "    flatten,\n",
    "    Dense(288, 10),\n",
    "    softmax)\n",
    "end\n",
    "\n",
    "model = buildModel() |> device;\n",
    "println(\"CNNs model: $(num_params(model)) trainable params\");"
   ]
  },
  {
   "cell_type": "code",
   "execution_count": 6,
   "metadata": {},
   "outputs": [
    {
     "data": {
      "text/plain": [
       "10×1 CuArrays.CuArray{Float32,2,Nothing}:\n",
       " 0.08607546\n",
       " 0.08095291\n",
       " 0.119251266\n",
       " 0.084274895\n",
       " 0.08514476\n",
       " 0.11652309\n",
       " 0.10538427\n",
       " 0.10048574\n",
       " 0.09650776\n",
       " 0.12539984"
      ]
     },
     "execution_count": 6,
     "metadata": {},
     "output_type": "execute_result"
    }
   ],
   "source": [
    "fake_input = randn((28, 28, 1)) |> device\n",
    "fake_output = model(fake_input)"
   ]
  },
  {
   "cell_type": "markdown",
   "metadata": {},
   "source": [
    "## 損失函數"
   ]
  },
  {
   "cell_type": "code",
   "execution_count": 7,
   "metadata": {},
   "outputs": [
    {
     "data": {
      "text/plain": [
       "calc_loss_accuracy (generic function with 1 method)"
      ]
     },
     "execution_count": 7,
     "metadata": {},
     "output_type": "execute_result"
    }
   ],
   "source": [
    "loss(ŷ, y) = logitcrossentropy(ŷ, y)\n",
    "\n",
    "round4(x) = round(x, digits=4)\n",
    "\n",
    "function calc_loss_accuracy(loader, model, device)\n",
    "    l = 0f0\n",
    "    acc = 0\n",
    "    ntot = 0\n",
    "    for (x, y) in loader\n",
    "        x, y = x |> device, y |> device\n",
    "        ŷ = model(x)\n",
    "        l += loss(ŷ, y) * size(x)[end]        \n",
    "        acc += sum(onecold(ŷ |> cpu) .== onecold(y |> cpu))\n",
    "        ntot += size(x)[end]\n",
    "    end\n",
    "    return (loss = l/ntot |> round4, acc = acc/ntot*100 |> round4)\n",
    "end"
   ]
  },
  {
   "cell_type": "markdown",
   "metadata": {},
   "source": [
    "## Callback 函式"
   ]
  },
  {
   "cell_type": "code",
   "execution_count": 8,
   "metadata": {},
   "outputs": [
    {
     "data": {
      "text/plain": [
       "callback (generic function with 1 method)"
      ]
     },
     "execution_count": 8,
     "metadata": {},
     "output_type": "execute_result"
    }
   ],
   "source": [
    "# callback function\n",
    "function callback(epoch)\n",
    "    train = calc_loss_accuracy(train_loader, model, device)\n",
    "    test = calc_loss_accuracy(test_loader, model, device)        \n",
    "    println(\"Epoch: $epoch   Train: $(train)   Test: $(test)\")\n",
    "end"
   ]
  },
  {
   "cell_type": "markdown",
   "metadata": {},
   "source": [
    "## 模型訓練"
   ]
  },
  {
   "cell_type": "code",
   "execution_count": 9,
   "metadata": {},
   "outputs": [],
   "source": [
    "# define optimizer\n",
    "opt = ADAM(η) \n",
    "if λ > 0 \n",
    "    opt = Optimiser(opt, WeightDecay(λ))\n",
    "end"
   ]
  },
  {
   "cell_type": "code",
   "execution_count": 10,
   "metadata": {},
   "outputs": [
    {
     "name": "stdout",
     "output_type": "stream",
     "text": [
      "Starting Training\n",
      "Epoch: 0   Train: (loss = 2.3025f0, acc = 10.8767)   Test: (loss = 2.3024f0, acc = 11.33)"
     ]
    },
    {
     "name": "stderr",
     "output_type": "stream",
     "text": [
      "\u001b[32mProgress:   0%|█                                        |  ETA: 2:26:03\u001b[39m"
     ]
    },
    {
     "name": "stdout",
     "output_type": "stream",
     "text": [
      "\n"
     ]
    },
    {
     "name": "stderr",
     "output_type": "stream",
     "text": [
      "\u001b[32mProgress: 100%|█████████████████████████████████████████| Time: 0:00:40\u001b[39m\n",
      "\u001b[32mProgress: 100%|█████████████████████████████████████████| Time: 0:00:02\u001b[39m\n",
      "\u001b[32mProgress: 100%|█████████████████████████████████████████| Time: 0:00:02\u001b[39m\n",
      "\u001b[32mProgress: 100%|█████████████████████████████████████████| Time: 0:00:02\u001b[39m\n",
      "\u001b[32mProgress: 100%|█████████████████████████████████████████| Time: 0:00:02\u001b[39m\n"
     ]
    },
    {
     "name": "stdout",
     "output_type": "stream",
     "text": [
      "Epoch: 5   Train: (loss = 1.5738f0, acc = 88.895)   Test: (loss = 1.5719f0, acc = 89.04)"
     ]
    },
    {
     "name": "stderr",
     "output_type": "stream",
     "text": [
      "\u001b[32mProgress:   4%|██                                       |  ETA: 0:00:02\u001b[39m"
     ]
    },
    {
     "name": "stdout",
     "output_type": "stream",
     "text": [
      "\n"
     ]
    },
    {
     "name": "stderr",
     "output_type": "stream",
     "text": [
      "\u001b[32mProgress: 100%|█████████████████████████████████████████| Time: 0:00:02\u001b[39m\n",
      "\u001b[32mProgress: 100%|█████████████████████████████████████████| Time: 0:00:02\u001b[39m\n",
      "\u001b[32mProgress: 100%|█████████████████████████████████████████| Time: 0:00:02\u001b[39m\n",
      "\u001b[32mProgress: 100%|█████████████████████████████████████████| Time: 0:00:02\u001b[39m\n",
      "\u001b[32mProgress: 100%|█████████████████████████████████████████| Time: 0:00:02\u001b[39m\n"
     ]
    },
    {
     "name": "stdout",
     "output_type": "stream",
     "text": [
      "Epoch: 10   Train: (loss = 1.5641f0, acc = 89.74)   Test: (loss = 1.5645f0, acc = 89.67)"
     ]
    },
    {
     "name": "stderr",
     "output_type": "stream",
     "text": [
      "\u001b[32mProgress:   4%|██                                       |  ETA: 0:00:02\u001b[39m"
     ]
    },
    {
     "name": "stdout",
     "output_type": "stream",
     "text": [
      "\n"
     ]
    },
    {
     "name": "stderr",
     "output_type": "stream",
     "text": [
      "\u001b[32mProgress: 100%|█████████████████████████████████████████| Time: 0:00:02\u001b[39m\n",
      "\u001b[32mProgress: 100%|█████████████████████████████████████████| Time: 0:00:02\u001b[39m\n",
      "\u001b[32mProgress: 100%|█████████████████████████████████████████| Time: 0:00:02\u001b[39m\n",
      "\u001b[32mProgress: 100%|█████████████████████████████████████████| Time: 0:00:02\u001b[39m\n",
      "\u001b[32mProgress: 100%|█████████████████████████████████████████| Time: 0:00:02\u001b[39m\n"
     ]
    },
    {
     "name": "stdout",
     "output_type": "stream",
     "text": [
      "Epoch: 15   Train: (loss = 1.5621f0, acc = 89.93)   Test: (loss = 1.5635f0, acc = 89.77)"
     ]
    },
    {
     "name": "stderr",
     "output_type": "stream",
     "text": [
      "\u001b[32mProgress:   4%|██                                       |  ETA: 0:00:02\u001b[39m"
     ]
    },
    {
     "name": "stdout",
     "output_type": "stream",
     "text": [
      "\n"
     ]
    },
    {
     "name": "stderr",
     "output_type": "stream",
     "text": [
      "\u001b[32mProgress: 100%|█████████████████████████████████████████| Time: 0:00:02\u001b[39m\n",
      "\u001b[32mProgress: 100%|█████████████████████████████████████████| Time: 0:00:02\u001b[39m\n",
      "\u001b[32mProgress: 100%|█████████████████████████████████████████| Time: 0:00:02\u001b[39m\n",
      "\u001b[32mProgress: 100%|█████████████████████████████████████████| Time: 0:00:02\u001b[39m\n",
      "\u001b[32mProgress: 100%|█████████████████████████████████████████| Time: 0:00:02\u001b[39m\n"
     ]
    },
    {
     "name": "stdout",
     "output_type": "stream",
     "text": [
      "Epoch: 20   Train: (loss = 1.5579f0, acc = 90.315)   Test: (loss = 1.5593f0, acc = 90.21)\n"
     ]
    }
   ],
   "source": [
    "params_model = Flux.params(model)\n",
    "\n",
    "println(\"Starting Training\")\n",
    "callback(0)\n",
    "\n",
    "for epoch in 1:epochs\n",
    "    progress = ProgressMeter.Progress(length(train_loader))\n",
    "    \n",
    "    # update parameters\n",
    "    for (x, y) in train_loader\n",
    "        x = x |> device\n",
    "        y = y |> device\n",
    "        grads_model = Flux.gradient(params_model) do\n",
    "            ŷ = model(x)\n",
    "            loss(ŷ, y)\n",
    "        end\n",
    "        Flux.Optimise.update!(opt, params_model, grads_model)\n",
    "        ProgressMeter.next!(progress)   # comment out for no progress bar\n",
    "    end\n",
    "    \n",
    "    #  logging\n",
    "    if epoch % 5 == 0\n",
    "        callback(epoch)\n",
    "    end\n",
    "end"
   ]
  },
  {
   "cell_type": "markdown",
   "metadata": {},
   "source": [
    "## 模型評估"
   ]
  },
  {
   "cell_type": "code",
   "execution_count": 11,
   "metadata": {},
   "outputs": [
    {
     "name": "stdout",
     "output_type": "stream",
     "text": [
      "Test: (loss = 1.5593f0, acc = 90.21)\n"
     ]
    }
   ],
   "source": [
    "test = calc_loss_accuracy(test_loader, model, device)        \n",
    "println(\"Test: $(test)\")"
   ]
  }
 ],
 "metadata": {
  "kernelspec": {
   "display_name": "Julia 1.4.1",
   "language": "julia",
   "name": "julia-1.4"
  },
  "language_info": {
   "file_extension": ".jl",
   "mimetype": "application/julia",
   "name": "julia",
   "version": "1.4.1"
  }
 },
 "nbformat": 4,
 "nbformat_minor": 4
}
