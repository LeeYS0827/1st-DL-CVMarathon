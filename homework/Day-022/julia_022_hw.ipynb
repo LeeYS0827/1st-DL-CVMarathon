{
 "cells": [
  {
   "cell_type": "markdown",
   "metadata": {},
   "source": [
    "# Julia 基礎圖表繪製：Gadfly 二維資料圖表\n",
    "\n",
    "## 作業 022"
   ]
  },
  {
   "cell_type": "markdown",
   "metadata": {},
   "source": [
    "1. 散佈圖是二維資料的圖表表示，思考它適合用於展現資料的什麼特性？"
   ]
  },
  {
   "cell_type": "markdown",
   "metadata": {},
   "source": [
    "2. 比較密度分佈圖與熱圖分別適合用於什麼樣的資料。[hint: 從資料的種類切入思考]"
   ]
  },
  {
   "cell_type": "markdown",
   "metadata": {},
   "source": [
    "# ANS:\n",
    "\n",
    "1. 辨認資料集是否存在clustering特性\n",
    "\n",
    "2. 密度分布與熱圖皆用於觀察，兩兩attribute的相依性，密度分布用於離散資料集，熱圖用於連續資料集"
   ]
  },
  {
   "cell_type": "code",
   "execution_count": null,
   "metadata": {},
   "outputs": [],
   "source": []
  }
 ],
 "metadata": {
  "kernelspec": {
   "display_name": "Julia 1.4.0",
   "language": "julia",
   "name": "julia-1.4"
  },
  "language_info": {
   "file_extension": ".jl",
   "mimetype": "application/julia",
   "name": "julia",
   "version": "1.4.0"
  }
 },
 "nbformat": 4,
 "nbformat_minor": 4
}
