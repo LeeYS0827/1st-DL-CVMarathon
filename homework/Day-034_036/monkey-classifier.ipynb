{
 "cells": [
  {
   "cell_type": "code",
   "execution_count": 1,
   "metadata": {},
   "outputs": [],
   "source": [
    "#using DataFrames\n",
    "using Flux\n",
    "using Flux.Data: DataLoader\n",
    "using Flux.Optimise: Optimiser, WeightDecay\n",
    "using Flux: onehotbatch, onecold, logitcrossentropy\n",
    "\n",
    "import CUDAapi\n",
    "import CSV\n",
    "import Images\n",
    "import ProgressMeter"
   ]
  },
  {
   "cell_type": "code",
   "execution_count": 2,
   "metadata": {},
   "outputs": [
    {
     "data": {
      "text/plain": [
       "\"monkey_labels.csv\""
      ]
     },
     "execution_count": 2,
     "metadata": {},
     "output_type": "execute_result"
    }
   ],
   "source": [
    "dataset_path = \"..\\\\..\\\\data\\\\10-monkey-species\"\n",
    "train_dir_path = joinpath(dataset_path, \"training\\\\training\",)\n",
    "valid_dir_path = joinpath(dataset_path, \"validation\\\\validation\",)\n",
    "labels_path = \"monkey_labels.csv\""
   ]
  },
  {
   "cell_type": "markdown",
   "metadata": {},
   "source": [
    "# Use CUDA"
   ]
  },
  {
   "cell_type": "code",
   "execution_count": 3,
   "metadata": {},
   "outputs": [
    {
     "name": "stdout",
     "output_type": "stream",
     "text": [
      "Training on GPU\n"
     ]
    }
   ],
   "source": [
    "use_cuda = CUDAapi.has_cuda_gpu()\n",
    "if use_cuda\n",
    "    device = gpu\n",
    "    println(\"Training on GPU\")\n",
    "else\n",
    "    device = cpu\n",
    "    println(\"Training on CPU\")\n",
    "end"
   ]
  },
  {
   "cell_type": "markdown",
   "metadata": {},
   "source": [
    "# Hyper-parameters"
   ]
  },
  {
   "cell_type": "code",
   "execution_count": 6,
   "metadata": {},
   "outputs": [
    {
     "data": {
      "text/plain": [
       "3"
      ]
     },
     "execution_count": 6,
     "metadata": {},
     "output_type": "execute_result"
    }
   ],
   "source": [
    "η = 1e-4                  # learning rate\n",
    "λ = 1e-4                  # L2 regularizer param, implemented as weight decay\n",
    "epochs = 40               # number of epochs\n",
    "batchsize = 32            # batch size\n",
    "input_shape = (96, 96, 3) # input shape for model\n",
    "aug_multiple = 3          # data augmentation"
   ]
  },
  {
   "cell_type": "markdown",
   "metadata": {},
   "source": [
    "# Load Dataset"
   ]
  },
  {
   "cell_type": "markdown",
   "metadata": {},
   "source": [
    "- labels"
   ]
  },
  {
   "cell_type": "code",
   "execution_count": 68,
   "metadata": {},
   "outputs": [
    {
     "data": {
      "text/html": [
       "<table class=\"data-frame\"><thead><tr><th></th><th>Label</th><th>LatinName</th><th>CommonName</th></tr><tr><th></th><th>String</th><th>String</th><th>String</th></tr></thead><tbody><p>10 rows × 3 columns</p><tr><th>1</th><td>n0</td><td>alouatta_palliata</td><td>mantled_howler</td></tr><tr><th>2</th><td>n1</td><td>erythrocebus_patas</td><td>patas_monkey</td></tr><tr><th>3</th><td>n2</td><td>cacajao_calvus</td><td>bald_uakari</td></tr><tr><th>4</th><td>n3</td><td>macaca_fuscata</td><td>japanese_macaque</td></tr><tr><th>5</th><td>n4</td><td>cebuella_pygmea</td><td>pygmy_marmoset</td></tr><tr><th>6</th><td>n5</td><td>cebus_capucinus</td><td>white_headed_capuchin</td></tr><tr><th>7</th><td>n6</td><td>mico_argentatus</td><td>silvery_marmoset</td></tr><tr><th>8</th><td>n7</td><td>saimiri_sciureus</td><td>common_squirrel_monkey</td></tr><tr><th>9</th><td>n8</td><td>aotus_nigriceps</td><td>black_headed_night_monkey</td></tr><tr><th>10</th><td>n9</td><td>trachypithecus_johnii</td><td>nilgiri_langur</td></tr></tbody></table>"
      ],
      "text/latex": [
       "\\begin{tabular}{r|ccc}\n",
       "\t& Label & LatinName & CommonName\\\\\n",
       "\t\\hline\n",
       "\t& String & String & String\\\\\n",
       "\t\\hline\n",
       "\t1 & n0 & alouatta\\_palliata & mantled\\_howler \\\\\n",
       "\t2 & n1 & erythrocebus\\_patas & patas\\_monkey \\\\\n",
       "\t3 & n2 & cacajao\\_calvus & bald\\_uakari \\\\\n",
       "\t4 & n3 & macaca\\_fuscata & japanese\\_macaque \\\\\n",
       "\t5 & n4 & cebuella\\_pygmea & pygmy\\_marmoset \\\\\n",
       "\t6 & n5 & cebus\\_capucinus & white\\_headed\\_capuchin \\\\\n",
       "\t7 & n6 & mico\\_argentatus & silvery\\_marmoset \\\\\n",
       "\t8 & n7 & saimiri\\_sciureus & common\\_squirrel\\_monkey \\\\\n",
       "\t9 & n8 & aotus\\_nigriceps & black\\_headed\\_night\\_monkey \\\\\n",
       "\t10 & n9 & trachypithecus\\_johnii & nilgiri\\_langur \\\\\n",
       "\\end{tabular}\n"
      ],
      "text/plain": [
       "10×3 DataFrames.DataFrame\n",
       "│ Row │ Label  │ LatinName             │ CommonName                │\n",
       "│     │ \u001b[90mString\u001b[39m │ \u001b[90mString\u001b[39m                │ \u001b[90mString\u001b[39m                    │\n",
       "├─────┼────────┼───────────────────────┼───────────────────────────┤\n",
       "│ 1   │ n0     │ alouatta_palliata     │ mantled_howler            │\n",
       "│ 2   │ n1     │ erythrocebus_patas    │ patas_monkey              │\n",
       "│ 3   │ n2     │ cacajao_calvus        │ bald_uakari               │\n",
       "│ 4   │ n3     │ macaca_fuscata        │ japanese_macaque          │\n",
       "│ 5   │ n4     │ cebuella_pygmea       │ pygmy_marmoset            │\n",
       "│ 6   │ n5     │ cebus_capucinus       │ white_headed_capuchin     │\n",
       "│ 7   │ n6     │ mico_argentatus       │ silvery_marmoset          │\n",
       "│ 8   │ n7     │ saimiri_sciureus      │ common_squirrel_monkey    │\n",
       "│ 9   │ n8     │ aotus_nigriceps       │ black_headed_night_monkey │\n",
       "│ 10  │ n9     │ trachypithecus_johnii │ nilgiri_langur            │"
      ]
     },
     "execution_count": 68,
     "metadata": {},
     "output_type": "execute_result"
    }
   ],
   "source": [
    "df_labels = CSV.read(labels_path)"
   ]
  },
  {
   "cell_type": "markdown",
   "metadata": {},
   "source": [
    "- train/test dataset"
   ]
  },
  {
   "cell_type": "code",
   "execution_count": 4,
   "metadata": {},
   "outputs": [
    {
     "data": {
      "text/plain": [
       "5-step Augmentor.ImmutablePipeline:\n",
       " 1.) Either: (50%) Flip the X axis. (50%) No operation.\n",
       " 2.) Resize to 128×128\n",
       " 3.) Rotate by θ ∈ [-10, -3, 0, 3, 10] degree\n",
       " 4.) Crop a 96×96 window around the center\n",
       " 5.) Zoom by I ∈ {0.8×0.8, 0.9×0.9, 1.0×1.0, 1.1×1.1, 1.2×1.2}"
      ]
     },
     "execution_count": 4,
     "metadata": {},
     "output_type": "execute_result"
    }
   ],
   "source": [
    "using Augmentor\n",
    "\n",
    "pl = FlipX(0.5) |> Resize(128, 128) |> Rotate([-10,-3,0,3,10]) |> CropSize(96,96) |> Zoom(0.8:0.1:1.2)"
   ]
  },
  {
   "cell_type": "code",
   "execution_count": 16,
   "metadata": {},
   "outputs": [
    {
     "data": {
      "image/png": "[encoded data removed]",
      "text/plain": [
       "96×96 reshape(reinterpret(RGB{N0f8}, ::Array{N0f8,3}), 96, 96) with eltype RGB{FixedPointNumbers.Normed{UInt8,8}}:\n",
       " RGB{N0f8}(0.459,0.667,0.639)  …  RGB{N0f8}(0.424,0.592,0.529)\n",
       " RGB{N0f8}(0.475,0.667,0.659)     RGB{N0f8}(0.475,0.627,0.576)\n",
       " RGB{N0f8}(0.482,0.678,0.671)     RGB{N0f8}(0.525,0.663,0.624)\n",
       " RGB{N0f8}(0.486,0.682,0.671)     RGB{N0f8}(0.569,0.686,0.651)\n",
       " RGB{N0f8}(0.498,0.694,0.678)     RGB{N0f8}(0.616,0.706,0.667)\n",
       " RGB{N0f8}(0.518,0.698,0.686)  …  RGB{N0f8}(0.647,0.725,0.69)\n",
       " RGB{N0f8}(0.529,0.71,0.706)      RGB{N0f8}(0.682,0.745,0.718)\n",
       " RGB{N0f8}(0.537,0.722,0.714)     RGB{N0f8}(0.706,0.765,0.745)\n",
       " RGB{N0f8}(0.561,0.729,0.725)     RGB{N0f8}(0.722,0.78,0.761)\n",
       " RGB{N0f8}(0.573,0.737,0.737)     RGB{N0f8}(0.737,0.788,0.765)\n",
       " RGB{N0f8}(0.584,0.753,0.745)  …  RGB{N0f8}(0.753,0.804,0.776)\n",
       " RGB{N0f8}(0.6,0.757,0.757)       RGB{N0f8}(0.765,0.812,0.78)\n",
       " RGB{N0f8}(0.608,0.761,0.765)     RGB{N0f8}(0.78,0.824,0.792)\n",
       " ⋮                             ⋱  ⋮\n",
       " RGB{N0f8}(0.557,0.741,0.671)     RGB{N0f8}(0.427,0.765,0.008)\n",
       " RGB{N0f8}(0.561,0.741,0.671)  …  RGB{N0f8}(0.443,0.776,0.02)\n",
       " RGB{N0f8}(0.565,0.737,0.671)     RGB{N0f8}(0.435,0.78,0.031)\n",
       " RGB{N0f8}(0.573,0.745,0.682)     RGB{N0f8}(0.537,0.824,0.404)\n",
       " RGB{N0f8}(0.569,0.741,0.682)     RGB{N0f8}(0.663,0.871,0.678)\n",
       " RGB{N0f8}(0.569,0.741,0.69)      RGB{N0f8}(0.765,0.902,0.851)\n",
       " RGB{N0f8}(0.573,0.745,0.694)  …  RGB{N0f8}(0.867,0.953,0.941)\n",
       " RGB{N0f8}(0.565,0.745,0.702)     RGB{N0f8}(0.91,0.98,0.98)\n",
       " RGB{N0f8}(0.569,0.737,0.702)     RGB{N0f8}(0.937,0.988,0.984)\n",
       " RGB{N0f8}(0.573,0.737,0.694)     RGB{N0f8}(0.957,0.996,0.992)\n",
       " RGB{N0f8}(0.569,0.737,0.702)     RGB{N0f8}(0.949,0.992,0.988)\n",
       " RGB{N0f8}(0.647,0.804,0.745)  …  RGB{N0f8}(0.933,0.988,0.988)"
      ]
     },
     "execution_count": 16,
     "metadata": {},
     "output_type": "execute_result"
    }
   ],
   "source": [
    "import Images\n",
    "\n",
    "function readImageArray(;path, input_size, aug)\n",
    "    img = Images.load(path)\n",
    "    if aug\n",
    "        img = augment(img, pl)\n",
    "    end\n",
    "    img = permutedims(Images.channelview(img), (2,3,1))\n",
    "    img = Images.imresize(img, input_size)\n",
    "    return img\n",
    "end\n",
    "\n",
    "path = \"..\\\\..\\\\data\\\\10-monkey-species\\\\validation\\\\validation\\\\n0\\\\n000.jpg\"\n",
    "img = readImageArray(path=path, input_size=input_shape[1:2], aug=true)\n",
    "Images.colorview(Images.RGB, Images.channelview(permutedims(img, (3,1,2))))"
   ]
  },
  {
   "cell_type": "code",
   "execution_count": 71,
   "metadata": {},
   "outputs": [
    {
     "data": {
      "text/plain": [
       "getDataLoader (generic function with 1 method)"
      ]
     },
     "execution_count": 71,
     "metadata": {},
     "output_type": "execute_result"
    }
   ],
   "source": [
    "function getDataLoader(;dir_path, shuffle, aug_multiple)\n",
    "    sample_imgs = []\n",
    "    sample_anns  = []\n",
    "    for index_species in readdir(dir_path)\n",
    "        path_dir_species = joinpath(dir_path, index_species)\n",
    "        for filename in readdir(path_dir_species)\n",
    "            path_file = joinpath(path_dir_species, filename)\n",
    "            append!(sample_imgs, [readImageArray(path=path_file, input_size=input_shape[1:2], aug=false)])\n",
    "            append!(sample_anns, [onecold((df_labels.Label .== index_species), 0:9)])\n",
    "            if aug_multiple > 0\n",
    "                for i in 1:aug_multiple\n",
    "                    append!(sample_imgs, [readImageArray(path=path_file, input_size=input_shape[1:2], aug=true)])\n",
    "                    append!(sample_anns, [onecold((df_labels.Label .== index_species), 0:9)])\n",
    "                end\n",
    "            end\n",
    "        end\n",
    "    end\n",
    "\n",
    "    x = [img for img in sample_imgs]\n",
    "    x = cat(x...; dims=4)        \n",
    "    x = Array{Float32}(x)\n",
    "    y = onehotbatch(sample_anns, 0:9)\n",
    "    return DataLoader(x, y,  batchsize=batchsize, shuffle=shuffle)\n",
    "end\n",
    "\n",
    "dataset_path = \"..\\\\..\\\\data\\\\10-monkey-species\"\n",
    "train_dir_path = joinpath(dataset_path, \"training\\\\training\",)\n",
    "valid_dir_path = joinpath(dataset_path, \"validation\\\\validation\",)\n",
    "\n",
    "train_loader = getDataLoader(dir_path=train_dir_path, shuffle=true, aug_multiple=aug_multiple)\n",
    "test_loader  = getDataLoader(dir_path=valid_dir_path, shuffle=false, aug_multiple=0)"
   ]
  },
  {
   "cell_type": "markdown",
   "metadata": {},
   "source": [
    "# Build CNNs"
   ]
  },
  {
   "cell_type": "code",
   "execution_count": 61,
   "metadata": {},
   "outputs": [
    {
     "name": "stdout",
     "output_type": "stream",
     "text": [
      "CNNs model: 144298 trainable params\n"
     ]
    }
   ],
   "source": [
    "# write your model here\n",
    "num_params(model) = sum(length, Flux.params(model))\n",
    "\n",
    "# function buildModel(;input_shape)\n",
    "#     return Chain(\n",
    "#         x -> reshape(x, input_shape..., :),\n",
    "#         Conv((5, 5), 3=>16, stride=2),\n",
    "#         BatchNorm(16, relu),\n",
    "#         Conv((3, 3), 16=>32, stride=2),\n",
    "#         BatchNorm(32, relu),\n",
    "#         Conv((3, 3), 32=>64, stride=2),\n",
    "#         BatchNorm(64, relu),\n",
    "#         Conv((1, 1), 64=>64, stride=1),\n",
    "#         BatchNorm(64, relu),\n",
    "#         Conv((3, 3), 64=>128, stride=2),\n",
    "#         BatchNorm(128, relu),\n",
    "#         Conv((1, 1), 128=>128, stride=1),\n",
    "#         BatchNorm(128, relu),\n",
    "#         GlobalMeanPool(),\n",
    "#         flatten,\n",
    "#         Dropout(0.25),\n",
    "#         Dense(128, 64),\n",
    "#         Dropout(0.25),\n",
    "#         Dense(64, 10),\n",
    "#         softmax\n",
    "#     )\n",
    "# end\n",
    "\n",
    "function buildModel(;input_shape)\n",
    "    return Chain(\n",
    "        x -> reshape(x, input_shape..., :),\n",
    "        Conv((5, 5), 3=>24, stride=2),\n",
    "        BatchNorm(24, relu),\n",
    "        Conv((3, 3), 24=>48, stride=2),\n",
    "        BatchNorm(48, relu),\n",
    "        Conv((3, 3), 48=>64, stride=2),\n",
    "        BatchNorm(64, relu),\n",
    "        Conv((1, 1), 64=>64, stride=1),\n",
    "        BatchNorm(64, relu),\n",
    "        Conv((3, 3), 64=>128, stride=2),\n",
    "        BatchNorm(128, relu),\n",
    "        Conv((1, 1), 128=>128, stride=1),\n",
    "        BatchNorm(128, relu),\n",
    "        GlobalMeanPool(),\n",
    "        flatten,\n",
    "        Dropout(0.25),\n",
    "        Dense(128, 64),\n",
    "        Dropout(0.25),\n",
    "        Dense(64, 10),\n",
    "        softmax\n",
    "    )\n",
    "end\n",
    "\n",
    "model = buildModel(input_shape=input_shape) |> device;\n",
    "println(\"CNNs model: $(num_params(model)) trainable params\");"
   ]
  },
  {
   "cell_type": "code",
   "execution_count": 62,
   "metadata": {},
   "outputs": [
    {
     "data": {
      "text/plain": [
       "(10, 1)"
      ]
     },
     "execution_count": 62,
     "metadata": {},
     "output_type": "execute_result"
    }
   ],
   "source": [
    "fake_input = randn(input_shape) |> device\n",
    "fake_output = model(fake_input)\n",
    "size(fake_output)"
   ]
  },
  {
   "cell_type": "markdown",
   "metadata": {},
   "source": [
    "# Loss function"
   ]
  },
  {
   "cell_type": "code",
   "execution_count": 63,
   "metadata": {},
   "outputs": [
    {
     "data": {
      "text/plain": [
       "calc_loss_accuracy (generic function with 1 method)"
      ]
     },
     "execution_count": 63,
     "metadata": {},
     "output_type": "execute_result"
    }
   ],
   "source": [
    "loss(ŷ, y) = logitcrossentropy(ŷ, y)\n",
    "\n",
    "round4(x) = round(x, digits=4)\n",
    "\n",
    "function calc_loss_accuracy(loader, model, device)\n",
    "    l = 0f0\n",
    "    acc = 0\n",
    "    ntot = 0\n",
    "    for (x, y) in loader\n",
    "        x, y = x |> device, y |> device\n",
    "        ŷ = model(x)\n",
    "        l += loss(ŷ, y) * size(x)[end]        \n",
    "        acc += sum(onecold(ŷ |> cpu) .== onecold(y |> cpu))\n",
    "        ntot += size(x)[end]\n",
    "    end\n",
    "    return (loss = l/ntot |> round4, acc = acc/ntot*100 |> round4)\n",
    "end"
   ]
  },
  {
   "cell_type": "markdown",
   "metadata": {},
   "source": [
    "# Callback function"
   ]
  },
  {
   "cell_type": "code",
   "execution_count": 64,
   "metadata": {},
   "outputs": [
    {
     "data": {
      "text/plain": [
       "callback (generic function with 1 method)"
      ]
     },
     "execution_count": 64,
     "metadata": {},
     "output_type": "execute_result"
    }
   ],
   "source": [
    "# callback function\n",
    "function callback(epoch)\n",
    "    train = calc_loss_accuracy(train_loader, model, device)\n",
    "    test = calc_loss_accuracy(test_loader, model, device)        \n",
    "    println(\"Epoch: $epoch   Train: $(train)   Test: $(test)\")\n",
    "end"
   ]
  },
  {
   "cell_type": "markdown",
   "metadata": {},
   "source": [
    "# Training"
   ]
  },
  {
   "cell_type": "code",
   "execution_count": 65,
   "metadata": {},
   "outputs": [
    {
     "data": {
      "text/plain": [
       "Optimiser(Any[ADAM(0.0001, (0.9, 0.999), IdDict{Any,Any}()), WeightDecay(0.0001)])"
      ]
     },
     "execution_count": 65,
     "metadata": {},
     "output_type": "execute_result"
    }
   ],
   "source": [
    "# define optimizer\n",
    "opt = ADAM(η) \n",
    "if λ > 0 \n",
    "    opt = Optimiser(opt, WeightDecay(λ))\n",
    "end"
   ]
  },
  {
   "cell_type": "code",
   "execution_count": 66,
   "metadata": {},
   "outputs": [
    {
     "name": "stdout",
     "output_type": "stream",
     "text": [
      "Starting Training\n",
      "Epoch: 0   Train: (loss = 2.3026f0, acc = 10.2687)   Test: (loss = 2.3026f0, acc = 9.9265)"
     ]
    },
    {
     "name": "stderr",
     "output_type": "stream",
     "text": [
      "\u001b[32mProgress:   1%|█                                        |  ETA: 0:00:46\u001b[39m"
     ]
    },
    {
     "name": "stdout",
     "output_type": "stream",
     "text": [
      "\n"
     ]
    },
    {
     "name": "stderr",
     "output_type": "stream",
     "text": [
      "\u001b[32mProgress: 100%|█████████████████████████████████████████| Time: 0:00:04\u001b[39m\n",
      "\u001b[32mProgress: 100%|█████████████████████████████████████████| Time: 0:00:04\u001b[39m\n",
      "\u001b[32mProgress: 100%|█████████████████████████████████████████| Time: 0:00:03\u001b[39m\n",
      "\u001b[32mProgress: 100%|█████████████████████████████████████████| Time: 0:00:03\u001b[39m\n",
      "\u001b[32mProgress: 100%|█████████████████████████████████████████| Time: 0:00:03\u001b[39m\n"
     ]
    },
    {
     "name": "stdout",
     "output_type": "stream",
     "text": [
      "Epoch: 5   Train: (loss = 2.0142f0, acc = 45.0592)   Test: (loss = 2.0666f0, acc = 41.5441)"
     ]
    },
    {
     "name": "stderr",
     "output_type": "stream",
     "text": [
      "\u001b[32mProgress:   3%|██                                       |  ETA: 0:00:04\u001b[39m"
     ]
    },
    {
     "name": "stdout",
     "output_type": "stream",
     "text": [
      "\n"
     ]
    },
    {
     "name": "stderr",
     "output_type": "stream",
     "text": [
      "\u001b[32mProgress: 100%|█████████████████████████████████████████| Time: 0:00:03\u001b[39m\n",
      "\u001b[32mProgress: 100%|█████████████████████████████████████████| Time: 0:00:03\u001b[39m\n",
      "\u001b[32mProgress: 100%|█████████████████████████████████████████| Time: 0:00:03\u001b[39m\n",
      "\u001b[32mProgress: 100%|█████████████████████████████████████████| Time: 0:00:03\u001b[39m\n",
      "\u001b[32mProgress: 100%|█████████████████████████████████████████| Time: 0:00:03\u001b[39m\n"
     ]
    },
    {
     "name": "stdout",
     "output_type": "stream",
     "text": [
      "Epoch: 10   Train: (loss = 1.9039f0, acc = 58.9481)   Test: (loss = 2.0191f0, acc = 44.8529)\n"
     ]
    },
    {
     "name": "stderr",
     "output_type": "stream",
     "text": [
      "\u001b[32mProgress: 100%|█████████████████████████████████████████| Time: 0:00:03\u001b[39m\n",
      "\u001b[32mProgress: 100%|█████████████████████████████████████████| Time: 0:00:03\u001b[39m\n",
      "\u001b[32mProgress: 100%|█████████████████████████████████████████| Time: 0:00:03\u001b[39m\n",
      "\u001b[32mProgress: 100%|█████████████████████████████████████████| Time: 0:00:03\u001b[39m\n",
      "\u001b[32mProgress: 100%|█████████████████████████████████████████| Time: 0:00:03\u001b[39m\n"
     ]
    },
    {
     "name": "stdout",
     "output_type": "stream",
     "text": [
      "Epoch: 15   Train: (loss = 1.8318f0, acc = 65.7787)   Test: (loss = 1.9918f0, acc = 47.7941)"
     ]
    },
    {
     "name": "stderr",
     "output_type": "stream",
     "text": [
      "\u001b[32mProgress:   4%|██                                       |  ETA: 0:00:03\u001b[39m"
     ]
    },
    {
     "name": "stdout",
     "output_type": "stream",
     "text": [
      "\n"
     ]
    },
    {
     "name": "stderr",
     "output_type": "stream",
     "text": [
      "\u001b[32mProgress: 100%|█████████████████████████████████████████| Time: 0:00:03\u001b[39m\n",
      "\u001b[32mProgress: 100%|█████████████████████████████████████████| Time: 0:00:03\u001b[39m\n",
      "\u001b[32mProgress: 100%|█████████████████████████████████████████| Time: 0:00:03\u001b[39m\n",
      "\u001b[32mProgress: 100%|█████████████████████████████████████████| Time: 0:00:03\u001b[39m\n",
      "\u001b[32mProgress: 100%|█████████████████████████████████████████| Time: 0:00:03\u001b[39m\n"
     ]
    },
    {
     "name": "stdout",
     "output_type": "stream",
     "text": [
      "Epoch: 20   Train: (loss = 1.7668f0, acc = 75.9791)   Test: (loss = 1.9464f0, acc = 54.7794)"
     ]
    },
    {
     "name": "stderr",
     "output_type": "stream",
     "text": [
      "\u001b[32mProgress:   4%|██                                       |  ETA: 0:00:03\u001b[39m"
     ]
    },
    {
     "name": "stdout",
     "output_type": "stream",
     "text": [
      "\n"
     ]
    },
    {
     "name": "stderr",
     "output_type": "stream",
     "text": [
      "\u001b[32mProgress: 100%|█████████████████████████████████████████| Time: 0:00:03\u001b[39m\n",
      "\u001b[32mProgress: 100%|█████████████████████████████████████████| Time: 0:00:03\u001b[39m\n",
      "\u001b[32mProgress: 100%|█████████████████████████████████████████| Time: 0:00:03\u001b[39m\n",
      "\u001b[32mProgress: 100%|█████████████████████████████████████████| Time: 0:00:03\u001b[39m\n",
      "\u001b[32mProgress: 100%|█████████████████████████████████████████| Time: 0:00:03\u001b[39m\n"
     ]
    },
    {
     "name": "stdout",
     "output_type": "stream",
     "text": [
      "Epoch: 25   Train: (loss = 1.6735f0, acc = 85.4053)   Test: (loss = 1.8959f0, acc = 60.2941)\n"
     ]
    },
    {
     "name": "stderr",
     "output_type": "stream",
     "text": [
      "\u001b[32mProgress: 100%|█████████████████████████████████████████| Time: 0:00:03\u001b[39m\n",
      "\u001b[32mProgress: 100%|█████████████████████████████████████████| Time: 0:00:03\u001b[39m\n",
      "\u001b[32mProgress: 100%|█████████████████████████████████████████| Time: 0:00:03\u001b[39m\n",
      "\u001b[32mProgress: 100%|█████████████████████████████████████████| Time: 0:00:03\u001b[39m\n",
      "\u001b[32mProgress: 100%|█████████████████████████████████████████| Time: 0:00:03\u001b[39m\n"
     ]
    },
    {
     "name": "stdout",
     "output_type": "stream",
     "text": [
      "Epoch: 30   Train: (loss = 1.6439f0, acc = 87.5911)   Test: (loss = 1.8914f0, acc = 60.6618)"
     ]
    },
    {
     "name": "stderr",
     "output_type": "stream",
     "text": [
      "\u001b[32mProgress:   4%|██                                       |  ETA: 0:00:03\u001b[39m"
     ]
    },
    {
     "name": "stdout",
     "output_type": "stream",
     "text": [
      "\n"
     ]
    },
    {
     "name": "stderr",
     "output_type": "stream",
     "text": [
      "\u001b[32mProgress: 100%|█████████████████████████████████████████| Time: 0:00:03\u001b[39m\n",
      "\u001b[32mProgress: 100%|█████████████████████████████████████████| Time: 0:00:03\u001b[39m\n",
      "\u001b[32mProgress: 100%|█████████████████████████████████████████| Time: 0:00:03\u001b[39m\n",
      "\u001b[32mProgress: 100%|█████████████████████████████████████████| Time: 0:00:03\u001b[39m\n",
      "\u001b[32mProgress: 100%|█████████████████████████████████████████| Time: 0:00:03\u001b[39m\n"
     ]
    },
    {
     "name": "stdout",
     "output_type": "stream",
     "text": [
      "Epoch: 35   Train: (loss = 1.6777f0, acc = 82.8552)   Test: (loss = 1.9001f0, acc = 61.0294)\n"
     ]
    },
    {
     "name": "stderr",
     "output_type": "stream",
     "text": [
      "\u001b[32mProgress: 100%|█████████████████████████████████████████| Time: 0:00:03\u001b[39m\n",
      "\u001b[32mProgress: 100%|█████████████████████████████████████████| Time: 0:00:03\u001b[39m\n",
      "\u001b[32mProgress: 100%|█████████████████████████████████████████| Time: 0:00:03\u001b[39m\n",
      "\u001b[32mProgress: 100%|█████████████████████████████████████████| Time: 0:00:03\u001b[39m\n",
      "\u001b[32mProgress: 100%|█████████████████████████████████████████| Time: 0:00:03\u001b[39m\n"
     ]
    },
    {
     "name": "stdout",
     "output_type": "stream",
     "text": [
      "Epoch: 40   Train: (loss = 1.5869f0, acc = 91.5528)   Test: (loss = 1.849f0, acc = 65.0735)\n"
     ]
    }
   ],
   "source": [
    "params_model = Flux.params(model)\n",
    "\n",
    "println(\"Starting Training\")\n",
    "callback(0)\n",
    "\n",
    "for epoch in 1:epochs\n",
    "    progress = ProgressMeter.Progress(length(train_loader))\n",
    "    \n",
    "    # update parameters\n",
    "    for (x, y) in train_loader\n",
    "        x = x |> device\n",
    "        y = y |> device\n",
    "        grads_model = Flux.gradient(params_model) do\n",
    "            ŷ = model(x)\n",
    "            loss(ŷ, y)\n",
    "        end\n",
    "        Flux.Optimise.update!(opt, params_model, grads_model)\n",
    "        ProgressMeter.next!(progress)   # comment out for no progress bar\n",
    "    end\n",
    "    \n",
    "    #  logging\n",
    "    if epoch % 5 == 0\n",
    "        callback(epoch)\n",
    "    end\n",
    "end"
   ]
  },
  {
   "cell_type": "markdown",
   "metadata": {},
   "source": [
    "# Evaluation"
   ]
  },
  {
   "cell_type": "code",
   "execution_count": 72,
   "metadata": {},
   "outputs": [
    {
     "name": "stdout",
     "output_type": "stream",
     "text": [
      "Test: (loss = 1.849f0, acc = 65.0735)\n"
     ]
    }
   ],
   "source": [
    "test = calc_loss_accuracy(test_loader, model, device)        \n",
    "println(\"Test: $(test)\")"
   ]
  },
  {
   "cell_type": "code",
   "execution_count": null,
   "metadata": {},
   "outputs": [],
   "source": []
  }
 ],
 "metadata": {
  "kernelspec": {
   "display_name": "Julia 1.4.1",
   "language": "julia",
   "name": "julia-1.4"
  },
  "language_info": {
   "file_extension": ".jl",
   "mimetype": "application/julia",
   "name": "julia",
   "version": "1.4.1"
  }
 },
 "nbformat": 4,
 "nbformat_minor": 4
}
