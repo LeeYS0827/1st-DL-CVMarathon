{
 "cells": [
  {
   "cell_type": "markdown",
   "metadata": {},
   "source": [
    "# Julia 機器學習：GLM 線性迴歸"
   ]
  },
  {
   "cell_type": "markdown",
   "metadata": {},
   "source": [
    "本範例需要使用到的套件有 GLM、RDatasets、MLDataUtils，請在執行以下範例前先安裝。\n",
    "\n",
    "```\n",
    "] add GLM\n",
    "] add RDatasets\n",
    "] add MLDataUtils\n",
    "```"
   ]
  },
  {
   "cell_type": "code",
   "execution_count": 1,
   "metadata": {},
   "outputs": [],
   "source": [
    "using GLM\n",
    "using RDatasets\n",
    "using MLDataUtils\n",
    "using Statistics"
   ]
  },
  {
   "cell_type": "markdown",
   "metadata": {},
   "source": [
    "## 單純線性迴歸模型示範"
   ]
  },
  {
   "cell_type": "markdown",
   "metadata": {},
   "source": [
    "## 載入資料"
   ]
  },
  {
   "cell_type": "code",
   "execution_count": 2,
   "metadata": {},
   "outputs": [
    {
     "data": {
      "text/html": [
       "<table class=\"data-frame\"><thead><tr><th></th><th>Year</th><th>GNPDeflator</th><th>GNP</th><th>Unemployed</th><th>ArmedForces</th><th>Population</th><th>Year_1</th><th>Employed</th></tr><tr><th></th><th>Int64</th><th>Float64</th><th>Float64</th><th>Float64</th><th>Float64</th><th>Float64</th><th>Int64</th><th>Float64</th></tr></thead><tbody><p>16 rows × 8 columns</p><tr><th>1</th><td>1947</td><td>83.0</td><td>234.289</td><td>235.6</td><td>159.0</td><td>107.608</td><td>1947</td><td>60.323</td></tr><tr><th>2</th><td>1948</td><td>88.5</td><td>259.426</td><td>232.5</td><td>145.6</td><td>108.632</td><td>1948</td><td>61.122</td></tr><tr><th>3</th><td>1949</td><td>88.2</td><td>258.054</td><td>368.2</td><td>161.6</td><td>109.773</td><td>1949</td><td>60.171</td></tr><tr><th>4</th><td>1950</td><td>89.5</td><td>284.599</td><td>335.1</td><td>165.0</td><td>110.929</td><td>1950</td><td>61.187</td></tr><tr><th>5</th><td>1951</td><td>96.2</td><td>328.975</td><td>209.9</td><td>309.9</td><td>112.075</td><td>1951</td><td>63.221</td></tr><tr><th>6</th><td>1952</td><td>98.1</td><td>346.999</td><td>193.2</td><td>359.4</td><td>113.27</td><td>1952</td><td>63.639</td></tr><tr><th>7</th><td>1953</td><td>99.0</td><td>365.385</td><td>187.0</td><td>354.7</td><td>115.094</td><td>1953</td><td>64.989</td></tr><tr><th>8</th><td>1954</td><td>100.0</td><td>363.112</td><td>357.8</td><td>335.0</td><td>116.219</td><td>1954</td><td>63.761</td></tr><tr><th>9</th><td>1955</td><td>101.2</td><td>397.469</td><td>290.4</td><td>304.8</td><td>117.388</td><td>1955</td><td>66.019</td></tr><tr><th>10</th><td>1956</td><td>104.6</td><td>419.18</td><td>282.2</td><td>285.7</td><td>118.734</td><td>1956</td><td>67.857</td></tr><tr><th>11</th><td>1957</td><td>108.4</td><td>442.769</td><td>293.6</td><td>279.8</td><td>120.445</td><td>1957</td><td>68.169</td></tr><tr><th>12</th><td>1958</td><td>110.8</td><td>444.546</td><td>468.1</td><td>263.7</td><td>121.95</td><td>1958</td><td>66.513</td></tr><tr><th>13</th><td>1959</td><td>112.6</td><td>482.704</td><td>381.3</td><td>255.2</td><td>123.366</td><td>1959</td><td>68.655</td></tr><tr><th>14</th><td>1960</td><td>114.2</td><td>502.601</td><td>393.1</td><td>251.4</td><td>125.368</td><td>1960</td><td>69.564</td></tr><tr><th>15</th><td>1961</td><td>115.7</td><td>518.173</td><td>480.6</td><td>257.2</td><td>127.852</td><td>1961</td><td>69.331</td></tr><tr><th>16</th><td>1962</td><td>116.9</td><td>554.894</td><td>400.7</td><td>282.7</td><td>130.081</td><td>1962</td><td>70.551</td></tr></tbody></table>"
      ],
      "text/latex": [
       "\\begin{tabular}{r|cccccccc}\n",
       "\t& Year & GNPDeflator & GNP & Unemployed & ArmedForces & Population & Year\\_1 & Employed\\\\\n",
       "\t\\hline\n",
       "\t& Int64 & Float64 & Float64 & Float64 & Float64 & Float64 & Int64 & Float64\\\\\n",
       "\t\\hline\n",
       "\t1 & 1947 & 83.0 & 234.289 & 235.6 & 159.0 & 107.608 & 1947 & 60.323 \\\\\n",
       "\t2 & 1948 & 88.5 & 259.426 & 232.5 & 145.6 & 108.632 & 1948 & 61.122 \\\\\n",
       "\t3 & 1949 & 88.2 & 258.054 & 368.2 & 161.6 & 109.773 & 1949 & 60.171 \\\\\n",
       "\t4 & 1950 & 89.5 & 284.599 & 335.1 & 165.0 & 110.929 & 1950 & 61.187 \\\\\n",
       "\t5 & 1951 & 96.2 & 328.975 & 209.9 & 309.9 & 112.075 & 1951 & 63.221 \\\\\n",
       "\t6 & 1952 & 98.1 & 346.999 & 193.2 & 359.4 & 113.27 & 1952 & 63.639 \\\\\n",
       "\t7 & 1953 & 99.0 & 365.385 & 187.0 & 354.7 & 115.094 & 1953 & 64.989 \\\\\n",
       "\t8 & 1954 & 100.0 & 363.112 & 357.8 & 335.0 & 116.219 & 1954 & 63.761 \\\\\n",
       "\t9 & 1955 & 101.2 & 397.469 & 290.4 & 304.8 & 117.388 & 1955 & 66.019 \\\\\n",
       "\t10 & 1956 & 104.6 & 419.18 & 282.2 & 285.7 & 118.734 & 1956 & 67.857 \\\\\n",
       "\t11 & 1957 & 108.4 & 442.769 & 293.6 & 279.8 & 120.445 & 1957 & 68.169 \\\\\n",
       "\t12 & 1958 & 110.8 & 444.546 & 468.1 & 263.7 & 121.95 & 1958 & 66.513 \\\\\n",
       "\t13 & 1959 & 112.6 & 482.704 & 381.3 & 255.2 & 123.366 & 1959 & 68.655 \\\\\n",
       "\t14 & 1960 & 114.2 & 502.601 & 393.1 & 251.4 & 125.368 & 1960 & 69.564 \\\\\n",
       "\t15 & 1961 & 115.7 & 518.173 & 480.6 & 257.2 & 127.852 & 1961 & 69.331 \\\\\n",
       "\t16 & 1962 & 116.9 & 554.894 & 400.7 & 282.7 & 130.081 & 1962 & 70.551 \\\\\n",
       "\\end{tabular}\n"
      ],
      "text/plain": [
       "16×8 DataFrame. Omitted printing of 2 columns\n",
       "│ Row │ Year  │ GNPDeflator │ GNP     │ Unemployed │ ArmedForces │ Population │\n",
       "│     │ \u001b[90mInt64\u001b[39m │ \u001b[90mFloat64\u001b[39m     │ \u001b[90mFloat64\u001b[39m │ \u001b[90mFloat64\u001b[39m    │ \u001b[90mFloat64\u001b[39m     │ \u001b[90mFloat64\u001b[39m    │\n",
       "├─────┼───────┼─────────────┼─────────┼────────────┼─────────────┼────────────┤\n",
       "│ 1   │ 1947  │ 83.0        │ 234.289 │ 235.6      │ 159.0       │ 107.608    │\n",
       "│ 2   │ 1948  │ 88.5        │ 259.426 │ 232.5      │ 145.6       │ 108.632    │\n",
       "│ 3   │ 1949  │ 88.2        │ 258.054 │ 368.2      │ 161.6       │ 109.773    │\n",
       "│ 4   │ 1950  │ 89.5        │ 284.599 │ 335.1      │ 165.0       │ 110.929    │\n",
       "│ 5   │ 1951  │ 96.2        │ 328.975 │ 209.9      │ 309.9       │ 112.075    │\n",
       "│ 6   │ 1952  │ 98.1        │ 346.999 │ 193.2      │ 359.4       │ 113.27     │\n",
       "│ 7   │ 1953  │ 99.0        │ 365.385 │ 187.0      │ 354.7       │ 115.094    │\n",
       "│ 8   │ 1954  │ 100.0       │ 363.112 │ 357.8      │ 335.0       │ 116.219    │\n",
       "│ 9   │ 1955  │ 101.2       │ 397.469 │ 290.4      │ 304.8       │ 117.388    │\n",
       "│ 10  │ 1956  │ 104.6       │ 419.18  │ 282.2      │ 285.7       │ 118.734    │\n",
       "│ 11  │ 1957  │ 108.4       │ 442.769 │ 293.6      │ 279.8       │ 120.445    │\n",
       "│ 12  │ 1958  │ 110.8       │ 444.546 │ 468.1      │ 263.7       │ 121.95     │\n",
       "│ 13  │ 1959  │ 112.6       │ 482.704 │ 381.3      │ 255.2       │ 123.366    │\n",
       "│ 14  │ 1960  │ 114.2       │ 502.601 │ 393.1      │ 251.4       │ 125.368    │\n",
       "│ 15  │ 1961  │ 115.7       │ 518.173 │ 480.6      │ 257.2       │ 127.852    │\n",
       "│ 16  │ 1962  │ 116.9       │ 554.894 │ 400.7      │ 282.7       │ 130.081    │"
      ]
     },
     "execution_count": 2,
     "metadata": {},
     "output_type": "execute_result"
    }
   ],
   "source": [
    "data = RDatasets.dataset(\"datasets\", \"longley\")"
   ]
  },
  {
   "cell_type": "markdown",
   "metadata": {},
   "source": [
    "## 線性迴歸模型"
   ]
  },
  {
   "cell_type": "code",
   "execution_count": 3,
   "metadata": {},
   "outputs": [
    {
     "data": {
      "text/plain": [
       "StatsModels.TableRegressionModel{LinearModel{GLM.LmResp{Array{Float64,1}},GLM.DensePredChol{Float64,LinearAlgebra.Cholesky{Float64,Array{Float64,2}}}},Array{Float64,2}}\n",
       "\n",
       "Employed ~ 1 + GNP\n",
       "\n",
       "Coefficients:\n",
       "──────────────────────────────────────────────────────────────────────────────\n",
       "               Estimate  Std. Error  t value  Pr(>|t|)   Lower 95%   Upper 95%\n",
       "──────────────────────────────────────────────────────────────────────────────\n",
       "(Intercept)  51.8436     0.681372    76.0871    <1e-19  50.3822     53.305\n",
       "GNP           0.0347523  0.00170571  20.3741    <1e-11   0.0310939   0.0384107\n",
       "──────────────────────────────────────────────────────────────────────────────"
      ]
     },
     "execution_count": 3,
     "metadata": {},
     "output_type": "execute_result"
    }
   ],
   "source": [
    "model = GLM.lm(@formula(Employed ~ GNP), data)"
   ]
  },
  {
   "cell_type": "code",
   "execution_count": 4,
   "metadata": {},
   "outputs": [
    {
     "data": {
      "text/plain": [
       "2-element Array{Float64,1}:\n",
       " 51.84358978188421\n",
       "  0.03475229434762888"
      ]
     },
     "execution_count": 4,
     "metadata": {},
     "output_type": "execute_result"
    }
   ],
   "source": [
    "intercept, slope = coef(model)"
   ]
  },
  {
   "cell_type": "markdown",
   "metadata": {},
   "source": [
    "## 預測"
   ]
  },
  {
   "cell_type": "code",
   "execution_count": 5,
   "metadata": {},
   "outputs": [
    {
     "data": {
      "text/html": [
       "<table class=\"data-frame\"><thead><tr><th></th><th>GNP</th></tr><tr><th></th><th>Float64</th></tr></thead><tbody><p>3 rows × 1 columns</p><tr><th>1</th><td>300.0</td></tr><tr><th>2</th><td>400.0</td></tr><tr><th>3</th><td>500.0</td></tr></tbody></table>"
      ],
      "text/latex": [
       "\\begin{tabular}{r|c}\n",
       "\t& GNP\\\\\n",
       "\t\\hline\n",
       "\t& Float64\\\\\n",
       "\t\\hline\n",
       "\t1 & 300.0 \\\\\n",
       "\t2 & 400.0 \\\\\n",
       "\t3 & 500.0 \\\\\n",
       "\\end{tabular}\n"
      ],
      "text/plain": [
       "3×1 DataFrame\n",
       "│ Row │ GNP     │\n",
       "│     │ \u001b[90mFloat64\u001b[39m │\n",
       "├─────┼─────────┤\n",
       "│ 1   │ 300.0   │\n",
       "│ 2   │ 400.0   │\n",
       "│ 3   │ 500.0   │"
      ]
     },
     "execution_count": 5,
     "metadata": {},
     "output_type": "execute_result"
    }
   ],
   "source": [
    "new_X = DataFrame(GNP=[300., 400., 500.])"
   ]
  },
  {
   "cell_type": "code",
   "execution_count": 6,
   "metadata": {},
   "outputs": [
    {
     "data": {
      "text/plain": [
       "3-element Array{Union{Missing, Float64},1}:\n",
       " 62.269278086172875\n",
       " 65.74450752093577\n",
       " 69.21973695569865"
      ]
     },
     "execution_count": 6,
     "metadata": {},
     "output_type": "execute_result"
    }
   ],
   "source": [
    "predict(model, new_X)"
   ]
  },
  {
   "cell_type": "markdown",
   "metadata": {},
   "source": [
    "## 模型評估"
   ]
  },
  {
   "cell_type": "code",
   "execution_count": 7,
   "metadata": {},
   "outputs": [
    {
     "data": {
      "text/plain": [
       "0.9673737718541232"
      ]
     },
     "execution_count": 7,
     "metadata": {},
     "output_type": "execute_result"
    }
   ],
   "source": [
    "GLM.r2(model)"
   ]
  },
  {
   "cell_type": "code",
   "execution_count": 8,
   "metadata": {},
   "outputs": [
    {
     "data": {
      "text/plain": [
       "0.9650433269865606"
      ]
     },
     "execution_count": 8,
     "metadata": {},
     "output_type": "execute_result"
    }
   ],
   "source": [
    "GLM.adjr2(model)"
   ]
  },
  {
   "cell_type": "markdown",
   "metadata": {},
   "source": [
    "## 多元線性迴歸模型"
   ]
  },
  {
   "cell_type": "markdown",
   "metadata": {},
   "source": [
    "## 載入資料"
   ]
  },
  {
   "cell_type": "code",
   "execution_count": 9,
   "metadata": {},
   "outputs": [
    {
     "data": {
      "text/html": [
       "<table class=\"data-frame\"><thead><tr><th></th><th>Model</th><th>MPG</th><th>Cyl</th><th>Disp</th><th>HP</th><th>DRat</th><th>WT</th><th>QSec</th><th>VS</th></tr><tr><th></th><th>String</th><th>Float64</th><th>Int64</th><th>Float64</th><th>Int64</th><th>Float64</th><th>Float64</th><th>Float64</th><th>Int64</th></tr></thead><tbody><p>6 rows × 12 columns (omitted printing of 3 columns)</p><tr><th>1</th><td>Mazda RX4</td><td>21.0</td><td>6</td><td>160.0</td><td>110</td><td>3.9</td><td>2.62</td><td>16.46</td><td>0</td></tr><tr><th>2</th><td>Mazda RX4 Wag</td><td>21.0</td><td>6</td><td>160.0</td><td>110</td><td>3.9</td><td>2.875</td><td>17.02</td><td>0</td></tr><tr><th>3</th><td>Datsun 710</td><td>22.8</td><td>4</td><td>108.0</td><td>93</td><td>3.85</td><td>2.32</td><td>18.61</td><td>1</td></tr><tr><th>4</th><td>Hornet 4 Drive</td><td>21.4</td><td>6</td><td>258.0</td><td>110</td><td>3.08</td><td>3.215</td><td>19.44</td><td>1</td></tr><tr><th>5</th><td>Hornet Sportabout</td><td>18.7</td><td>8</td><td>360.0</td><td>175</td><td>3.15</td><td>3.44</td><td>17.02</td><td>0</td></tr><tr><th>6</th><td>Valiant</td><td>18.1</td><td>6</td><td>225.0</td><td>105</td><td>2.76</td><td>3.46</td><td>20.22</td><td>1</td></tr></tbody></table>"
      ],
      "text/latex": [
       "\\begin{tabular}{r|cccccccccc}\n",
       "\t& Model & MPG & Cyl & Disp & HP & DRat & WT & QSec & VS & \\\\\n",
       "\t\\hline\n",
       "\t& String & Float64 & Int64 & Float64 & Int64 & Float64 & Float64 & Float64 & Int64 & \\\\\n",
       "\t\\hline\n",
       "\t1 & Mazda RX4 & 21.0 & 6 & 160.0 & 110 & 3.9 & 2.62 & 16.46 & 0 & $\\dots$ \\\\\n",
       "\t2 & Mazda RX4 Wag & 21.0 & 6 & 160.0 & 110 & 3.9 & 2.875 & 17.02 & 0 & $\\dots$ \\\\\n",
       "\t3 & Datsun 710 & 22.8 & 4 & 108.0 & 93 & 3.85 & 2.32 & 18.61 & 1 & $\\dots$ \\\\\n",
       "\t4 & Hornet 4 Drive & 21.4 & 6 & 258.0 & 110 & 3.08 & 3.215 & 19.44 & 1 & $\\dots$ \\\\\n",
       "\t5 & Hornet Sportabout & 18.7 & 8 & 360.0 & 175 & 3.15 & 3.44 & 17.02 & 0 & $\\dots$ \\\\\n",
       "\t6 & Valiant & 18.1 & 6 & 225.0 & 105 & 2.76 & 3.46 & 20.22 & 1 & $\\dots$ \\\\\n",
       "\\end{tabular}\n"
      ],
      "text/plain": [
       "6×12 DataFrame. Omitted printing of 6 columns\n",
       "│ Row │ Model             │ MPG     │ Cyl   │ Disp    │ HP    │ DRat    │\n",
       "│     │ \u001b[90mString\u001b[39m            │ \u001b[90mFloat64\u001b[39m │ \u001b[90mInt64\u001b[39m │ \u001b[90mFloat64\u001b[39m │ \u001b[90mInt64\u001b[39m │ \u001b[90mFloat64\u001b[39m │\n",
       "├─────┼───────────────────┼─────────┼───────┼─────────┼───────┼─────────┤\n",
       "│ 1   │ Mazda RX4         │ 21.0    │ 6     │ 160.0   │ 110   │ 3.9     │\n",
       "│ 2   │ Mazda RX4 Wag     │ 21.0    │ 6     │ 160.0   │ 110   │ 3.9     │\n",
       "│ 3   │ Datsun 710        │ 22.8    │ 4     │ 108.0   │ 93    │ 3.85    │\n",
       "│ 4   │ Hornet 4 Drive    │ 21.4    │ 6     │ 258.0   │ 110   │ 3.08    │\n",
       "│ 5   │ Hornet Sportabout │ 18.7    │ 8     │ 360.0   │ 175   │ 3.15    │\n",
       "│ 6   │ Valiant           │ 18.1    │ 6     │ 225.0   │ 105   │ 2.76    │"
      ]
     },
     "execution_count": 9,
     "metadata": {},
     "output_type": "execute_result"
    }
   ],
   "source": [
    "data = RDatasets.dataset(\"datasets\", \"mtcars\")\n",
    "first(data, 6)"
   ]
  },
  {
   "cell_type": "markdown",
   "metadata": {},
   "source": [
    "## 切分訓練資料及測試資料"
   ]
  },
  {
   "cell_type": "code",
   "execution_count": 10,
   "metadata": {},
   "outputs": [],
   "source": [
    "indecies = MLDataUtils.shuffleobs(collect(1:nrow(data)))\n",
    "train_ind, test_ind = MLDataUtils.splitobs(indecies, at = 0.8);"
   ]
  },
  {
   "cell_type": "code",
   "execution_count": 12,
   "metadata": {},
   "outputs": [
    {
     "data": {
      "text/html": [
       "<table class=\"data-frame\"><thead><tr><th></th><th>Model</th><th>MPG</th><th>Cyl</th><th>Disp</th><th>HP</th><th>DRat</th><th>WT</th><th>QSec</th><th>VS</th></tr><tr><th></th><th>String</th><th>Float64</th><th>Int64</th><th>Float64</th><th>Int64</th><th>Float64</th><th>Float64</th><th>Float64</th><th>Int64</th></tr></thead><tbody><p>6 rows × 12 columns (omitted printing of 3 columns)</p><tr><th>1</th><td>Volvo 142E</td><td>21.4</td><td>4</td><td>121.0</td><td>109</td><td>4.11</td><td>2.78</td><td>18.6</td><td>1</td></tr><tr><th>2</th><td>AMC Javelin</td><td>15.2</td><td>8</td><td>304.0</td><td>150</td><td>3.15</td><td>3.435</td><td>17.3</td><td>0</td></tr><tr><th>3</th><td>Porsche 914-2</td><td>26.0</td><td>4</td><td>120.3</td><td>91</td><td>4.43</td><td>2.14</td><td>16.7</td><td>0</td></tr><tr><th>4</th><td>Toyota Corolla</td><td>33.9</td><td>4</td><td>71.1</td><td>65</td><td>4.22</td><td>1.835</td><td>19.9</td><td>1</td></tr><tr><th>5</th><td>Ford Pantera L</td><td>15.8</td><td>8</td><td>351.0</td><td>264</td><td>4.22</td><td>3.17</td><td>14.5</td><td>0</td></tr><tr><th>6</th><td>Duster 360</td><td>14.3</td><td>8</td><td>360.0</td><td>245</td><td>3.21</td><td>3.57</td><td>15.84</td><td>0</td></tr></tbody></table>"
      ],
      "text/latex": [
       "\\begin{tabular}{r|cccccccccc}\n",
       "\t& Model & MPG & Cyl & Disp & HP & DRat & WT & QSec & VS & \\\\\n",
       "\t\\hline\n",
       "\t& String & Float64 & Int64 & Float64 & Int64 & Float64 & Float64 & Float64 & Int64 & \\\\\n",
       "\t\\hline\n",
       "\t1 & Volvo 142E & 21.4 & 4 & 121.0 & 109 & 4.11 & 2.78 & 18.6 & 1 & $\\dots$ \\\\\n",
       "\t2 & AMC Javelin & 15.2 & 8 & 304.0 & 150 & 3.15 & 3.435 & 17.3 & 0 & $\\dots$ \\\\\n",
       "\t3 & Porsche 914-2 & 26.0 & 4 & 120.3 & 91 & 4.43 & 2.14 & 16.7 & 0 & $\\dots$ \\\\\n",
       "\t4 & Toyota Corolla & 33.9 & 4 & 71.1 & 65 & 4.22 & 1.835 & 19.9 & 1 & $\\dots$ \\\\\n",
       "\t5 & Ford Pantera L & 15.8 & 8 & 351.0 & 264 & 4.22 & 3.17 & 14.5 & 0 & $\\dots$ \\\\\n",
       "\t6 & Duster 360 & 14.3 & 8 & 360.0 & 245 & 3.21 & 3.57 & 15.84 & 0 & $\\dots$ \\\\\n",
       "\\end{tabular}\n"
      ],
      "text/plain": [
       "6×12 DataFrame. Omitted printing of 5 columns\n",
       "│ Row │ Model          │ MPG     │ Cyl   │ Disp    │ HP    │ DRat    │ WT      │\n",
       "│     │ \u001b[90mString\u001b[39m         │ \u001b[90mFloat64\u001b[39m │ \u001b[90mInt64\u001b[39m │ \u001b[90mFloat64\u001b[39m │ \u001b[90mInt64\u001b[39m │ \u001b[90mFloat64\u001b[39m │ \u001b[90mFloat64\u001b[39m │\n",
       "├─────┼────────────────┼─────────┼───────┼─────────┼───────┼─────────┼─────────┤\n",
       "│ 1   │ Volvo 142E     │ 21.4    │ 4     │ 121.0   │ 109   │ 4.11    │ 2.78    │\n",
       "│ 2   │ AMC Javelin    │ 15.2    │ 8     │ 304.0   │ 150   │ 3.15    │ 3.435   │\n",
       "│ 3   │ Porsche 914-2  │ 26.0    │ 4     │ 120.3   │ 91    │ 4.43    │ 2.14    │\n",
       "│ 4   │ Toyota Corolla │ 33.9    │ 4     │ 71.1    │ 65    │ 4.22    │ 1.835   │\n",
       "│ 5   │ Ford Pantera L │ 15.8    │ 8     │ 351.0   │ 264   │ 4.22    │ 3.17    │\n",
       "│ 6   │ Duster 360     │ 14.3    │ 8     │ 360.0   │ 245   │ 3.21    │ 3.57    │"
      ]
     },
     "execution_count": 12,
     "metadata": {},
     "output_type": "execute_result"
    }
   ],
   "source": [
    "train = data[train_ind, :]\n",
    "test = data[test_ind, :]"
   ]
  },
  {
   "cell_type": "markdown",
   "metadata": {},
   "source": [
    "## 線性迴歸模型"
   ]
  },
  {
   "cell_type": "code",
   "execution_count": 14,
   "metadata": {},
   "outputs": [
    {
     "data": {
      "text/plain": [
       "StatsModels.TableRegressionModel{LinearModel{GLM.LmResp{Array{Float64,1}},GLM.DensePredChol{Float64,LinearAlgebra.Cholesky{Float64,Array{Float64,2}}}},Array{Float64,2}}\n",
       "\n",
       "MPG ~ 1 + Cyl + Disp + HP + DRat + WT + QSec + VS + AM + Gear + Carb\n",
       "\n",
       "Coefficients:\n",
       "───────────────────────────────────────────────────────────────────────────────────\n",
       "                Estimate  Std. Error     t value  Pr(>|t|)    Lower 95%   Upper 95%\n",
       "───────────────────────────────────────────────────────────────────────────────────\n",
       "(Intercept)  -9.77012     20.6399     -0.47336      0.6428  -53.7631     34.2228\n",
       "Cyl           0.858293     1.11616     0.768966     0.4539   -1.52075     3.23734\n",
       "Disp          0.0013112    0.0155242   0.0844616    0.9338   -0.0317778   0.0344002\n",
       "HP           -0.00415569   0.0192229  -0.216184     0.8318   -0.0451283   0.036817\n",
       "DRat          3.7592       1.71602     2.19065      0.0447    0.101582    7.41682\n",
       "WT           -0.921488     1.90005    -0.484982     0.6347   -4.97134     3.12836\n",
       "QSec          0.212198     0.659011    0.321994     0.7519   -1.19245     1.61685\n",
       "VS           -0.740389     2.23275    -0.331603     0.7448   -5.49939     4.01861\n",
       "AM            0.92829      2.05003     0.452818     0.6572   -3.44124     5.29782\n",
       "Gear          5.00253      2.04876     2.44173      0.0275    0.6357      9.36937\n",
       "Carb         -2.60955      1.05629    -2.47049      0.0260   -4.86099    -0.358121\n",
       "───────────────────────────────────────────────────────────────────────────────────"
      ]
     },
     "execution_count": 14,
     "metadata": {},
     "output_type": "execute_result"
    }
   ],
   "source": [
    "ols = GLM.lm(@formula(MPG ~ Cyl + Disp + HP + DRat + WT + QSec + VS + AM + Gear + Carb), train)"
   ]
  },
  {
   "cell_type": "markdown",
   "metadata": {},
   "source": [
    "## 預測"
   ]
  },
  {
   "cell_type": "code",
   "execution_count": 15,
   "metadata": {},
   "outputs": [
    {
     "data": {
      "text/plain": [
       "6-element Array{Union{Missing, Float64},1}:\n",
       " 25.183120459551432\n",
       " 19.007157622507634\n",
       " 32.38944727087346\n",
       " 29.470271473578485\n",
       " 27.981668856234016\n",
       " 13.258028078709259"
      ]
     },
     "execution_count": 15,
     "metadata": {},
     "output_type": "execute_result"
    }
   ],
   "source": [
    "predict(ols, test)"
   ]
  },
  {
   "cell_type": "markdown",
   "metadata": {},
   "source": [
    "## 模型評估"
   ]
  },
  {
   "cell_type": "code",
   "execution_count": 16,
   "metadata": {},
   "outputs": [
    {
     "data": {
      "text/plain": [
       "0.9161195431458916"
      ]
     },
     "execution_count": 16,
     "metadata": {},
     "output_type": "execute_result"
    }
   ],
   "source": [
    "GLM.r²(ols)"
   ]
  },
  {
   "cell_type": "code",
   "execution_count": 17,
   "metadata": {},
   "outputs": [
    {
     "data": {
      "text/plain": [
       "0.8601992385764861"
      ]
     },
     "execution_count": 17,
     "metadata": {},
     "output_type": "execute_result"
    }
   ],
   "source": [
    "GLM.adjr²(ols)"
   ]
  },
  {
   "cell_type": "markdown",
   "metadata": {},
   "source": [
    "## 羅吉斯迴歸模型示範"
   ]
  },
  {
   "cell_type": "markdown",
   "metadata": {},
   "source": [
    "## 載入資料"
   ]
  },
  {
   "cell_type": "code",
   "execution_count": 18,
   "metadata": {},
   "outputs": [
    {
     "data": {
      "text/html": [
       "<table class=\"data-frame\"><thead><tr><th></th><th>Default</th><th>Student</th><th>Balance</th><th>Income</th></tr><tr><th></th><th>Categorical…</th><th>Categorical…</th><th>Float64</th><th>Float64</th></tr></thead><tbody><p>6 rows × 4 columns</p><tr><th>1</th><td>No</td><td>No</td><td>729.526</td><td>44361.6</td></tr><tr><th>2</th><td>No</td><td>Yes</td><td>817.18</td><td>12106.1</td></tr><tr><th>3</th><td>No</td><td>No</td><td>1073.55</td><td>31767.1</td></tr><tr><th>4</th><td>No</td><td>No</td><td>529.251</td><td>35704.5</td></tr><tr><th>5</th><td>No</td><td>No</td><td>785.656</td><td>38463.5</td></tr><tr><th>6</th><td>No</td><td>Yes</td><td>919.589</td><td>7491.56</td></tr></tbody></table>"
      ],
      "text/latex": [
       "\\begin{tabular}{r|cccc}\n",
       "\t& Default & Student & Balance & Income\\\\\n",
       "\t\\hline\n",
       "\t& Categorical… & Categorical… & Float64 & Float64\\\\\n",
       "\t\\hline\n",
       "\t1 & No & No & 729.526 & 44361.6 \\\\\n",
       "\t2 & No & Yes & 817.18 & 12106.1 \\\\\n",
       "\t3 & No & No & 1073.55 & 31767.1 \\\\\n",
       "\t4 & No & No & 529.251 & 35704.5 \\\\\n",
       "\t5 & No & No & 785.656 & 38463.5 \\\\\n",
       "\t6 & No & Yes & 919.589 & 7491.56 \\\\\n",
       "\\end{tabular}\n"
      ],
      "text/plain": [
       "6×4 DataFrame\n",
       "│ Row │ Default      │ Student      │ Balance │ Income  │\n",
       "│     │ \u001b[90mCategorical…\u001b[39m │ \u001b[90mCategorical…\u001b[39m │ \u001b[90mFloat64\u001b[39m │ \u001b[90mFloat64\u001b[39m │\n",
       "├─────┼──────────────┼──────────────┼─────────┼─────────┤\n",
       "│ 1   │ No           │ No           │ 729.526 │ 44361.6 │\n",
       "│ 2   │ No           │ Yes          │ 817.18  │ 12106.1 │\n",
       "│ 3   │ No           │ No           │ 1073.55 │ 31767.1 │\n",
       "│ 4   │ No           │ No           │ 529.251 │ 35704.5 │\n",
       "│ 5   │ No           │ No           │ 785.656 │ 38463.5 │\n",
       "│ 6   │ No           │ Yes          │ 919.589 │ 7491.56 │"
      ]
     },
     "execution_count": 18,
     "metadata": {},
     "output_type": "execute_result"
    }
   ],
   "source": [
    "data = RDatasets.dataset(\"ISLR\", \"Default\")\n",
    "first(data, 6)"
   ]
  },
  {
   "cell_type": "markdown",
   "metadata": {},
   "source": [
    "## 前處理"
   ]
  },
  {
   "cell_type": "code",
   "execution_count": 19,
   "metadata": {},
   "outputs": [
    {
     "data": {
      "text/html": [
       "<table class=\"data-frame\"><thead><tr><th></th><th>Default</th><th>Student</th><th>Balance</th><th>Income</th><th>DefaultNum</th><th>StudentNum</th></tr><tr><th></th><th>Categorical…</th><th>Categorical…</th><th>Float64</th><th>Float64</th><th>Float64</th><th>Float64</th></tr></thead><tbody><p>6 rows × 6 columns</p><tr><th>1</th><td>No</td><td>No</td><td>729.526</td><td>44361.6</td><td>0.0</td><td>0.0</td></tr><tr><th>2</th><td>No</td><td>Yes</td><td>817.18</td><td>12106.1</td><td>0.0</td><td>1.0</td></tr><tr><th>3</th><td>No</td><td>No</td><td>1073.55</td><td>31767.1</td><td>0.0</td><td>0.0</td></tr><tr><th>4</th><td>No</td><td>No</td><td>529.251</td><td>35704.5</td><td>0.0</td><td>0.0</td></tr><tr><th>5</th><td>No</td><td>No</td><td>785.656</td><td>38463.5</td><td>0.0</td><td>0.0</td></tr><tr><th>6</th><td>No</td><td>Yes</td><td>919.589</td><td>7491.56</td><td>0.0</td><td>1.0</td></tr></tbody></table>"
      ],
      "text/latex": [
       "\\begin{tabular}{r|cccccc}\n",
       "\t& Default & Student & Balance & Income & DefaultNum & StudentNum\\\\\n",
       "\t\\hline\n",
       "\t& Categorical… & Categorical… & Float64 & Float64 & Float64 & Float64\\\\\n",
       "\t\\hline\n",
       "\t1 & No & No & 729.526 & 44361.6 & 0.0 & 0.0 \\\\\n",
       "\t2 & No & Yes & 817.18 & 12106.1 & 0.0 & 1.0 \\\\\n",
       "\t3 & No & No & 1073.55 & 31767.1 & 0.0 & 0.0 \\\\\n",
       "\t4 & No & No & 529.251 & 35704.5 & 0.0 & 0.0 \\\\\n",
       "\t5 & No & No & 785.656 & 38463.5 & 0.0 & 0.0 \\\\\n",
       "\t6 & No & Yes & 919.589 & 7491.56 & 0.0 & 1.0 \\\\\n",
       "\\end{tabular}\n"
      ],
      "text/plain": [
       "6×6 DataFrame. Omitted printing of 1 columns\n",
       "│ Row │ Default      │ Student      │ Balance │ Income  │ DefaultNum │\n",
       "│     │ \u001b[90mCategorical…\u001b[39m │ \u001b[90mCategorical…\u001b[39m │ \u001b[90mFloat64\u001b[39m │ \u001b[90mFloat64\u001b[39m │ \u001b[90mFloat64\u001b[39m    │\n",
       "├─────┼──────────────┼──────────────┼─────────┼─────────┼────────────┤\n",
       "│ 1   │ No           │ No           │ 729.526 │ 44361.6 │ 0.0        │\n",
       "│ 2   │ No           │ Yes          │ 817.18  │ 12106.1 │ 0.0        │\n",
       "│ 3   │ No           │ No           │ 1073.55 │ 31767.1 │ 0.0        │\n",
       "│ 4   │ No           │ No           │ 529.251 │ 35704.5 │ 0.0        │\n",
       "│ 5   │ No           │ No           │ 785.656 │ 38463.5 │ 0.0        │\n",
       "│ 6   │ No           │ Yes          │ 919.589 │ 7491.56 │ 0.0        │"
      ]
     },
     "execution_count": 19,
     "metadata": {},
     "output_type": "execute_result"
    }
   ],
   "source": [
    "isyes(x) = x == \"Yes\" ? 1.0 : 0.0\n",
    "\n",
    "data[!, :DefaultNum] = isyes.(data[!, :Default])\n",
    "data[!, :StudentNum] = isyes.(data[!, :Student])\n",
    "first(data, 6)"
   ]
  },
  {
   "cell_type": "markdown",
   "metadata": {},
   "source": [
    "## 切分訓練資料及測試資料"
   ]
  },
  {
   "cell_type": "code",
   "execution_count": 23,
   "metadata": {},
   "outputs": [],
   "source": [
    "indecies = MLDataUtils.shuffleobs(collect(1:nrow(data)))\n",
    "train_ind, test_ind = MLDataUtils.splitobs(indecies, at=0.8);"
   ]
  },
  {
   "cell_type": "code",
   "execution_count": 24,
   "metadata": {},
   "outputs": [
    {
     "data": {
      "text/html": [
       "<table class=\"data-frame\"><thead><tr><th></th><th>Default</th><th>Student</th><th>Balance</th><th>Income</th><th>DefaultNum</th><th>StudentNum</th></tr><tr><th></th><th>Categorical…</th><th>Categorical…</th><th>Float64</th><th>Float64</th><th>Float64</th><th>Float64</th></tr></thead><tbody><p>2,000 rows × 6 columns</p><tr><th>1</th><td>No</td><td>No</td><td>1053.38</td><td>39612.7</td><td>0.0</td><td>0.0</td></tr><tr><th>2</th><td>Yes</td><td>Yes</td><td>2216.02</td><td>20911.7</td><td>1.0</td><td>1.0</td></tr><tr><th>3</th><td>No</td><td>Yes</td><td>1115.54</td><td>22552.7</td><td>0.0</td><td>1.0</td></tr><tr><th>4</th><td>No</td><td>No</td><td>314.459</td><td>40016.5</td><td>0.0</td><td>0.0</td></tr><tr><th>5</th><td>No</td><td>No</td><td>1118.22</td><td>32632.9</td><td>0.0</td><td>0.0</td></tr><tr><th>6</th><td>No</td><td>No</td><td>771.174</td><td>45956.8</td><td>0.0</td><td>0.0</td></tr><tr><th>7</th><td>No</td><td>No</td><td>928.965</td><td>46709.5</td><td>0.0</td><td>0.0</td></tr><tr><th>8</th><td>No</td><td>No</td><td>689.687</td><td>24085.4</td><td>0.0</td><td>0.0</td></tr><tr><th>9</th><td>No</td><td>No</td><td>515.943</td><td>50678.3</td><td>0.0</td><td>0.0</td></tr><tr><th>10</th><td>No</td><td>No</td><td>1232.23</td><td>50731.9</td><td>0.0</td><td>0.0</td></tr><tr><th>11</th><td>No</td><td>Yes</td><td>782.545</td><td>20593.5</td><td>0.0</td><td>1.0</td></tr><tr><th>12</th><td>No</td><td>No</td><td>1048.55</td><td>40916.1</td><td>0.0</td><td>0.0</td></tr><tr><th>13</th><td>No</td><td>Yes</td><td>1344.09</td><td>22012.3</td><td>0.0</td><td>1.0</td></tr><tr><th>14</th><td>No</td><td>No</td><td>466.579</td><td>24719.4</td><td>0.0</td><td>0.0</td></tr><tr><th>15</th><td>No</td><td>Yes</td><td>212.042</td><td>16179.3</td><td>0.0</td><td>1.0</td></tr><tr><th>16</th><td>No</td><td>No</td><td>0.0</td><td>50805.0</td><td>0.0</td><td>0.0</td></tr><tr><th>17</th><td>No</td><td>No</td><td>1814.17</td><td>28322.8</td><td>0.0</td><td>0.0</td></tr><tr><th>18</th><td>No</td><td>No</td><td>1136.15</td><td>38474.6</td><td>0.0</td><td>0.0</td></tr><tr><th>19</th><td>No</td><td>Yes</td><td>1228.34</td><td>18129.7</td><td>0.0</td><td>1.0</td></tr><tr><th>20</th><td>No</td><td>No</td><td>952.335</td><td>44864.2</td><td>0.0</td><td>0.0</td></tr><tr><th>21</th><td>Yes</td><td>Yes</td><td>2024.66</td><td>9663.79</td><td>1.0</td><td>1.0</td></tr><tr><th>22</th><td>No</td><td>Yes</td><td>870.024</td><td>15955.9</td><td>0.0</td><td>1.0</td></tr><tr><th>23</th><td>No</td><td>No</td><td>304.483</td><td>52543.8</td><td>0.0</td><td>0.0</td></tr><tr><th>24</th><td>No</td><td>No</td><td>1215.15</td><td>51805.0</td><td>0.0</td><td>0.0</td></tr><tr><th>25</th><td>No</td><td>Yes</td><td>880.804</td><td>20436.4</td><td>0.0</td><td>1.0</td></tr><tr><th>26</th><td>No</td><td>Yes</td><td>322.267</td><td>19231.9</td><td>0.0</td><td>1.0</td></tr><tr><th>27</th><td>No</td><td>No</td><td>541.997</td><td>43873.3</td><td>0.0</td><td>0.0</td></tr><tr><th>28</th><td>No</td><td>No</td><td>503.302</td><td>37749.5</td><td>0.0</td><td>0.0</td></tr><tr><th>29</th><td>No</td><td>No</td><td>1028.52</td><td>47944.6</td><td>0.0</td><td>0.0</td></tr><tr><th>30</th><td>Yes</td><td>No</td><td>1374.47</td><td>35805.7</td><td>1.0</td><td>0.0</td></tr><tr><th>&vellip;</th><td>&vellip;</td><td>&vellip;</td><td>&vellip;</td><td>&vellip;</td><td>&vellip;</td><td>&vellip;</td></tr></tbody></table>"
      ],
      "text/latex": [
       "\\begin{tabular}{r|cccccc}\n",
       "\t& Default & Student & Balance & Income & DefaultNum & StudentNum\\\\\n",
       "\t\\hline\n",
       "\t& Categorical… & Categorical… & Float64 & Float64 & Float64 & Float64\\\\\n",
       "\t\\hline\n",
       "\t1 & No & No & 1053.38 & 39612.7 & 0.0 & 0.0 \\\\\n",
       "\t2 & Yes & Yes & 2216.02 & 20911.7 & 1.0 & 1.0 \\\\\n",
       "\t3 & No & Yes & 1115.54 & 22552.7 & 0.0 & 1.0 \\\\\n",
       "\t4 & No & No & 314.459 & 40016.5 & 0.0 & 0.0 \\\\\n",
       "\t5 & No & No & 1118.22 & 32632.9 & 0.0 & 0.0 \\\\\n",
       "\t6 & No & No & 771.174 & 45956.8 & 0.0 & 0.0 \\\\\n",
       "\t7 & No & No & 928.965 & 46709.5 & 0.0 & 0.0 \\\\\n",
       "\t8 & No & No & 689.687 & 24085.4 & 0.0 & 0.0 \\\\\n",
       "\t9 & No & No & 515.943 & 50678.3 & 0.0 & 0.0 \\\\\n",
       "\t10 & No & No & 1232.23 & 50731.9 & 0.0 & 0.0 \\\\\n",
       "\t11 & No & Yes & 782.545 & 20593.5 & 0.0 & 1.0 \\\\\n",
       "\t12 & No & No & 1048.55 & 40916.1 & 0.0 & 0.0 \\\\\n",
       "\t13 & No & Yes & 1344.09 & 22012.3 & 0.0 & 1.0 \\\\\n",
       "\t14 & No & No & 466.579 & 24719.4 & 0.0 & 0.0 \\\\\n",
       "\t15 & No & Yes & 212.042 & 16179.3 & 0.0 & 1.0 \\\\\n",
       "\t16 & No & No & 0.0 & 50805.0 & 0.0 & 0.0 \\\\\n",
       "\t17 & No & No & 1814.17 & 28322.8 & 0.0 & 0.0 \\\\\n",
       "\t18 & No & No & 1136.15 & 38474.6 & 0.0 & 0.0 \\\\\n",
       "\t19 & No & Yes & 1228.34 & 18129.7 & 0.0 & 1.0 \\\\\n",
       "\t20 & No & No & 952.335 & 44864.2 & 0.0 & 0.0 \\\\\n",
       "\t21 & Yes & Yes & 2024.66 & 9663.79 & 1.0 & 1.0 \\\\\n",
       "\t22 & No & Yes & 870.024 & 15955.9 & 0.0 & 1.0 \\\\\n",
       "\t23 & No & No & 304.483 & 52543.8 & 0.0 & 0.0 \\\\\n",
       "\t24 & No & No & 1215.15 & 51805.0 & 0.0 & 0.0 \\\\\n",
       "\t25 & No & Yes & 880.804 & 20436.4 & 0.0 & 1.0 \\\\\n",
       "\t26 & No & Yes & 322.267 & 19231.9 & 0.0 & 1.0 \\\\\n",
       "\t27 & No & No & 541.997 & 43873.3 & 0.0 & 0.0 \\\\\n",
       "\t28 & No & No & 503.302 & 37749.5 & 0.0 & 0.0 \\\\\n",
       "\t29 & No & No & 1028.52 & 47944.6 & 0.0 & 0.0 \\\\\n",
       "\t30 & Yes & No & 1374.47 & 35805.7 & 1.0 & 0.0 \\\\\n",
       "\t$\\dots$ & $\\dots$ & $\\dots$ & $\\dots$ & $\\dots$ & $\\dots$ & $\\dots$ \\\\\n",
       "\\end{tabular}\n"
      ],
      "text/plain": [
       "2000×6 DataFrame. Omitted printing of 1 columns\n",
       "│ Row  │ Default      │ Student      │ Balance │ Income  │ DefaultNum │\n",
       "│      │ \u001b[90mCategorical…\u001b[39m │ \u001b[90mCategorical…\u001b[39m │ \u001b[90mFloat64\u001b[39m │ \u001b[90mFloat64\u001b[39m │ \u001b[90mFloat64\u001b[39m    │\n",
       "├──────┼──────────────┼──────────────┼─────────┼─────────┼────────────┤\n",
       "│ 1    │ No           │ No           │ 1053.38 │ 39612.7 │ 0.0        │\n",
       "│ 2    │ Yes          │ Yes          │ 2216.02 │ 20911.7 │ 1.0        │\n",
       "│ 3    │ No           │ Yes          │ 1115.54 │ 22552.7 │ 0.0        │\n",
       "│ 4    │ No           │ No           │ 314.459 │ 40016.5 │ 0.0        │\n",
       "│ 5    │ No           │ No           │ 1118.22 │ 32632.9 │ 0.0        │\n",
       "│ 6    │ No           │ No           │ 771.174 │ 45956.8 │ 0.0        │\n",
       "│ 7    │ No           │ No           │ 928.965 │ 46709.5 │ 0.0        │\n",
       "│ 8    │ No           │ No           │ 689.687 │ 24085.4 │ 0.0        │\n",
       "│ 9    │ No           │ No           │ 515.943 │ 50678.3 │ 0.0        │\n",
       "│ 10   │ No           │ No           │ 1232.23 │ 50731.9 │ 0.0        │\n",
       "⋮\n",
       "│ 1990 │ No           │ No           │ 528.867 │ 38881.5 │ 0.0        │\n",
       "│ 1991 │ No           │ Yes          │ 1321.33 │ 20302.2 │ 0.0        │\n",
       "│ 1992 │ No           │ Yes          │ 757.407 │ 25309.8 │ 0.0        │\n",
       "│ 1993 │ No           │ Yes          │ 343.799 │ 19971.8 │ 0.0        │\n",
       "│ 1994 │ No           │ No           │ 915.075 │ 23682.9 │ 0.0        │\n",
       "│ 1995 │ No           │ No           │ 903.616 │ 20444.4 │ 0.0        │\n",
       "│ 1996 │ No           │ No           │ 587.754 │ 38885.7 │ 0.0        │\n",
       "│ 1997 │ No           │ Yes          │ 1579.07 │ 21101.2 │ 0.0        │\n",
       "│ 1998 │ No           │ Yes          │ 1232.59 │ 22108.6 │ 0.0        │\n",
       "│ 1999 │ No           │ Yes          │ 1401.19 │ 17688.9 │ 0.0        │\n",
       "│ 2000 │ No           │ Yes          │ 953.626 │ 18363.1 │ 0.0        │"
      ]
     },
     "execution_count": 24,
     "metadata": {},
     "output_type": "execute_result"
    }
   ],
   "source": [
    "train = data[train_ind, :]\n",
    "test = data[test_ind, :]"
   ]
  },
  {
   "cell_type": "markdown",
   "metadata": {},
   "source": [
    "## 羅吉斯迴歸模型"
   ]
  },
  {
   "cell_type": "code",
   "execution_count": 25,
   "metadata": {},
   "outputs": [
    {
     "data": {
      "text/plain": [
       "StatsModels.TableRegressionModel{GeneralizedLinearModel{GLM.GlmResp{Array{Float64,1},Binomial{Float64},LogitLink},GLM.DensePredChol{Float64,LinearAlgebra.Cholesky{Float64,Array{Float64,2}}}},Array{Float64,2}}\n",
       "\n",
       "DefaultNum ~ 1 + Balance + Income\n",
       "\n",
       "Coefficients:\n",
       "───────────────────────────────────────────────────────────────────────────────────────\n",
       "                 Estimate   Std. Error    z value  Pr(>|z|)     Lower 95%     Upper 95%\n",
       "───────────────────────────────────────────────────────────────────────────────────────\n",
       "(Intercept)  -11.1737      0.473443     -23.601      <1e-99  -12.1017      -10.2458\n",
       "Balance        0.0054785   0.000249179   21.9862     <1e-99    0.00499012    0.00596688\n",
       "Income         1.62443e-5  5.5792e-6      2.91159    0.0036    5.3093e-6     2.71794e-5\n",
       "───────────────────────────────────────────────────────────────────────────────────────"
      ]
     },
     "execution_count": 25,
     "metadata": {},
     "output_type": "execute_result"
    }
   ],
   "source": [
    "logreg = glm(@formula(DefaultNum ~ Balance + Income), train, Binomial(), LogitLink())"
   ]
  },
  {
   "cell_type": "markdown",
   "metadata": {},
   "source": [
    "## 預測"
   ]
  },
  {
   "cell_type": "code",
   "execution_count": 26,
   "metadata": {},
   "outputs": [
    {
     "data": {
      "text/plain": [
       "2000-element Array{Union{Missing, Float64},1}:\n",
       " 0.008498472577504614\n",
       " 0.7869126656003969\n",
       " 0.009050198605739045\n",
       " 0.00015057024051665313\n",
       " 0.010798749691920016\n",
       " 0.0020206306048125757\n",
       " 0.004841697843258375\n",
       " 0.000907388896776532\n",
       " 0.0005397269869524729\n",
       " 0.026627085724412084\n",
       " 0.0014251734738337575\n",
       " 0.008454322476141992\n",
       " 0.03069328126397634\n",
       " ⋮\n",
       " 0.0004526670122673315\n",
       " 0.00047832958565123643\n",
       " 0.026466891697286464\n",
       " 0.0013408090168516454\n",
       " 0.00012768622120569377\n",
       " 0.003092177427408063\n",
       " 0.002756121985921085\n",
       " 0.0006603666217985933\n",
       " 0.10155915212510036\n",
       " 0.016925729574436225\n",
       " 0.038792919164112365\n",
       " 0.0035017036557863463"
      ]
     },
     "execution_count": 26,
     "metadata": {},
     "output_type": "execute_result"
    }
   ],
   "source": [
    "pred = predict(logreg, test)"
   ]
  },
  {
   "cell_type": "markdown",
   "metadata": {},
   "source": [
    "## 模型評估"
   ]
  },
  {
   "cell_type": "code",
   "execution_count": 27,
   "metadata": {},
   "outputs": [
    {
     "data": {
      "text/plain": [
       "accuracy (generic function with 1 method)"
      ]
     },
     "execution_count": 27,
     "metadata": {},
     "output_type": "execute_result"
    }
   ],
   "source": [
    "error(x, y) = ((x > 0.5) ? 1.0 : 0.0) == y\n",
    "accuracy(xs, ys) = mean(error.(xs, ys))"
   ]
  },
  {
   "cell_type": "code",
   "execution_count": 28,
   "metadata": {},
   "outputs": [
    {
     "data": {
      "text/plain": [
       "0.971"
      ]
     },
     "execution_count": 28,
     "metadata": {},
     "output_type": "execute_result"
    }
   ],
   "source": [
    "accuracy(pred, test[!, :DefaultNum])"
   ]
  },
  {
   "cell_type": "code",
   "execution_count": null,
   "metadata": {},
   "outputs": [],
   "source": []
  }
 ],
 "metadata": {
  "kernelspec": {
   "display_name": "Julia 1.4.0",
   "language": "julia",
   "name": "julia-1.4"
  },
  "language_info": {
   "file_extension": ".jl",
   "mimetype": "application/julia",
   "name": "julia",
   "version": "1.4.0"
  }
 },
 "nbformat": 4,
 "nbformat_minor": 4
}
