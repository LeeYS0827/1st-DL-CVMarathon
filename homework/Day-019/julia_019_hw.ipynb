{
 "cells": [
  {
   "cell_type": "markdown",
   "metadata": {
    "colab_type": "text",
    "id": "CymtLvLsl4iT"
   },
   "source": [
    "## Day 019 作業：DataFrame 的排序及顯示\n",
    "\n",
    "同 Day 017，請載入 2020/4/2 COVID-19 Daily Report 資料集，計算每個國家/區域的累計確診人數。\n",
    "\n",
    "請依確診案例數，列出截至4月2日為止 (UTC 時間)，確診案例最多的10個國家/區域。"
   ]
  },
  {
   "cell_type": "code",
   "execution_count": 1,
   "metadata": {
    "colab": {},
    "colab_type": "code",
    "id": "czd81DRQl4iW"
   },
   "outputs": [],
   "source": [
    "using DataFrames, CSV"
   ]
  },
  {
   "cell_type": "code",
   "execution_count": 5,
   "metadata": {
    "colab": {},
    "colab_type": "code",
    "id": "sLp0Kx89l4ic"
   },
   "outputs": [
    {
     "data": {
      "text/html": [
       "<table class=\"data-frame\"><thead><tr><th></th><th>FIPS</th><th>Admin2</th><th>Province_State</th><th>Country_Region</th><th>Last_Update</th><th>Lat</th></tr><tr><th></th><th>Int64⍰</th><th>String⍰</th><th>String⍰</th><th>String</th><th>String</th><th>Float64⍰</th></tr></thead><tbody><p>10 rows × 12 columns (omitted printing of 6 columns)</p><tr><th>1</th><td>45001</td><td>Abbeville</td><td>South Carolina</td><td>US</td><td>2020-04-02 23:25:27</td><td>34.2233</td></tr><tr><th>2</th><td>22001</td><td>Acadia</td><td>Louisiana</td><td>US</td><td>2020-04-02 23:25:27</td><td>30.2951</td></tr><tr><th>3</th><td>51001</td><td>Accomack</td><td>Virginia</td><td>US</td><td>2020-04-02 23:25:27</td><td>37.7671</td></tr><tr><th>4</th><td>16001</td><td>Ada</td><td>Idaho</td><td>US</td><td>2020-04-02 23:25:27</td><td>43.4527</td></tr><tr><th>5</th><td>19001</td><td>Adair</td><td>Iowa</td><td>US</td><td>2020-04-02 23:25:27</td><td>41.3308</td></tr><tr><th>6</th><td>29001</td><td>Adair</td><td>Missouri</td><td>US</td><td>2020-04-02 23:25:27</td><td>40.1906</td></tr><tr><th>7</th><td>40001</td><td>Adair</td><td>Oklahoma</td><td>US</td><td>2020-04-02 23:25:27</td><td>35.8849</td></tr><tr><th>8</th><td>8001</td><td>Adams</td><td>Colorado</td><td>US</td><td>2020-04-02 23:25:27</td><td>39.8743</td></tr><tr><th>9</th><td>16003</td><td>Adams</td><td>Idaho</td><td>US</td><td>2020-04-02 23:25:27</td><td>44.8933</td></tr><tr><th>10</th><td>17001</td><td>Adams</td><td>Illinois</td><td>US</td><td>2020-04-02 23:25:27</td><td>39.9882</td></tr></tbody></table>"
      ],
      "text/latex": [
       "\\begin{tabular}{r|ccccccc}\n",
       "\t& FIPS & Admin2 & Province\\_State & Country\\_Region & Last\\_Update & Lat & \\\\\n",
       "\t\\hline\n",
       "\t& Int64⍰ & String⍰ & String⍰ & String & String & Float64⍰ & \\\\\n",
       "\t\\hline\n",
       "\t1 & 45001 & Abbeville & South Carolina & US & 2020-04-02 23:25:27 & 34.2233 & $\\dots$ \\\\\n",
       "\t2 & 22001 & Acadia & Louisiana & US & 2020-04-02 23:25:27 & 30.2951 & $\\dots$ \\\\\n",
       "\t3 & 51001 & Accomack & Virginia & US & 2020-04-02 23:25:27 & 37.7671 & $\\dots$ \\\\\n",
       "\t4 & 16001 & Ada & Idaho & US & 2020-04-02 23:25:27 & 43.4527 & $\\dots$ \\\\\n",
       "\t5 & 19001 & Adair & Iowa & US & 2020-04-02 23:25:27 & 41.3308 & $\\dots$ \\\\\n",
       "\t6 & 29001 & Adair & Missouri & US & 2020-04-02 23:25:27 & 40.1906 & $\\dots$ \\\\\n",
       "\t7 & 40001 & Adair & Oklahoma & US & 2020-04-02 23:25:27 & 35.8849 & $\\dots$ \\\\\n",
       "\t8 & 8001 & Adams & Colorado & US & 2020-04-02 23:25:27 & 39.8743 & $\\dots$ \\\\\n",
       "\t9 & 16003 & Adams & Idaho & US & 2020-04-02 23:25:27 & 44.8933 & $\\dots$ \\\\\n",
       "\t10 & 17001 & Adams & Illinois & US & 2020-04-02 23:25:27 & 39.9882 & $\\dots$ \\\\\n",
       "\\end{tabular}\n"
      ],
      "text/plain": [
       "10×12 DataFrame. Omitted printing of 8 columns\n",
       "│ Row │ FIPS   │ Admin2    │ Province_State │ Country_Region │\n",
       "│     │ \u001b[90mInt64⍰\u001b[39m │ \u001b[90mString⍰\u001b[39m   │ \u001b[90mString⍰\u001b[39m        │ \u001b[90mString\u001b[39m         │\n",
       "├─────┼────────┼───────────┼────────────────┼────────────────┤\n",
       "│ 1   │ 45001  │ Abbeville │ South Carolina │ US             │\n",
       "│ 2   │ 22001  │ Acadia    │ Louisiana      │ US             │\n",
       "│ 3   │ 51001  │ Accomack  │ Virginia       │ US             │\n",
       "│ 4   │ 16001  │ Ada       │ Idaho          │ US             │\n",
       "│ 5   │ 19001  │ Adair     │ Iowa           │ US             │\n",
       "│ 6   │ 29001  │ Adair     │ Missouri       │ US             │\n",
       "│ 7   │ 40001  │ Adair     │ Oklahoma       │ US             │\n",
       "│ 8   │ 8001   │ Adams     │ Colorado       │ US             │\n",
       "│ 9   │ 16003  │ Adams     │ Idaho          │ US             │\n",
       "│ 10  │ 17001  │ Adams     │ Illinois       │ US             │"
      ]
     },
     "execution_count": 5,
     "metadata": {},
     "output_type": "execute_result"
    }
   ],
   "source": [
    "df = CSV.read(\"../../data/04-02-2020.csv\")\n",
    "first(df, 10)"
   ]
  },
  {
   "cell_type": "code",
   "execution_count": 20,
   "metadata": {
    "colab": {},
    "colab_type": "code",
    "id": "XFKjf3bVl4ih"
   },
   "outputs": [
    {
     "data": {
      "text/html": [
       "<table class=\"data-frame\"><thead><tr><th></th><th>Country_Region</th><th>Confirmed_sum</th></tr><tr><th></th><th>String</th><th>Int64</th></tr></thead><tbody><p>10 rows × 2 columns</p><tr><th>1</th><td>US</td><td>243453</td></tr><tr><th>2</th><td>Italy</td><td>115242</td></tr><tr><th>3</th><td>Spain</td><td>112065</td></tr><tr><th>4</th><td>Germany</td><td>84794</td></tr><tr><th>5</th><td>China</td><td>82432</td></tr><tr><th>6</th><td>France</td><td>59929</td></tr><tr><th>7</th><td>Iran</td><td>50468</td></tr><tr><th>8</th><td>United Kingdom</td><td>34173</td></tr><tr><th>9</th><td>Switzerland</td><td>18827</td></tr><tr><th>10</th><td>Turkey</td><td>18135</td></tr></tbody></table>"
      ],
      "text/latex": [
       "\\begin{tabular}{r|cc}\n",
       "\t& Country\\_Region & Confirmed\\_sum\\\\\n",
       "\t\\hline\n",
       "\t& String & Int64\\\\\n",
       "\t\\hline\n",
       "\t1 & US & 243453 \\\\\n",
       "\t2 & Italy & 115242 \\\\\n",
       "\t3 & Spain & 112065 \\\\\n",
       "\t4 & Germany & 84794 \\\\\n",
       "\t5 & China & 82432 \\\\\n",
       "\t6 & France & 59929 \\\\\n",
       "\t7 & Iran & 50468 \\\\\n",
       "\t8 & United Kingdom & 34173 \\\\\n",
       "\t9 & Switzerland & 18827 \\\\\n",
       "\t10 & Turkey & 18135 \\\\\n",
       "\\end{tabular}\n"
      ],
      "text/plain": [
       "10×2 DataFrame\n",
       "│ Row │ Country_Region │ Confirmed_sum │\n",
       "│     │ \u001b[90mString\u001b[39m         │ \u001b[90mInt64\u001b[39m         │\n",
       "├─────┼────────────────┼───────────────┤\n",
       "│ 1   │ US             │ 243453        │\n",
       "│ 2   │ Italy          │ 115242        │\n",
       "│ 3   │ Spain          │ 112065        │\n",
       "│ 4   │ Germany        │ 84794         │\n",
       "│ 5   │ China          │ 82432         │\n",
       "│ 6   │ France         │ 59929         │\n",
       "│ 7   │ Iran           │ 50468         │\n",
       "│ 8   │ United Kingdom │ 34173         │\n",
       "│ 9   │ Switzerland    │ 18827         │\n",
       "│ 10  │ Turkey         │ 18135         │"
      ]
     },
     "execution_count": 20,
     "metadata": {},
     "output_type": "execute_result"
    }
   ],
   "source": [
    "# 請在此輸入程式碼\n",
    "df_sorted = sort(by(df, :Country_Region, :Confirmed => sum), :Confirmed_sum, rev = true)\n",
    "first(df_sorted, 10)"
   ]
  },
  {
   "cell_type": "code",
   "execution_count": null,
   "metadata": {},
   "outputs": [],
   "source": []
  }
 ],
 "metadata": {
  "colab": {
   "name": "julia_019_hw.ipynb",
   "provenance": []
  },
  "kernelspec": {
   "display_name": "Julia 1.4.0",
   "language": "julia",
   "name": "julia-1.4"
  },
  "language_info": {
   "file_extension": ".jl",
   "mimetype": "application/julia",
   "name": "julia",
   "version": "1.4.0"
  }
 },
 "nbformat": 4,
 "nbformat_minor": 4
}
