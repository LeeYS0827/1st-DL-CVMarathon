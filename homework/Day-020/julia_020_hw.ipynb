{
 "cells": [
  {
   "cell_type": "markdown",
   "metadata": {
    "colab_type": "text",
    "id": "EVPW4kLCmaSc"
   },
   "source": [
    "## Day 20 作業：將 missing 值替代為其他值\n",
    "\n",
    "由於現實世界中的資料可能有缺漏，因此資料中就會有 missing 值存在，而在資料科學及機器學習中，缺漏值的處理關係到分析或預測的結果。\n",
    "\n",
    "在今天的作業中，請將資料集中的年齡缺漏值，依性別分別替換為資料集中男性或女性的年齡平均值。\n",
    "\n",
    "本次作業使用的資料集：Kaggle Titanic: Machine Learning from Disaster 的 train 資料集\n",
    "\n",
    "競賽主頁：[https://www.kaggle.com/c/titanic/overview](https://www.kaggle.com/c/titanic/overview)\n",
    "\n",
    "請自行下載資料集 **train.csv**：[https://www.kaggle.com/c/titanic/data](https://www.kaggle.com/c/titanic/data)"
   ]
  },
  {
   "cell_type": "code",
   "execution_count": 1,
   "metadata": {
    "colab": {},
    "colab_type": "code",
    "id": "eeWlfZJSmaSe"
   },
   "outputs": [],
   "source": [
    "using DataFrames, CSV"
   ]
  },
  {
   "cell_type": "code",
   "execution_count": 2,
   "metadata": {
    "colab": {},
    "colab_type": "code",
    "id": "IkfIcUkjmaTS",
    "outputId": "7c455008-ef6c-410c-a8ba-1ad7c6edbb2d"
   },
   "outputs": [
    {
     "name": "stderr",
     "output_type": "stream",
     "text": [
      "┌ Warning: `getindex(df::DataFrame, col_inds::Union{AbstractVector, Regex, Not})` is deprecated, use `df[:, col_inds]` instead.\n",
      "│   caller = top-level scope at In[2]:2\n",
      "└ @ Core In[2]:2\n"
     ]
    },
    {
     "name": "stdout",
     "output_type": "stream",
     "text": [
      "891×5 DataFrame\n",
      "│ Row │ PassengerId │ Survived │ Pclass │\n",
      "│     │ \u001b[90mInt64\u001b[39m       │ \u001b[90mInt64\u001b[39m    │ \u001b[90mInt64\u001b[39m  │\n",
      "├─────┼─────────────┼──────────┼────────┤\n",
      "│ 1   │ 1           │ 0        │ 3      │\n",
      "│ 2   │ 2           │ 1        │ 1      │\n",
      "│ 3   │ 3           │ 1        │ 3      │\n",
      "│ 4   │ 4           │ 1        │ 1      │\n",
      "│ 5   │ 5           │ 0        │ 3      │\n",
      "│ 6   │ 6           │ 0        │ 3      │\n",
      "│ 7   │ 7           │ 0        │ 1      │\n",
      "│ 8   │ 8           │ 0        │ 3      │\n",
      "│ 9   │ 9           │ 1        │ 3      │\n",
      "│ 10  │ 10          │ 1        │ 2      │\n",
      "⋮\n",
      "│ 881 │ 881         │ 1        │ 2      │\n",
      "│ 882 │ 882         │ 0        │ 3      │\n",
      "│ 883 │ 883         │ 0        │ 3      │\n",
      "│ 884 │ 884         │ 0        │ 2      │\n",
      "│ 885 │ 885         │ 0        │ 3      │\n",
      "│ 886 │ 886         │ 0        │ 3      │\n",
      "│ 887 │ 887         │ 0        │ 2      │\n",
      "│ 888 │ 888         │ 1        │ 1      │\n",
      "│ 889 │ 889         │ 0        │ 3      │\n",
      "│ 890 │ 890         │ 1        │ 1      │\n",
      "│ 891 │ 891         │ 0        │ 3      │\n",
      "\n",
      "│ Row │ Name                                                │ Sex    │\n",
      "│     │ \u001b[90mString\u001b[39m                                              │ \u001b[90mString\u001b[39m │\n",
      "├─────┼─────────────────────────────────────────────────────┼────────┤\n",
      "│ 1   │ Braund, Mr. Owen Harris                             │ male   │\n",
      "│ 2   │ Cumings, Mrs. John Bradley (Florence Briggs Thayer) │ female │\n",
      "│ 3   │ Heikkinen, Miss. Laina                              │ female │\n",
      "│ 4   │ Futrelle, Mrs. Jacques Heath (Lily May Peel)        │ female │\n",
      "│ 5   │ Allen, Mr. William Henry                            │ male   │\n",
      "│ 6   │ Moran, Mr. James                                    │ male   │\n",
      "│ 7   │ McCarthy, Mr. Timothy J                             │ male   │\n",
      "│ 8   │ Palsson, Master. Gosta Leonard                      │ male   │\n",
      "│ 9   │ Johnson, Mrs. Oscar W (Elisabeth Vilhelmina Berg)   │ female │\n",
      "│ 10  │ Nasser, Mrs. Nicholas (Adele Achem)                 │ female │\n",
      "⋮\n",
      "│ 881 │ Shelley, Mrs. William (Imanita Parrish Hall)        │ female │\n",
      "│ 882 │ Markun, Mr. Johann                                  │ male   │\n",
      "│ 883 │ Dahlberg, Miss. Gerda Ulrika                        │ female │\n",
      "│ 884 │ Banfield, Mr. Frederick James                       │ male   │\n",
      "│ 885 │ Sutehall, Mr. Henry Jr                              │ male   │\n",
      "│ 886 │ Rice, Mrs. William (Margaret Norton)                │ female │\n",
      "│ 887 │ Montvila, Rev. Juozas                               │ male   │\n",
      "│ 888 │ Graham, Miss. Margaret Edith                        │ female │\n",
      "│ 889 │ Johnston, Miss. Catherine Helen \"Carrie\"            │ female │\n",
      "│ 890 │ Behr, Mr. Karl Howell                               │ male   │\n",
      "│ 891 │ Dooley, Mr. Patrick                                 │ male   │"
     ]
    }
   ],
   "source": [
    "df = CSV.read(\"train.csv\")\n",
    "show(df[1:5], allcols=true)"
   ]
  },
  {
   "cell_type": "code",
   "execution_count": 3,
   "metadata": {
    "colab": {},
    "colab_type": "code",
    "id": "otCGP_AtmaTm",
    "outputId": "3ff0bb8d-1103-47d8-fe43-47f18622f8c5"
   },
   "outputs": [
    {
     "data": {
      "text/plain": [
       "(891, 12)"
      ]
     },
     "execution_count": 3,
     "metadata": {},
     "output_type": "execute_result"
    }
   ],
   "source": [
    "size(df)"
   ]
  },
  {
   "cell_type": "markdown",
   "metadata": {
    "colab_type": "text",
    "id": "3JwkiUhYmaT5"
   },
   "source": [
    "呼叫 `describe()` 函式時，加上 `:nmissing` 參數，顯示各 column 的 missing 值數目。\n",
    "\n",
    "可以看到 Age 共有 177 個缺漏值。"
   ]
  },
  {
   "cell_type": "code",
   "execution_count": 4,
   "metadata": {
    "colab": {},
    "colab_type": "code",
    "id": "QWT4tm45maT7",
    "outputId": "d0c6a1ae-b249-4a32-9284-c3ffd4910b96"
   },
   "outputs": [
    {
     "data": {
      "text/html": [
       "<table class=\"data-frame\"><thead><tr><th></th><th>variable</th><th>nmissing</th></tr><tr><th></th><th>Symbol</th><th>Union…</th></tr></thead><tbody><p>12 rows × 2 columns</p><tr><th>1</th><td>PassengerId</td><td></td></tr><tr><th>2</th><td>Survived</td><td></td></tr><tr><th>3</th><td>Pclass</td><td></td></tr><tr><th>4</th><td>Name</td><td></td></tr><tr><th>5</th><td>Sex</td><td></td></tr><tr><th>6</th><td>Age</td><td>177</td></tr><tr><th>7</th><td>SibSp</td><td></td></tr><tr><th>8</th><td>Parch</td><td></td></tr><tr><th>9</th><td>Ticket</td><td></td></tr><tr><th>10</th><td>Fare</td><td></td></tr><tr><th>11</th><td>Cabin</td><td>687</td></tr><tr><th>12</th><td>Embarked</td><td>2</td></tr></tbody></table>"
      ],
      "text/latex": [
       "\\begin{tabular}{r|cc}\n",
       "\t& variable & nmissing\\\\\n",
       "\t\\hline\n",
       "\t& Symbol & Union…\\\\\n",
       "\t\\hline\n",
       "\t1 & PassengerId &  \\\\\n",
       "\t2 & Survived &  \\\\\n",
       "\t3 & Pclass &  \\\\\n",
       "\t4 & Name &  \\\\\n",
       "\t5 & Sex &  \\\\\n",
       "\t6 & Age & 177 \\\\\n",
       "\t7 & SibSp &  \\\\\n",
       "\t8 & Parch &  \\\\\n",
       "\t9 & Ticket &  \\\\\n",
       "\t10 & Fare &  \\\\\n",
       "\t11 & Cabin & 687 \\\\\n",
       "\t12 & Embarked & 2 \\\\\n",
       "\\end{tabular}\n"
      ],
      "text/plain": [
       "12×2 DataFrame\n",
       "│ Row │ variable    │ nmissing │\n",
       "│     │ \u001b[90mSymbol\u001b[39m      │ \u001b[90mUnion…\u001b[39m   │\n",
       "├─────┼─────────────┼──────────┤\n",
       "│ 1   │ PassengerId │          │\n",
       "│ 2   │ Survived    │          │\n",
       "│ 3   │ Pclass      │          │\n",
       "│ 4   │ Name        │          │\n",
       "│ 5   │ Sex         │          │\n",
       "│ 6   │ Age         │ 177      │\n",
       "│ 7   │ SibSp       │          │\n",
       "│ 8   │ Parch       │          │\n",
       "│ 9   │ Ticket      │          │\n",
       "│ 10  │ Fare        │          │\n",
       "│ 11  │ Cabin       │ 687      │\n",
       "│ 12  │ Embarked    │ 2        │"
      ]
     },
     "execution_count": 4,
     "metadata": {},
     "output_type": "execute_result"
    }
   ],
   "source": [
    "describe(df, :nmissing)"
   ]
  },
  {
   "cell_type": "markdown",
   "metadata": {
    "colab_type": "text",
    "id": "feAkzNA-maUC"
   },
   "source": [
    "計算男性及女性的平均年齡。\n",
    "\n",
    "【提示】使用 `skipmissing()` 去掉缺漏值後，再計算平均值。"
   ]
  },
  {
   "cell_type": "code",
   "execution_count": 5,
   "metadata": {
    "colab": {},
    "colab_type": "code",
    "id": "wRiM0Gq_maUD"
   },
   "outputs": [],
   "source": [
    "using Statistics"
   ]
  },
  {
   "cell_type": "code",
   "execution_count": 6,
   "metadata": {},
   "outputs": [],
   "source": [
    "df_age_male = df[df[:, :Sex] .== \"male\", :Age];\n",
    "df_age_female = df[df[:, :Sex] .== \"female\", :Age];"
   ]
  },
  {
   "cell_type": "code",
   "execution_count": 7,
   "metadata": {
    "colab": {},
    "colab_type": "code",
    "id": "54yYKzADmaUM"
   },
   "outputs": [
    {
     "data": {
      "text/plain": [
       "30.72664459161148"
      ]
     },
     "execution_count": 7,
     "metadata": {},
     "output_type": "execute_result"
    }
   ],
   "source": [
    "male_age_avg = mean(skipmissing(df_age_male)) # 請輸入程式碼"
   ]
  },
  {
   "cell_type": "code",
   "execution_count": 8,
   "metadata": {
    "colab": {},
    "colab_type": "code",
    "id": "4w92N00-maUT"
   },
   "outputs": [
    {
     "data": {
      "text/plain": [
       "27.915708812260537"
      ]
     },
     "execution_count": 8,
     "metadata": {},
     "output_type": "execute_result"
    }
   ],
   "source": [
    "female_age_avg = mean(skipmissing(df_age_female)) # 請輸入程式碼"
   ]
  },
  {
   "cell_type": "markdown",
   "metadata": {
    "colab_type": "text",
    "id": "-O9fseP7maUa"
   },
   "source": [
    "將 Age column 中的 missing 值，依性別替換為上面計算出來的平均年齡值。\n",
    "\n",
    "【提示】可產生新的 column 來存放新的結果，而不取代掉原先的 Age column。"
   ]
  },
  {
   "cell_type": "code",
   "execution_count": 9,
   "metadata": {
    "colab": {},
    "colab_type": "code",
    "id": "UEtMiJrOmaUb"
   },
   "outputs": [
    {
     "data": {
      "text/html": [
       "<table class=\"data-frame\"><thead><tr><th></th><th>Sex</th><th>Age</th><th>New_Age</th></tr><tr><th></th><th>String</th><th>Float64⍰</th><th>Float64⍰</th></tr></thead><tbody><p>891 rows × 3 columns</p><tr><th>1</th><td>male</td><td>22.0</td><td>22.0</td></tr><tr><th>2</th><td>female</td><td>38.0</td><td>38.0</td></tr><tr><th>3</th><td>female</td><td>26.0</td><td>26.0</td></tr><tr><th>4</th><td>female</td><td>35.0</td><td>35.0</td></tr><tr><th>5</th><td>male</td><td>35.0</td><td>35.0</td></tr><tr><th>6</th><td>male</td><td>missing</td><td>30.7266</td></tr><tr><th>7</th><td>male</td><td>54.0</td><td>54.0</td></tr><tr><th>8</th><td>male</td><td>2.0</td><td>2.0</td></tr><tr><th>9</th><td>female</td><td>27.0</td><td>27.0</td></tr><tr><th>10</th><td>female</td><td>14.0</td><td>14.0</td></tr><tr><th>11</th><td>female</td><td>4.0</td><td>4.0</td></tr><tr><th>12</th><td>female</td><td>58.0</td><td>58.0</td></tr><tr><th>13</th><td>male</td><td>20.0</td><td>20.0</td></tr><tr><th>14</th><td>male</td><td>39.0</td><td>39.0</td></tr><tr><th>15</th><td>female</td><td>14.0</td><td>14.0</td></tr><tr><th>16</th><td>female</td><td>55.0</td><td>55.0</td></tr><tr><th>17</th><td>male</td><td>2.0</td><td>2.0</td></tr><tr><th>18</th><td>male</td><td>missing</td><td>30.7266</td></tr><tr><th>19</th><td>female</td><td>31.0</td><td>31.0</td></tr><tr><th>20</th><td>female</td><td>missing</td><td>27.9157</td></tr><tr><th>21</th><td>male</td><td>35.0</td><td>35.0</td></tr><tr><th>22</th><td>male</td><td>34.0</td><td>34.0</td></tr><tr><th>23</th><td>female</td><td>15.0</td><td>15.0</td></tr><tr><th>24</th><td>male</td><td>28.0</td><td>28.0</td></tr><tr><th>25</th><td>female</td><td>8.0</td><td>8.0</td></tr><tr><th>26</th><td>female</td><td>38.0</td><td>38.0</td></tr><tr><th>27</th><td>male</td><td>missing</td><td>30.7266</td></tr><tr><th>28</th><td>male</td><td>19.0</td><td>19.0</td></tr><tr><th>29</th><td>female</td><td>missing</td><td>27.9157</td></tr><tr><th>30</th><td>male</td><td>missing</td><td>30.7266</td></tr><tr><th>&vellip;</th><td>&vellip;</td><td>&vellip;</td><td>&vellip;</td></tr></tbody></table>"
      ],
      "text/latex": [
       "\\begin{tabular}{r|ccc}\n",
       "\t& Sex & Age & New\\_Age\\\\\n",
       "\t\\hline\n",
       "\t& String & Float64⍰ & Float64⍰\\\\\n",
       "\t\\hline\n",
       "\t1 & male & 22.0 & 22.0 \\\\\n",
       "\t2 & female & 38.0 & 38.0 \\\\\n",
       "\t3 & female & 26.0 & 26.0 \\\\\n",
       "\t4 & female & 35.0 & 35.0 \\\\\n",
       "\t5 & male & 35.0 & 35.0 \\\\\n",
       "\t6 & male &  & 30.7266 \\\\\n",
       "\t7 & male & 54.0 & 54.0 \\\\\n",
       "\t8 & male & 2.0 & 2.0 \\\\\n",
       "\t9 & female & 27.0 & 27.0 \\\\\n",
       "\t10 & female & 14.0 & 14.0 \\\\\n",
       "\t11 & female & 4.0 & 4.0 \\\\\n",
       "\t12 & female & 58.0 & 58.0 \\\\\n",
       "\t13 & male & 20.0 & 20.0 \\\\\n",
       "\t14 & male & 39.0 & 39.0 \\\\\n",
       "\t15 & female & 14.0 & 14.0 \\\\\n",
       "\t16 & female & 55.0 & 55.0 \\\\\n",
       "\t17 & male & 2.0 & 2.0 \\\\\n",
       "\t18 & male &  & 30.7266 \\\\\n",
       "\t19 & female & 31.0 & 31.0 \\\\\n",
       "\t20 & female &  & 27.9157 \\\\\n",
       "\t21 & male & 35.0 & 35.0 \\\\\n",
       "\t22 & male & 34.0 & 34.0 \\\\\n",
       "\t23 & female & 15.0 & 15.0 \\\\\n",
       "\t24 & male & 28.0 & 28.0 \\\\\n",
       "\t25 & female & 8.0 & 8.0 \\\\\n",
       "\t26 & female & 38.0 & 38.0 \\\\\n",
       "\t27 & male &  & 30.7266 \\\\\n",
       "\t28 & male & 19.0 & 19.0 \\\\\n",
       "\t29 & female &  & 27.9157 \\\\\n",
       "\t30 & male &  & 30.7266 \\\\\n",
       "\t$\\dots$ & $\\dots$ & $\\dots$ & $\\dots$ \\\\\n",
       "\\end{tabular}\n"
      ],
      "text/plain": [
       "891×3 DataFrame\n",
       "│ Row │ Sex    │ Age      │ New_Age  │\n",
       "│     │ \u001b[90mString\u001b[39m │ \u001b[90mFloat64⍰\u001b[39m │ \u001b[90mFloat64⍰\u001b[39m │\n",
       "├─────┼────────┼──────────┼──────────┤\n",
       "│ 1   │ male   │ 22.0     │ 22.0     │\n",
       "│ 2   │ female │ 38.0     │ 38.0     │\n",
       "│ 3   │ female │ 26.0     │ 26.0     │\n",
       "│ 4   │ female │ 35.0     │ 35.0     │\n",
       "│ 5   │ male   │ 35.0     │ 35.0     │\n",
       "│ 6   │ male   │ \u001b[90mmissing\u001b[39m  │ 30.7266  │\n",
       "│ 7   │ male   │ 54.0     │ 54.0     │\n",
       "│ 8   │ male   │ 2.0      │ 2.0      │\n",
       "│ 9   │ female │ 27.0     │ 27.0     │\n",
       "│ 10  │ female │ 14.0     │ 14.0     │\n",
       "⋮\n",
       "│ 881 │ female │ 25.0     │ 25.0     │\n",
       "│ 882 │ male   │ 33.0     │ 33.0     │\n",
       "│ 883 │ female │ 22.0     │ 22.0     │\n",
       "│ 884 │ male   │ 28.0     │ 28.0     │\n",
       "│ 885 │ male   │ 25.0     │ 25.0     │\n",
       "│ 886 │ female │ 39.0     │ 39.0     │\n",
       "│ 887 │ male   │ 27.0     │ 27.0     │\n",
       "│ 888 │ female │ 19.0     │ 19.0     │\n",
       "│ 889 │ female │ \u001b[90mmissing\u001b[39m  │ 27.9157  │\n",
       "│ 890 │ male   │ 26.0     │ 26.0     │\n",
       "│ 891 │ male   │ 32.0     │ 32.0     │"
      ]
     },
     "execution_count": 9,
     "metadata": {},
     "output_type": "execute_result"
    }
   ],
   "source": [
    "# 請輸入程式碼\n",
    "df.New_Age = df[:, :Age];\n",
    "df.New_Age[df.Sex .== \"male\"]   = coalesce.(df.New_Age[df.Sex .== \"male\"],   male_age_avg);\n",
    "df.New_Age[df.Sex .== \"female\"] = coalesce.(df.New_Age[df.Sex .== \"female\"], female_age_avg);\n",
    "df[:, [:Sex, :Age, :New_Age]]"
   ]
  }
 ],
 "metadata": {
  "colab": {
   "name": "julia_020_hw.ipynb",
   "provenance": []
  },
  "kernelspec": {
   "display_name": "Julia 1.4.0",
   "language": "julia",
   "name": "julia-1.4"
  },
  "language_info": {
   "file_extension": ".jl",
   "mimetype": "application/julia",
   "name": "julia",
   "version": "1.4.0"
  }
 },
 "nbformat": 4,
 "nbformat_minor": 4
}
